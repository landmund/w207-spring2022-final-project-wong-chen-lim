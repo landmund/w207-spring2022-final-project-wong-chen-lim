{
 "cells": [
  {
   "cell_type": "code",
   "execution_count": 1,
   "id": "8bd49c52",
   "metadata": {
    "_cell_guid": "b1076dfc-b9ad-4769-8c92-a6c4dae69d19",
    "_uuid": "8f2839f25d086af736a60e9eeb907d3b93b6e0e5",
    "execution": {
     "iopub.execute_input": "2022-02-23T10:07:20.815917Z",
     "iopub.status.busy": "2022-02-23T10:07:20.815007Z",
     "iopub.status.idle": "2022-02-23T10:07:47.794838Z",
     "shell.execute_reply": "2022-02-23T10:07:47.795288Z",
     "shell.execute_reply.started": "2022-02-23T08:55:55.530850Z"
    },
    "papermill": {
     "duration": 27.045322,
     "end_time": "2022-02-23T10:07:47.795675",
     "exception": false,
     "start_time": "2022-02-23T10:07:20.750353",
     "status": "completed"
    },
    "tags": []
   },
   "outputs": [
    {
     "name": "stdout",
     "output_type": "stream",
     "text": [
      "/kaggle/input\n",
      "/kaggle/input/happy-whale-and-dolphin\n",
      "/kaggle/input/happy-whale-and-dolphin/train_images\n",
      "/kaggle/input/happy-whale-and-dolphin/test_images\n"
     ]
    }
   ],
   "source": [
    "# Input data files are available in the read-only \"../input/\" directory\n",
    "# For example, running this (by clicking run or pressing Shift+Enter) will list all files under the input directory\n",
    "\n",
    "import os\n",
    "for dirname, _, filenames in os.walk('/kaggle/input'):\n",
    "    print(dirname)\n",
    "#     for filename in filenames:\n",
    "#         print(os.path.join(dirname, filename))\n",
    "\n",
    "# You can write up to 20GB to the current directory (/kaggle/working/) that gets preserved as output when you create a version using \"Save & Run All\" \n",
    "# You can also write temporary files to /kaggle/temp/, but they won't be saved outside of the current session"
   ]
  },
  {
   "cell_type": "code",
   "execution_count": 2,
   "id": "18526414",
   "metadata": {
    "execution": {
     "iopub.execute_input": "2022-02-23T10:07:47.904481Z",
     "iopub.status.busy": "2022-02-23T10:07:47.903908Z",
     "iopub.status.idle": "2022-02-23T10:07:49.974018Z",
     "shell.execute_reply": "2022-02-23T10:07:49.973511Z",
     "shell.execute_reply.started": "2022-02-23T08:56:21.368834Z"
    },
    "papermill": {
     "duration": 2.12547,
     "end_time": "2022-02-23T10:07:49.974161",
     "exception": false,
     "start_time": "2022-02-23T10:07:47.848691",
     "status": "completed"
    },
    "tags": []
   },
   "outputs": [
    {
     "data": {
      "text/html": [
       "<style type='text/css'>\n",
       ".datatable table.frame { margin-bottom: 0; }\n",
       ".datatable table.frame thead { border-bottom: none; }\n",
       ".datatable table.frame tr.coltypes td {  color: #FFFFFF;  line-height: 6px;  padding: 0 0.5em;}\n",
       ".datatable .bool    { background: #DDDD99; }\n",
       ".datatable .object  { background: #565656; }\n",
       ".datatable .int     { background: #5D9E5D; }\n",
       ".datatable .float   { background: #4040CC; }\n",
       ".datatable .str     { background: #CC4040; }\n",
       ".datatable .time    { background: #40CC40; }\n",
       ".datatable .row_index {  background: var(--jp-border-color3);  border-right: 1px solid var(--jp-border-color0);  color: var(--jp-ui-font-color3);  font-size: 9px;}\n",
       ".datatable .frame tbody td { text-align: left; }\n",
       ".datatable .frame tr.coltypes .row_index {  background: var(--jp-border-color0);}\n",
       ".datatable th:nth-child(2) { padding-left: 12px; }\n",
       ".datatable .hellipsis {  color: var(--jp-cell-editor-border-color);}\n",
       ".datatable .vellipsis {  background: var(--jp-layout-color0);  color: var(--jp-cell-editor-border-color);}\n",
       ".datatable .na {  color: var(--jp-cell-editor-border-color);  font-size: 80%;}\n",
       ".datatable .sp {  opacity: 0.25;}\n",
       ".datatable .footer { font-size: 9px; }\n",
       ".datatable .frame_dimensions {  background: var(--jp-border-color3);  border-top: 1px solid var(--jp-border-color0);  color: var(--jp-ui-font-color3);  display: inline-block;  opacity: 0.6;  padding: 1px 10px 1px 5px;}\n",
       "</style>\n"
      ],
      "text/plain": [
       "<IPython.core.display.HTML object>"
      ]
     },
     "metadata": {},
     "output_type": "display_data"
    }
   ],
   "source": [
    "import gc\n",
    "import glob\n",
    "import os\n",
    "\n",
    "import joblib\n",
    "import lightgbm as lgb\n",
    "import matplotlib.pyplot as plt\n",
    "import numpy as np\n",
    "import pandas as pd\n",
    "from sklearn.metrics import accuracy_score\n",
    "from sklearn.model_selection import train_test_split\n",
    "\n",
    "from contextlib import contextmanager\n",
    "from multiprocessing.pool import ThreadPool, Pool\n",
    "from joblib import Parallel, delayed\n",
    "import time\n",
    "\n",
    "%matplotlib inline"
   ]
  },
  {
   "cell_type": "markdown",
   "id": "cb883eb7",
   "metadata": {
    "papermill": {
     "duration": 0.056167,
     "end_time": "2022-02-23T10:07:50.083086",
     "exception": false,
     "start_time": "2022-02-23T10:07:50.026919",
     "status": "completed"
    },
    "tags": []
   },
   "source": [
    "# Exmplore the initial `train.csv` file"
   ]
  },
  {
   "cell_type": "code",
   "execution_count": 3,
   "id": "83f3e675",
   "metadata": {
    "execution": {
     "iopub.execute_input": "2022-02-23T10:07:50.201011Z",
     "iopub.status.busy": "2022-02-23T10:07:50.200282Z",
     "iopub.status.idle": "2022-02-23T10:07:50.352095Z",
     "shell.execute_reply": "2022-02-23T10:07:50.351401Z",
     "shell.execute_reply.started": "2022-02-23T08:59:35.087458Z"
    },
    "papermill": {
     "duration": 0.212001,
     "end_time": "2022-02-23T10:07:50.352233",
     "exception": false,
     "start_time": "2022-02-23T10:07:50.140232",
     "status": "completed"
    },
    "tags": []
   },
   "outputs": [],
   "source": [
    "CPUS = 4 # kaggle default - https://www.kaggle.com/product-feedback/64106\n",
    "happywhale_input_dir = \"/kaggle/input/happy-whale-and-dolphin\"\n",
    "train_csv_fn = \"train.csv\"\n",
    "# order by image jpg file and reset index to have deterministic index\n",
    "train_df = pd.read_csv(os.path.join(happywhale_input_dir, train_csv_fn)).sort_values('image').reset_index()\n",
    "\n",
    "train_df.species.replace({\"globis\": \"short_finned_pilot_whale\",\n",
    "                          \"pilot_whale\": \"short_finned_pilot_whale\",\n",
    "                          \"kiler_whale\": \"killer_whale\",\n",
    "                          \"bottlenose_dolpin\": \"bottlenose_dolphin\"}, inplace=True)"
   ]
  },
  {
   "cell_type": "code",
   "execution_count": 4,
   "id": "c96ed3b9",
   "metadata": {
    "execution": {
     "iopub.execute_input": "2022-02-23T10:07:50.466480Z",
     "iopub.status.busy": "2022-02-23T10:07:50.465852Z",
     "iopub.status.idle": "2022-02-23T10:07:50.487427Z",
     "shell.execute_reply": "2022-02-23T10:07:50.487939Z",
     "shell.execute_reply.started": "2022-02-23T08:59:35.977267Z"
    },
    "papermill": {
     "duration": 0.081756,
     "end_time": "2022-02-23T10:07:50.488152",
     "exception": false,
     "start_time": "2022-02-23T10:07:50.406396",
     "status": "completed"
    },
    "tags": []
   },
   "outputs": [
    {
     "name": "stdout",
     "output_type": "stream",
     "text": [
      "number of index: 51033\n",
      "number of image: 51033\n",
      "number of species: 26\n",
      "number of individual_id: 15587\n"
     ]
    }
   ],
   "source": [
    "for c in train_df.columns:\n",
    "    print('number of {}: {}'.format(c, len(train_df[c].unique())))\n"
   ]
  },
  {
   "cell_type": "markdown",
   "id": "52d1bb49",
   "metadata": {
    "papermill": {
     "duration": 0.054865,
     "end_time": "2022-02-23T10:07:50.595265",
     "exception": false,
     "start_time": "2022-02-23T10:07:50.540400",
     "status": "completed"
    },
    "tags": []
   },
   "source": [
    "There are 51033 images to process.\n",
    "\n",
    "First, let's see what the images look like.\n",
    "- are they all the same dimensions?\n",
    "- are they all rgb or are there some potential grayscale images?"
   ]
  },
  {
   "cell_type": "code",
   "execution_count": 5,
   "id": "4cb1f5e1",
   "metadata": {
    "execution": {
     "iopub.execute_input": "2022-02-23T10:07:50.704795Z",
     "iopub.status.busy": "2022-02-23T10:07:50.704102Z",
     "iopub.status.idle": "2022-02-23T10:07:50.721628Z",
     "shell.execute_reply": "2022-02-23T10:07:50.722138Z",
     "shell.execute_reply.started": "2022-02-23T08:59:37.188804Z"
    },
    "papermill": {
     "duration": 0.073374,
     "end_time": "2022-02-23T10:07:50.722325",
     "exception": false,
     "start_time": "2022-02-23T10:07:50.648951",
     "status": "completed"
    },
    "tags": []
   },
   "outputs": [
    {
     "data": {
      "text/html": [
       "<div>\n",
       "<style scoped>\n",
       "    .dataframe tbody tr th:only-of-type {\n",
       "        vertical-align: middle;\n",
       "    }\n",
       "\n",
       "    .dataframe tbody tr th {\n",
       "        vertical-align: top;\n",
       "    }\n",
       "\n",
       "    .dataframe thead th {\n",
       "        text-align: right;\n",
       "    }\n",
       "</style>\n",
       "<table border=\"1\" class=\"dataframe\">\n",
       "  <thead>\n",
       "    <tr style=\"text-align: right;\">\n",
       "      <th></th>\n",
       "      <th>index</th>\n",
       "      <th>image</th>\n",
       "      <th>species</th>\n",
       "      <th>individual_id</th>\n",
       "    </tr>\n",
       "  </thead>\n",
       "  <tbody>\n",
       "    <tr>\n",
       "      <th>0</th>\n",
       "      <td>0</td>\n",
       "      <td>00021adfb725ed.jpg</td>\n",
       "      <td>melon_headed_whale</td>\n",
       "      <td>cadddb1636b9</td>\n",
       "    </tr>\n",
       "    <tr>\n",
       "      <th>1</th>\n",
       "      <td>1</td>\n",
       "      <td>000562241d384d.jpg</td>\n",
       "      <td>humpback_whale</td>\n",
       "      <td>1a71fbb72250</td>\n",
       "    </tr>\n",
       "    <tr>\n",
       "      <th>2</th>\n",
       "      <td>2</td>\n",
       "      <td>0007c33415ce37.jpg</td>\n",
       "      <td>false_killer_whale</td>\n",
       "      <td>60008f293a2b</td>\n",
       "    </tr>\n",
       "    <tr>\n",
       "      <th>3</th>\n",
       "      <td>3</td>\n",
       "      <td>0007d9bca26a99.jpg</td>\n",
       "      <td>bottlenose_dolphin</td>\n",
       "      <td>4b00fe572063</td>\n",
       "    </tr>\n",
       "    <tr>\n",
       "      <th>4</th>\n",
       "      <td>4</td>\n",
       "      <td>00087baf5cef7a.jpg</td>\n",
       "      <td>humpback_whale</td>\n",
       "      <td>8e5253662392</td>\n",
       "    </tr>\n",
       "    <tr>\n",
       "      <th>...</th>\n",
       "      <td>...</td>\n",
       "      <td>...</td>\n",
       "      <td>...</td>\n",
       "      <td>...</td>\n",
       "    </tr>\n",
       "    <tr>\n",
       "      <th>51028</th>\n",
       "      <td>51028</td>\n",
       "      <td>fff639a7a78b3f.jpg</td>\n",
       "      <td>beluga</td>\n",
       "      <td>5ac053677ed1</td>\n",
       "    </tr>\n",
       "    <tr>\n",
       "      <th>51029</th>\n",
       "      <td>51029</td>\n",
       "      <td>fff8b32daff17e.jpg</td>\n",
       "      <td>cuviers_beaked_whale</td>\n",
       "      <td>1184686361b3</td>\n",
       "    </tr>\n",
       "    <tr>\n",
       "      <th>51030</th>\n",
       "      <td>51030</td>\n",
       "      <td>fff94675cc1aef.jpg</td>\n",
       "      <td>blue_whale</td>\n",
       "      <td>5401612696b9</td>\n",
       "    </tr>\n",
       "    <tr>\n",
       "      <th>51031</th>\n",
       "      <td>51031</td>\n",
       "      <td>fffbc5dd642d8c.jpg</td>\n",
       "      <td>beluga</td>\n",
       "      <td>4000b3d7c24e</td>\n",
       "    </tr>\n",
       "    <tr>\n",
       "      <th>51032</th>\n",
       "      <td>51032</td>\n",
       "      <td>fffdcd42312777.jpg</td>\n",
       "      <td>bottlenose_dolphin</td>\n",
       "      <td>4ddb2eeb5efb</td>\n",
       "    </tr>\n",
       "  </tbody>\n",
       "</table>\n",
       "<p>51033 rows × 4 columns</p>\n",
       "</div>"
      ],
      "text/plain": [
       "       index               image               species individual_id\n",
       "0          0  00021adfb725ed.jpg    melon_headed_whale  cadddb1636b9\n",
       "1          1  000562241d384d.jpg        humpback_whale  1a71fbb72250\n",
       "2          2  0007c33415ce37.jpg    false_killer_whale  60008f293a2b\n",
       "3          3  0007d9bca26a99.jpg    bottlenose_dolphin  4b00fe572063\n",
       "4          4  00087baf5cef7a.jpg        humpback_whale  8e5253662392\n",
       "...      ...                 ...                   ...           ...\n",
       "51028  51028  fff639a7a78b3f.jpg                beluga  5ac053677ed1\n",
       "51029  51029  fff8b32daff17e.jpg  cuviers_beaked_whale  1184686361b3\n",
       "51030  51030  fff94675cc1aef.jpg            blue_whale  5401612696b9\n",
       "51031  51031  fffbc5dd642d8c.jpg                beluga  4000b3d7c24e\n",
       "51032  51032  fffdcd42312777.jpg    bottlenose_dolphin  4ddb2eeb5efb\n",
       "\n",
       "[51033 rows x 4 columns]"
      ]
     },
     "execution_count": 5,
     "metadata": {},
     "output_type": "execute_result"
    }
   ],
   "source": [
    "train_df"
   ]
  },
  {
   "cell_type": "markdown",
   "id": "042870ac",
   "metadata": {
    "papermill": {
     "duration": 0.052631,
     "end_time": "2022-02-23T10:07:50.827974",
     "exception": false,
     "start_time": "2022-02-23T10:07:50.775343",
     "status": "completed"
    },
    "tags": []
   },
   "source": [
    "# Processing the Images"
   ]
  },
  {
   "cell_type": "code",
   "execution_count": 6,
   "id": "364ec4d9",
   "metadata": {
    "execution": {
     "iopub.execute_input": "2022-02-23T10:07:50.939901Z",
     "iopub.status.busy": "2022-02-23T10:07:50.939248Z",
     "iopub.status.idle": "2022-02-23T10:07:51.535212Z",
     "shell.execute_reply": "2022-02-23T10:07:51.535630Z",
     "shell.execute_reply.started": "2022-02-23T08:59:41.976679Z"
    },
    "papermill": {
     "duration": 0.653487,
     "end_time": "2022-02-23T10:07:51.535834",
     "exception": false,
     "start_time": "2022-02-23T10:07:50.882347",
     "status": "completed"
    },
    "tags": []
   },
   "outputs": [],
   "source": [
    "from skimage.io import imread\n",
    "from skimage.transform import resize\n",
    "from skimage.color import rgb2gray, gray2rgb\n",
    "import matplotlib.pyplot as plt\n",
    "\n",
    "def convert_image_to_ndarray(img_path, output_size=(256,256), color='normalize_gray'):\n",
    "    '''\n",
    "    reads the `img_path` and converts it to a numpy array of size `output_size`\n",
    "    Supported Options for `color`:\n",
    "    - 'normalize_gray'\n",
    "    - 'raw_rgb'\n",
    "    \n",
    "    Returns the \n",
    "    1. normalized and standardized image\n",
    "    2. aspect ratio of the original image\n",
    "    '''\n",
    "    # read input\n",
    "    im = imread(img_path)\n",
    "    if output_size == None:\n",
    "        return im\n",
    "    aspect_ratio = float(im.shape[1] / im.shape[0])\n",
    "    resized_im = resize(im, output_size)\n",
    "    if color == 'raw_rgb':\n",
    "        return resized_im, aspect_ratio\n",
    "    elif color == 'normalize_gray':\n",
    "        # if image only has 2 channels, it's already grayscale\n",
    "        if len(resized_im.shape) == 2:\n",
    "            return resized_im / np.max(resized_im), aspect_ratio\n",
    "        # if image has 3 channels. it's rgb and needs to be converted to grayscale\n",
    "        elif len(resized_im.shape) == 3:\n",
    "            gray_img = rgb2gray(resized_im)\n",
    "            # Now normalize gray image\n",
    "            gray_norm = gray_img / np.max(gray_img)\n",
    "            return gray_norm, aspect_ratio\n",
    "        \n",
    "def convert_ndarray_img_to_maintain_aspect_ratio(ndarray_img, ar):\n",
    "    '''\n",
    "    aspect ratio is width / height\n",
    "    '''\n",
    "    new_width = ndarray_img.shape[1]*ar # new width should be aspect ratio * img width\n",
    "    new_ar_shape = (ndarray_img.shape[0], new_width)\n",
    "    return resize(ndarray_img, new_ar_shape)\n",
    "\n",
    "\n",
    "# create lambda function to construct the full path for a given image.\n",
    "# this is intended to be used on the `image` column in train.csv\n",
    "get_img_path = lambda img: os.path.join(happywhale_input_dir, img)"
   ]
  },
  {
   "cell_type": "markdown",
   "id": "1b02d2d8",
   "metadata": {
    "papermill": {
     "duration": 0.0559,
     "end_time": "2022-02-23T10:07:51.646225",
     "exception": false,
     "start_time": "2022-02-23T10:07:51.590325",
     "status": "completed"
    },
    "tags": []
   },
   "source": [
    "## Processing a sample image"
   ]
  },
  {
   "cell_type": "code",
   "execution_count": 7,
   "id": "12044f70",
   "metadata": {
    "execution": {
     "iopub.execute_input": "2022-02-23T10:07:51.769481Z",
     "iopub.status.busy": "2022-02-23T10:07:51.763265Z",
     "iopub.status.idle": "2022-02-23T10:07:51.771859Z",
     "shell.execute_reply": "2022-02-23T10:07:51.772414Z",
     "shell.execute_reply.started": "2022-02-23T08:59:46.500670Z"
    },
    "papermill": {
     "duration": 0.072197,
     "end_time": "2022-02-23T10:07:51.772615",
     "exception": false,
     "start_time": "2022-02-23T10:07:51.700418",
     "status": "completed"
    },
    "tags": []
   },
   "outputs": [],
   "source": [
    "sample_img = train_df.sample(1).iloc[0]\n",
    "sample_image = sample_img.image\n",
    "sample_species = sample_img.species\n",
    "sample_id = sample_img.individual_id"
   ]
  },
  {
   "cell_type": "code",
   "execution_count": 8,
   "id": "addb251a",
   "metadata": {
    "execution": {
     "iopub.execute_input": "2022-02-23T10:07:51.894313Z",
     "iopub.status.busy": "2022-02-23T10:07:51.893600Z",
     "iopub.status.idle": "2022-02-23T10:07:52.868366Z",
     "shell.execute_reply": "2022-02-23T10:07:52.869104Z",
     "shell.execute_reply.started": "2022-02-23T08:59:47.190247Z"
    },
    "papermill": {
     "duration": 1.0378,
     "end_time": "2022-02-23T10:07:52.869347",
     "exception": false,
     "start_time": "2022-02-23T10:07:51.831547",
     "status": "completed"
    },
    "tags": []
   },
   "outputs": [],
   "source": [
    "sample_path = get_img_path('train_images/' + sample_image)\n",
    "sample_ndarray, sample_ar = convert_image_to_ndarray(sample_path)"
   ]
  },
  {
   "cell_type": "code",
   "execution_count": 9,
   "id": "da9c6709",
   "metadata": {
    "execution": {
     "iopub.execute_input": "2022-02-23T10:07:52.987926Z",
     "iopub.status.busy": "2022-02-23T10:07:52.987304Z",
     "iopub.status.idle": "2022-02-23T10:07:53.254723Z",
     "shell.execute_reply": "2022-02-23T10:07:53.255194Z",
     "shell.execute_reply.started": "2022-02-23T08:59:47.839204Z"
    },
    "papermill": {
     "duration": 0.322888,
     "end_time": "2022-02-23T10:07:53.255355",
     "exception": false,
     "start_time": "2022-02-23T10:07:52.932467",
     "status": "completed"
    },
    "tags": []
   },
   "outputs": [
    {
     "name": "stdout",
     "output_type": "stream",
     "text": [
      "(256, 256)\n",
      "bb3fe773f7fb sei_whale\n"
     ]
    },
    {
     "data": {
      "text/plain": [
       "<matplotlib.image.AxesImage at 0x7f7bc9aaefd0>"
      ]
     },
     "execution_count": 9,
     "metadata": {},
     "output_type": "execute_result"
    },
    {
     "data": {
      "image/png": "[encoded data removed]",
      "text/plain": [
       "<Figure size 432x288 with 1 Axes>"
      ]
     },
     "metadata": {
      "needs_background": "light"
     },
     "output_type": "display_data"
    }
   ],
   "source": [
    "print(sample_ndarray.shape)\n",
    "print(sample_id,  sample_species)\n",
    "plt.imshow(sample_ndarray)"
   ]
  },
  {
   "cell_type": "markdown",
   "id": "2a8d99d9",
   "metadata": {
    "papermill": {
     "duration": 0.058467,
     "end_time": "2022-02-23T10:07:53.372435",
     "exception": false,
     "start_time": "2022-02-23T10:07:53.313968",
     "status": "completed"
    },
    "tags": []
   },
   "source": [
    "## Processing an odd image (gray scale)\n",
    "\n",
    "The image `00398cfc6f6675.jpg` is odd because it is already in gray scale (there are no rgb colors). Additionally, it has an extended shape, such that the orginal is very wide, but short.\n",
    "\n",
    "As a result of processing the image to a 256x256 pixel (default) image, the aspect ratio is lost. This may ratio may provide critical info when classifying the sharpenss and shape of dorsal fins."
   ]
  },
  {
   "cell_type": "code",
   "execution_count": 10,
   "id": "ac1b852e",
   "metadata": {
    "execution": {
     "iopub.execute_input": "2022-02-23T10:07:53.502326Z",
     "iopub.status.busy": "2022-02-23T10:07:53.501295Z",
     "iopub.status.idle": "2022-02-23T10:07:53.509169Z",
     "shell.execute_reply": "2022-02-23T10:07:53.509590Z",
     "shell.execute_reply.started": "2022-02-23T08:59:56.914317Z"
    },
    "papermill": {
     "duration": 0.079968,
     "end_time": "2022-02-23T10:07:53.509789",
     "exception": false,
     "start_time": "2022-02-23T10:07:53.429821",
     "status": "completed"
    },
    "tags": []
   },
   "outputs": [
    {
     "data": {
      "text/html": [
       "<div>\n",
       "<style scoped>\n",
       "    .dataframe tbody tr th:only-of-type {\n",
       "        vertical-align: middle;\n",
       "    }\n",
       "\n",
       "    .dataframe tbody tr th {\n",
       "        vertical-align: top;\n",
       "    }\n",
       "\n",
       "    .dataframe thead th {\n",
       "        text-align: right;\n",
       "    }\n",
       "</style>\n",
       "<table border=\"1\" class=\"dataframe\">\n",
       "  <thead>\n",
       "    <tr style=\"text-align: right;\">\n",
       "      <th></th>\n",
       "      <th>index</th>\n",
       "      <th>image</th>\n",
       "      <th>species</th>\n",
       "      <th>individual_id</th>\n",
       "    </tr>\n",
       "  </thead>\n",
       "  <tbody>\n",
       "    <tr>\n",
       "      <th>38</th>\n",
       "      <td>38</td>\n",
       "      <td>00398cfc6f6675.jpg</td>\n",
       "      <td>beluga</td>\n",
       "      <td>90c9eaca0927</td>\n",
       "    </tr>\n",
       "  </tbody>\n",
       "</table>\n",
       "</div>"
      ],
      "text/plain": [
       "    index               image species individual_id\n",
       "38     38  00398cfc6f6675.jpg  beluga  90c9eaca0927"
      ]
     },
     "execution_count": 10,
     "metadata": {},
     "output_type": "execute_result"
    }
   ],
   "source": [
    "train_df[train_df['image']=='00398cfc6f6675.jpg']"
   ]
  },
  {
   "cell_type": "code",
   "execution_count": 11,
   "id": "b270b27b",
   "metadata": {
    "execution": {
     "iopub.execute_input": "2022-02-23T10:07:53.626997Z",
     "iopub.status.busy": "2022-02-23T10:07:53.625961Z",
     "iopub.status.idle": "2022-02-23T10:07:53.651021Z",
     "shell.execute_reply": "2022-02-23T10:07:53.651467Z",
     "shell.execute_reply.started": "2022-02-23T08:59:59.211194Z"
    },
    "papermill": {
     "duration": 0.085561,
     "end_time": "2022-02-23T10:07:53.651684",
     "exception": false,
     "start_time": "2022-02-23T10:07:53.566123",
     "status": "completed"
    },
    "tags": []
   },
   "outputs": [],
   "source": [
    "err_path = get_img_path('train_images/00398cfc6f6675.jpg')\n",
    "err_ndarray, ar = convert_image_to_ndarray(err_path)\n"
   ]
  },
  {
   "cell_type": "code",
   "execution_count": 12,
   "id": "8020161f",
   "metadata": {
    "execution": {
     "iopub.execute_input": "2022-02-23T10:07:53.787831Z",
     "iopub.status.busy": "2022-02-23T10:07:53.785748Z",
     "iopub.status.idle": "2022-02-23T10:07:54.017107Z",
     "shell.execute_reply": "2022-02-23T10:07:54.017556Z",
     "shell.execute_reply.started": "2022-02-23T09:00:00.113910Z"
    },
    "papermill": {
     "duration": 0.308445,
     "end_time": "2022-02-23T10:07:54.017734",
     "exception": false,
     "start_time": "2022-02-23T10:07:53.709289",
     "status": "completed"
    },
    "tags": []
   },
   "outputs": [
    {
     "data": {
      "text/plain": [
       "<matplotlib.image.AxesImage at 0x7f7bd49dbc10>"
      ]
     },
     "execution_count": 12,
     "metadata": {},
     "output_type": "execute_result"
    },
    {
     "data": {
      "image/png": "[encoded data removed]",
      "text/plain": [
       "<Figure size 432x288 with 1 Axes>"
      ]
     },
     "metadata": {
      "needs_background": "light"
     },
     "output_type": "display_data"
    }
   ],
   "source": [
    "plt.imshow(err_ndarray)"
   ]
  },
  {
   "cell_type": "code",
   "execution_count": 13,
   "id": "e6a7b5ad",
   "metadata": {
    "execution": {
     "iopub.execute_input": "2022-02-23T10:07:54.147307Z",
     "iopub.status.busy": "2022-02-23T10:07:54.146419Z",
     "iopub.status.idle": "2022-02-23T10:07:54.507784Z",
     "shell.execute_reply": "2022-02-23T10:07:54.508216Z",
     "shell.execute_reply.started": "2022-02-23T09:00:01.394774Z"
    },
    "papermill": {
     "duration": 0.42816,
     "end_time": "2022-02-23T10:07:54.508393",
     "exception": false,
     "start_time": "2022-02-23T10:07:54.080233",
     "status": "completed"
    },
    "tags": []
   },
   "outputs": [
    {
     "data": {
      "text/plain": [
       "<matplotlib.image.AxesImage at 0x7f7bd497c9d0>"
      ]
     },
     "execution_count": 13,
     "metadata": {},
     "output_type": "execute_result"
    },
    {
     "data": {
      "image/png": "[encoded data removed]",
      "text/plain": [
       "<Figure size 432x288 with 1 Axes>"
      ]
     },
     "metadata": {
      "needs_background": "light"
     },
     "output_type": "display_data"
    }
   ],
   "source": [
    "\n",
    "plt.imshow(convert_ndarray_img_to_maintain_aspect_ratio(err_ndarray, ar))"
   ]
  },
  {
   "cell_type": "code",
   "execution_count": 14,
   "id": "56e0abfc",
   "metadata": {
    "execution": {
     "iopub.execute_input": "2022-02-23T10:07:54.636295Z",
     "iopub.status.busy": "2022-02-23T10:07:54.635342Z",
     "iopub.status.idle": "2022-02-23T10:07:54.642814Z",
     "shell.execute_reply": "2022-02-23T10:07:54.643295Z",
     "shell.execute_reply.started": "2022-02-23T09:00:10.384683Z"
    },
    "papermill": {
     "duration": 0.073031,
     "end_time": "2022-02-23T10:07:54.643461",
     "exception": false,
     "start_time": "2022-02-23T10:07:54.570430",
     "status": "completed"
    },
    "tags": []
   },
   "outputs": [],
   "source": [
    "# https://medium.com/codebyte/add-progress-bar-to-your-for-loops-5f0a50500ff3\n",
    "from tqdm import tqdm\n",
    "\n",
    "def pixelize_images_in_df(df, show_progress_bar=False):\n",
    "    '''\n",
    "    Processes the dataframe from `train.csv` or `sample_submission.csv`\n",
    "    1. converting each image to a normalized grayscale (256x256) pixel representation\n",
    "    2. creating 256*256 + 1 additional features to the original dataframe\n",
    "        - each feature is 1 pixel from step 1.\n",
    "        - final feature is the aspect ratio of the original image\n",
    "    '''\n",
    "    images = df.image\n",
    "    flat_ndarray_images = []\n",
    "    aspect_ratios = []\n",
    "    n_pixels = 256\n",
    "    output_shape = (n_pixels,n_pixels)\n",
    "    items = tqdm(images) if show_progress_bar else images\n",
    "    for img in items:\n",
    "        img_path = get_img_path('train_images/' + img)\n",
    "        ndarray, ar = convert_image_to_ndarray(img_path, output_size=output_shape)\n",
    "        \n",
    "        flat_ndarray_images.append(ndarray.reshape(n_pixels*n_pixels))\n",
    "        aspect_ratios.append(ar)\n",
    "        \n",
    "    # construct final dataframe to return\n",
    "    pixelized_images_df = pd.DataFrame(flat_ndarray_images, index=df.index)\n",
    "    pixelized_images_df['aspect_ratio'] = aspect_ratios\n",
    "    return pd.merge(df, pixelized_images_df, left_index=True, right_index=True)"
   ]
  },
  {
   "cell_type": "markdown",
   "id": "87c05a75",
   "metadata": {
    "papermill": {
     "duration": 0.061417,
     "end_time": "2022-02-23T10:07:54.766787",
     "exception": false,
     "start_time": "2022-02-23T10:07:54.705370",
     "status": "completed"
    },
    "tags": []
   },
   "source": [
    "## Parallel Data Processsing the `train.csv`\n",
    "\n",
    "First, let's run an experiment on a sample of 20 to see which parallization method is fastest for processing the images.\n",
    "\n",
    "### References\n",
    "- https://www.kaggle.com/wrosinski/parallel-data-processing-and-model-training"
   ]
  },
  {
   "cell_type": "code",
   "execution_count": 15,
   "id": "e1957f11",
   "metadata": {
    "execution": {
     "iopub.execute_input": "2022-02-23T10:07:54.897565Z",
     "iopub.status.busy": "2022-02-23T10:07:54.896624Z",
     "iopub.status.idle": "2022-02-23T10:07:54.903733Z",
     "shell.execute_reply": "2022-02-23T10:07:54.904220Z",
     "shell.execute_reply.started": "2022-02-23T09:00:20.114103Z"
    },
    "papermill": {
     "duration": 0.072632,
     "end_time": "2022-02-23T10:07:54.904387",
     "exception": false,
     "start_time": "2022-02-23T10:07:54.831755",
     "status": "completed"
    },
    "tags": []
   },
   "outputs": [],
   "source": [
    "# https://www.kaggle.com/wrosinski/parallel-data-processing-and-model-training\n",
    "\n",
    "@contextmanager\n",
    "def timer(name):\n",
    "    t0 = time.time()\n",
    "    yield\n",
    "    print('{0} done in {1:.3f} seconds.'.format(name, time.time() - t0))\n",
    "\n",
    "def split_df(df, num_splits, log=False):\n",
    "    \n",
    "    df_list = []\n",
    "    rows_splits = np.linspace(0, df.shape[0], num_splits+1).astype(int)\n",
    "    if log:\n",
    "        print('Split into {} parts'.format(num_splits))\n",
    "        print('Row splits:\\n{}'.format(rows_splits))\n",
    "    \n",
    "    for i in range(len(rows_splits) - 1):\n",
    "        df_list.append(df.iloc[rows_splits[i]:rows_splits[i+1]])\n",
    "        \n",
    "    return df_list[:num_splits]"
   ]
  },
  {
   "cell_type": "code",
   "execution_count": 16,
   "id": "3c0d2493",
   "metadata": {
    "execution": {
     "iopub.execute_input": "2022-02-23T10:07:55.035054Z",
     "iopub.status.busy": "2022-02-23T10:07:55.034037Z",
     "iopub.status.idle": "2022-02-23T10:07:55.041774Z",
     "shell.execute_reply": "2022-02-23T10:07:55.041239Z",
     "shell.execute_reply.started": "2022-02-23T09:00:29.720926Z"
    },
    "papermill": {
     "duration": 0.075723,
     "end_time": "2022-02-23T10:07:55.041929",
     "exception": false,
     "start_time": "2022-02-23T10:07:54.966206",
     "status": "completed"
    },
    "tags": []
   },
   "outputs": [],
   "source": [
    "n_samples = 4*10 # None # changing this to None will use the entire train_df\n",
    "experimental_df = train_df[:n_samples]\n",
    "experimental_dfs_split = split_df(experimental_df, CPUS)\n",
    "experimental_dfs_ = pd.concat(experimental_dfs_split, ignore_index=True, sort=False)"
   ]
  },
  {
   "cell_type": "code",
   "execution_count": 17,
   "id": "cfbfa480",
   "metadata": {
    "execution": {
     "iopub.execute_input": "2022-02-23T10:07:55.173247Z",
     "iopub.status.busy": "2022-02-23T10:07:55.172303Z",
     "iopub.status.idle": "2022-02-23T10:07:55.185170Z",
     "shell.execute_reply": "2022-02-23T10:07:55.185567Z",
     "shell.execute_reply.started": "2022-02-23T09:00:31.864234Z"
    },
    "papermill": {
     "duration": 0.080062,
     "end_time": "2022-02-23T10:07:55.185752",
     "exception": false,
     "start_time": "2022-02-23T10:07:55.105690",
     "status": "completed"
    },
    "tags": []
   },
   "outputs": [
    {
     "data": {
      "text/plain": [
       "[   index               image             species individual_id\n",
       " 0      0  00021adfb725ed.jpg  melon_headed_whale  cadddb1636b9\n",
       " 1      1  000562241d384d.jpg      humpback_whale  1a71fbb72250\n",
       " 2      2  0007c33415ce37.jpg  false_killer_whale  60008f293a2b\n",
       " 3      3  0007d9bca26a99.jpg  bottlenose_dolphin  4b00fe572063\n",
       " 4      4  00087baf5cef7a.jpg      humpback_whale  8e5253662392\n",
       " 5      5  000a8f2d5c316a.jpg  bottlenose_dolphin  b9907151f66e\n",
       " 6      6  000be9acf46619.jpg              beluga  afb9b3978217\n",
       " 7      7  000bef247c7a42.jpg      humpback_whale  444d8894ccc8\n",
       " 8      8  000c3d63069748.jpg              beluga  df94b15285b9\n",
       " 9      9  000c476c11bad5.jpg  bottlenose_dolphin  b11b2404c7e3,\n",
       "     index               image             species individual_id\n",
       " 10     10  001001f099519f.jpg         minke_whale  19fbb960f07d\n",
       " 11     11  00103cbe9d25ce.jpg           fin_whale  180c0ab04dcd\n",
       " 12     12  00144776eb476d.jpg  bottlenose_dolphin  b9907151f66e\n",
       " 13     13  00167e8375c967.jpg              beluga  0ad50d0d9b06\n",
       " 14     14  00177f3c614d1e.jpg  bottlenose_dolphin  812be36c2aef\n",
       " 15     15  0017b3749cd769.jpg  bottlenose_dolphin  445270d9ad52\n",
       " 16     16  0018064338b499.jpg          blue_whale  4790ec346170\n",
       " 17     17  001b0900f56e89.jpg      humpback_whale  bc14b5054353\n",
       " 18     18  001cfade605960.jpg          blue_whale  ff69d0975a73\n",
       " 19     19  001f1a1f22da96.jpg         minke_whale  780fefdb6198,\n",
       "     index               image               species individual_id\n",
       " 20     20  0020004d64ae20.jpg            gray_whale  a8c9dfb8ac6f\n",
       " 21     21  00206a224e68de.jpg            blue_whale  6c4372e42db1\n",
       " 22     22  0022bdb8eb5684.jpg        humpback_whale  35f898e6595e\n",
       " 23     23  00234b893ea9e8.jpg    false_killer_whale  bfb74132d1db\n",
       " 24     24  0024057bbc89a4.jpg           minke_whale  114207cab555\n",
       " 25     25  00243d4b15bafc.jpg                beluga  3cbfd98eea8f\n",
       " 26     26  002618d6f63ebc.jpg  southern_right_whale  f5eab86405b4\n",
       " 27     27  0028f6fa123686.jpg    bottlenose_dolphin  956562ff2888\n",
       " 28     28  0029d877c29ab4.jpg    melon_headed_whale  c27f0a7f4e5a\n",
       " 29     29  002ac5f9ad7c10.jpg    false_killer_whale  f7bb4f9a9d1a,\n",
       "     index               image                   species individual_id\n",
       " 30     30  002e00960cec44.jpg            common_dolphin  e943980b7a98\n",
       " 31     31  002fb5fee50b97.jpg            humpback_whale  45fc3a8e1d4e\n",
       " 32     32  0030835e895969.jpg              killer_whale  1816cc1ae38b\n",
       " 33     33  0032f90c7732b0.jpg        melon_headed_whale  a21288153152\n",
       " 34     34  00354cd9244e28.jpg                    beluga  a03830613b45\n",
       " 35     35  0036b5c11b39f3.jpg  short_finned_pilot_whale  fefd0899a5dc\n",
       " 36     36  0038d3be2513c0.jpg                blue_whale  6348a7ef0d99\n",
       " 37     37  0039599b58fc80.jpg        bottlenose_dolphin  e69d5f9f8d1e\n",
       " 38     38  00398cfc6f6675.jpg                    beluga  90c9eaca0927\n",
       " 39     39  0039955230421d.jpg                    beluga  5ca799f80b5e]"
      ]
     },
     "execution_count": 17,
     "metadata": {},
     "output_type": "execute_result"
    }
   ],
   "source": [
    "experimental_dfs_split"
   ]
  },
  {
   "cell_type": "markdown",
   "id": "d9c7d5c9",
   "metadata": {
    "papermill": {
     "duration": 0.06188,
     "end_time": "2022-02-23T10:07:55.310268",
     "exception": false,
     "start_time": "2022-02-23T10:07:55.248388",
     "status": "completed"
    },
    "tags": []
   },
   "source": [
    "#### Baseline time to process 40 images"
   ]
  },
  {
   "cell_type": "code",
   "execution_count": 18,
   "id": "a32be73e",
   "metadata": {
    "execution": {
     "iopub.execute_input": "2022-02-23T10:07:55.437893Z",
     "iopub.status.busy": "2022-02-23T10:07:55.436824Z",
     "iopub.status.idle": "2022-02-23T10:08:44.760605Z",
     "shell.execute_reply": "2022-02-23T10:08:44.761059Z",
     "shell.execute_reply.started": "2022-02-23T09:00:37.042113Z"
    },
    "papermill": {
     "duration": 49.389039,
     "end_time": "2022-02-23T10:08:44.761238",
     "exception": false,
     "start_time": "2022-02-23T10:07:55.372199",
     "status": "completed"
    },
    "tags": []
   },
   "outputs": [
    {
     "name": "stderr",
     "output_type": "stream",
     "text": [
      "100%|██████████| 40/40 [00:46<00:00,  1.17s/it]\n"
     ]
    },
    {
     "name": "stdout",
     "output_type": "stream",
     "text": [
      "datetime processing: done in 49.317 seconds.\n"
     ]
    }
   ],
   "source": [
    "#processed_df = process_train_df(train_df[:6])\n",
    "\n",
    "with timer('datetime processing:'):\n",
    "    experimental_df_ = pixelize_images_in_df(experimental_df, show_progress_bar=True)"
   ]
  },
  {
   "cell_type": "code",
   "execution_count": 19,
   "id": "3c7327b5",
   "metadata": {
    "execution": {
     "iopub.execute_input": "2022-02-23T10:08:44.916420Z",
     "iopub.status.busy": "2022-02-23T10:08:44.915749Z",
     "iopub.status.idle": "2022-02-23T10:08:44.958260Z",
     "shell.execute_reply": "2022-02-23T10:08:44.958727Z",
     "shell.execute_reply.started": "2022-02-21T10:28:17.810616Z"
    },
    "papermill": {
     "duration": 0.121539,
     "end_time": "2022-02-23T10:08:44.958895",
     "exception": false,
     "start_time": "2022-02-23T10:08:44.837356",
     "status": "completed"
    },
    "tags": []
   },
   "outputs": [
    {
     "data": {
      "text/html": [
       "<div>\n",
       "<style scoped>\n",
       "    .dataframe tbody tr th:only-of-type {\n",
       "        vertical-align: middle;\n",
       "    }\n",
       "\n",
       "    .dataframe tbody tr th {\n",
       "        vertical-align: top;\n",
       "    }\n",
       "\n",
       "    .dataframe thead th {\n",
       "        text-align: right;\n",
       "    }\n",
       "</style>\n",
       "<table border=\"1\" class=\"dataframe\">\n",
       "  <thead>\n",
       "    <tr style=\"text-align: right;\">\n",
       "      <th></th>\n",
       "      <th>index</th>\n",
       "      <th>image</th>\n",
       "      <th>species</th>\n",
       "      <th>individual_id</th>\n",
       "      <th>0</th>\n",
       "      <th>1</th>\n",
       "      <th>2</th>\n",
       "      <th>3</th>\n",
       "      <th>4</th>\n",
       "      <th>5</th>\n",
       "      <th>...</th>\n",
       "      <th>65527</th>\n",
       "      <th>65528</th>\n",
       "      <th>65529</th>\n",
       "      <th>65530</th>\n",
       "      <th>65531</th>\n",
       "      <th>65532</th>\n",
       "      <th>65533</th>\n",
       "      <th>65534</th>\n",
       "      <th>65535</th>\n",
       "      <th>aspect_ratio</th>\n",
       "    </tr>\n",
       "  </thead>\n",
       "  <tbody>\n",
       "    <tr>\n",
       "      <th>0</th>\n",
       "      <td>0</td>\n",
       "      <td>00021adfb725ed.jpg</td>\n",
       "      <td>melon_headed_whale</td>\n",
       "      <td>cadddb1636b9</td>\n",
       "      <td>0.463753</td>\n",
       "      <td>0.469581</td>\n",
       "      <td>0.477523</td>\n",
       "      <td>0.487009</td>\n",
       "      <td>0.498406</td>\n",
       "      <td>0.511733</td>\n",
       "      <td>...</td>\n",
       "      <td>0.201963</td>\n",
       "      <td>0.192882</td>\n",
       "      <td>0.200069</td>\n",
       "      <td>0.197648</td>\n",
       "      <td>0.195564</td>\n",
       "      <td>0.196354</td>\n",
       "      <td>0.200686</td>\n",
       "      <td>0.199245</td>\n",
       "      <td>0.197579</td>\n",
       "      <td>1.198212</td>\n",
       "    </tr>\n",
       "    <tr>\n",
       "      <th>1</th>\n",
       "      <td>1</td>\n",
       "      <td>000562241d384d.jpg</td>\n",
       "      <td>humpback_whale</td>\n",
       "      <td>1a71fbb72250</td>\n",
       "      <td>0.833581</td>\n",
       "      <td>0.840353</td>\n",
       "      <td>0.845824</td>\n",
       "      <td>0.827661</td>\n",
       "      <td>0.828294</td>\n",
       "      <td>0.857705</td>\n",
       "      <td>...</td>\n",
       "      <td>0.861722</td>\n",
       "      <td>0.864713</td>\n",
       "      <td>0.859254</td>\n",
       "      <td>0.846934</td>\n",
       "      <td>0.832020</td>\n",
       "      <td>0.829230</td>\n",
       "      <td>0.843044</td>\n",
       "      <td>0.853534</td>\n",
       "      <td>0.855525</td>\n",
       "      <td>1.500000</td>\n",
       "    </tr>\n",
       "    <tr>\n",
       "      <th>2</th>\n",
       "      <td>2</td>\n",
       "      <td>0007c33415ce37.jpg</td>\n",
       "      <td>false_killer_whale</td>\n",
       "      <td>60008f293a2b</td>\n",
       "      <td>0.663449</td>\n",
       "      <td>0.670953</td>\n",
       "      <td>0.681730</td>\n",
       "      <td>0.680676</td>\n",
       "      <td>0.693642</td>\n",
       "      <td>0.702199</td>\n",
       "      <td>...</td>\n",
       "      <td>0.691140</td>\n",
       "      <td>0.688582</td>\n",
       "      <td>0.676637</td>\n",
       "      <td>0.689521</td>\n",
       "      <td>0.676711</td>\n",
       "      <td>0.666995</td>\n",
       "      <td>0.666486</td>\n",
       "      <td>0.666531</td>\n",
       "      <td>0.653706</td>\n",
       "      <td>1.500208</td>\n",
       "    </tr>\n",
       "    <tr>\n",
       "      <th>3</th>\n",
       "      <td>3</td>\n",
       "      <td>0007d9bca26a99.jpg</td>\n",
       "      <td>bottlenose_dolphin</td>\n",
       "      <td>4b00fe572063</td>\n",
       "      <td>0.543918</td>\n",
       "      <td>0.598159</td>\n",
       "      <td>0.644220</td>\n",
       "      <td>0.672533</td>\n",
       "      <td>0.703838</td>\n",
       "      <td>0.735460</td>\n",
       "      <td>...</td>\n",
       "      <td>0.300331</td>\n",
       "      <td>0.309465</td>\n",
       "      <td>0.315749</td>\n",
       "      <td>0.314464</td>\n",
       "      <td>0.310216</td>\n",
       "      <td>0.313937</td>\n",
       "      <td>0.327092</td>\n",
       "      <td>0.326221</td>\n",
       "      <td>0.318659</td>\n",
       "      <td>1.500000</td>\n",
       "    </tr>\n",
       "    <tr>\n",
       "      <th>4</th>\n",
       "      <td>4</td>\n",
       "      <td>00087baf5cef7a.jpg</td>\n",
       "      <td>humpback_whale</td>\n",
       "      <td>8e5253662392</td>\n",
       "      <td>0.396056</td>\n",
       "      <td>0.374476</td>\n",
       "      <td>0.387099</td>\n",
       "      <td>0.370121</td>\n",
       "      <td>0.380355</td>\n",
       "      <td>0.390234</td>\n",
       "      <td>...</td>\n",
       "      <td>0.350706</td>\n",
       "      <td>0.355065</td>\n",
       "      <td>0.357953</td>\n",
       "      <td>0.361097</td>\n",
       "      <td>0.361008</td>\n",
       "      <td>0.360607</td>\n",
       "      <td>0.358741</td>\n",
       "      <td>0.355178</td>\n",
       "      <td>0.351214</td>\n",
       "      <td>1.333457</td>\n",
       "    </tr>\n",
       "    <tr>\n",
       "      <th>5</th>\n",
       "      <td>5</td>\n",
       "      <td>000a8f2d5c316a.jpg</td>\n",
       "      <td>bottlenose_dolphin</td>\n",
       "      <td>b9907151f66e</td>\n",
       "      <td>0.727182</td>\n",
       "      <td>0.743250</td>\n",
       "      <td>0.749441</td>\n",
       "      <td>0.751597</td>\n",
       "      <td>0.739088</td>\n",
       "      <td>0.726531</td>\n",
       "      <td>...</td>\n",
       "      <td>0.658858</td>\n",
       "      <td>0.675568</td>\n",
       "      <td>0.694625</td>\n",
       "      <td>0.713584</td>\n",
       "      <td>0.707712</td>\n",
       "      <td>0.708075</td>\n",
       "      <td>0.715902</td>\n",
       "      <td>0.722552</td>\n",
       "      <td>0.719074</td>\n",
       "      <td>1.500000</td>\n",
       "    </tr>\n",
       "    <tr>\n",
       "      <th>6</th>\n",
       "      <td>6</td>\n",
       "      <td>000be9acf46619.jpg</td>\n",
       "      <td>beluga</td>\n",
       "      <td>afb9b3978217</td>\n",
       "      <td>0.459196</td>\n",
       "      <td>0.426789</td>\n",
       "      <td>0.444362</td>\n",
       "      <td>0.453244</td>\n",
       "      <td>0.464838</td>\n",
       "      <td>0.443469</td>\n",
       "      <td>...</td>\n",
       "      <td>0.574179</td>\n",
       "      <td>0.573082</td>\n",
       "      <td>0.559099</td>\n",
       "      <td>0.597367</td>\n",
       "      <td>0.611254</td>\n",
       "      <td>0.622483</td>\n",
       "      <td>0.625033</td>\n",
       "      <td>0.632379</td>\n",
       "      <td>0.619221</td>\n",
       "      <td>3.932584</td>\n",
       "    </tr>\n",
       "    <tr>\n",
       "      <th>7</th>\n",
       "      <td>7</td>\n",
       "      <td>000bef247c7a42.jpg</td>\n",
       "      <td>humpback_whale</td>\n",
       "      <td>444d8894ccc8</td>\n",
       "      <td>0.739286</td>\n",
       "      <td>0.740062</td>\n",
       "      <td>0.740072</td>\n",
       "      <td>0.741292</td>\n",
       "      <td>0.741357</td>\n",
       "      <td>0.743443</td>\n",
       "      <td>...</td>\n",
       "      <td>0.387340</td>\n",
       "      <td>0.405948</td>\n",
       "      <td>0.434217</td>\n",
       "      <td>0.430417</td>\n",
       "      <td>0.407707</td>\n",
       "      <td>0.407206</td>\n",
       "      <td>0.316474</td>\n",
       "      <td>0.303871</td>\n",
       "      <td>0.370241</td>\n",
       "      <td>1.500000</td>\n",
       "    </tr>\n",
       "    <tr>\n",
       "      <th>8</th>\n",
       "      <td>8</td>\n",
       "      <td>000c3d63069748.jpg</td>\n",
       "      <td>beluga</td>\n",
       "      <td>df94b15285b9</td>\n",
       "      <td>0.502972</td>\n",
       "      <td>0.493980</td>\n",
       "      <td>0.490700</td>\n",
       "      <td>0.492119</td>\n",
       "      <td>0.492681</td>\n",
       "      <td>0.485694</td>\n",
       "      <td>...</td>\n",
       "      <td>0.479749</td>\n",
       "      <td>0.466936</td>\n",
       "      <td>0.469607</td>\n",
       "      <td>0.466498</td>\n",
       "      <td>0.464025</td>\n",
       "      <td>0.455233</td>\n",
       "      <td>0.461328</td>\n",
       "      <td>0.472920</td>\n",
       "      <td>0.468736</td>\n",
       "      <td>2.850000</td>\n",
       "    </tr>\n",
       "    <tr>\n",
       "      <th>9</th>\n",
       "      <td>9</td>\n",
       "      <td>000c476c11bad5.jpg</td>\n",
       "      <td>bottlenose_dolphin</td>\n",
       "      <td>b11b2404c7e3</td>\n",
       "      <td>0.211711</td>\n",
       "      <td>0.222648</td>\n",
       "      <td>0.228982</td>\n",
       "      <td>0.238866</td>\n",
       "      <td>0.272159</td>\n",
       "      <td>0.253871</td>\n",
       "      <td>...</td>\n",
       "      <td>0.408418</td>\n",
       "      <td>0.443029</td>\n",
       "      <td>0.453873</td>\n",
       "      <td>0.430588</td>\n",
       "      <td>0.417603</td>\n",
       "      <td>0.432074</td>\n",
       "      <td>0.441054</td>\n",
       "      <td>0.482185</td>\n",
       "      <td>0.539631</td>\n",
       "      <td>1.500000</td>\n",
       "    </tr>\n",
       "    <tr>\n",
       "      <th>10</th>\n",
       "      <td>10</td>\n",
       "      <td>001001f099519f.jpg</td>\n",
       "      <td>minke_whale</td>\n",
       "      <td>19fbb960f07d</td>\n",
       "      <td>0.143177</td>\n",
       "      <td>0.170431</td>\n",
       "      <td>0.196390</td>\n",
       "      <td>0.210876</td>\n",
       "      <td>0.194333</td>\n",
       "      <td>0.179423</td>\n",
       "      <td>...</td>\n",
       "      <td>0.768147</td>\n",
       "      <td>0.751151</td>\n",
       "      <td>0.741302</td>\n",
       "      <td>0.744417</td>\n",
       "      <td>0.749963</td>\n",
       "      <td>0.763799</td>\n",
       "      <td>0.776376</td>\n",
       "      <td>0.787759</td>\n",
       "      <td>0.792108</td>\n",
       "      <td>1.500208</td>\n",
       "    </tr>\n",
       "    <tr>\n",
       "      <th>11</th>\n",
       "      <td>11</td>\n",
       "      <td>00103cbe9d25ce.jpg</td>\n",
       "      <td>fin_whale</td>\n",
       "      <td>180c0ab04dcd</td>\n",
       "      <td>0.304474</td>\n",
       "      <td>0.344146</td>\n",
       "      <td>0.398792</td>\n",
       "      <td>0.466736</td>\n",
       "      <td>0.477714</td>\n",
       "      <td>0.397833</td>\n",
       "      <td>...</td>\n",
       "      <td>0.303825</td>\n",
       "      <td>0.299054</td>\n",
       "      <td>0.316533</td>\n",
       "      <td>0.346870</td>\n",
       "      <td>0.401204</td>\n",
       "      <td>0.450359</td>\n",
       "      <td>0.480667</td>\n",
       "      <td>0.485780</td>\n",
       "      <td>0.484451</td>\n",
       "      <td>1.500208</td>\n",
       "    </tr>\n",
       "    <tr>\n",
       "      <th>12</th>\n",
       "      <td>12</td>\n",
       "      <td>00144776eb476d.jpg</td>\n",
       "      <td>bottlenose_dolphin</td>\n",
       "      <td>b9907151f66e</td>\n",
       "      <td>0.673150</td>\n",
       "      <td>0.690062</td>\n",
       "      <td>0.710488</td>\n",
       "      <td>0.728229</td>\n",
       "      <td>0.725212</td>\n",
       "      <td>0.706987</td>\n",
       "      <td>...</td>\n",
       "      <td>0.656652</td>\n",
       "      <td>0.644988</td>\n",
       "      <td>0.618529</td>\n",
       "      <td>0.609310</td>\n",
       "      <td>0.600192</td>\n",
       "      <td>0.608220</td>\n",
       "      <td>0.610017</td>\n",
       "      <td>0.594028</td>\n",
       "      <td>0.588562</td>\n",
       "      <td>1.500000</td>\n",
       "    </tr>\n",
       "    <tr>\n",
       "      <th>13</th>\n",
       "      <td>13</td>\n",
       "      <td>00167e8375c967.jpg</td>\n",
       "      <td>beluga</td>\n",
       "      <td>0ad50d0d9b06</td>\n",
       "      <td>0.719220</td>\n",
       "      <td>0.717087</td>\n",
       "      <td>0.693947</td>\n",
       "      <td>0.689578</td>\n",
       "      <td>0.713409</td>\n",
       "      <td>0.693013</td>\n",
       "      <td>...</td>\n",
       "      <td>0.720010</td>\n",
       "      <td>0.691876</td>\n",
       "      <td>0.721573</td>\n",
       "      <td>0.725111</td>\n",
       "      <td>0.719844</td>\n",
       "      <td>0.690548</td>\n",
       "      <td>0.693811</td>\n",
       "      <td>0.693756</td>\n",
       "      <td>0.732789</td>\n",
       "      <td>2.515723</td>\n",
       "    </tr>\n",
       "    <tr>\n",
       "      <th>14</th>\n",
       "      <td>14</td>\n",
       "      <td>00177f3c614d1e.jpg</td>\n",
       "      <td>bottlenose_dolphin</td>\n",
       "      <td>812be36c2aef</td>\n",
       "      <td>0.721074</td>\n",
       "      <td>0.714247</td>\n",
       "      <td>0.677068</td>\n",
       "      <td>0.625120</td>\n",
       "      <td>0.528242</td>\n",
       "      <td>0.467569</td>\n",
       "      <td>...</td>\n",
       "      <td>0.309177</td>\n",
       "      <td>0.349858</td>\n",
       "      <td>0.391906</td>\n",
       "      <td>0.427862</td>\n",
       "      <td>0.476322</td>\n",
       "      <td>0.517584</td>\n",
       "      <td>0.536825</td>\n",
       "      <td>0.551755</td>\n",
       "      <td>0.561601</td>\n",
       "      <td>1.500000</td>\n",
       "    </tr>\n",
       "    <tr>\n",
       "      <th>15</th>\n",
       "      <td>15</td>\n",
       "      <td>0017b3749cd769.jpg</td>\n",
       "      <td>bottlenose_dolphin</td>\n",
       "      <td>445270d9ad52</td>\n",
       "      <td>0.401963</td>\n",
       "      <td>0.445525</td>\n",
       "      <td>0.438830</td>\n",
       "      <td>0.404778</td>\n",
       "      <td>0.414802</td>\n",
       "      <td>0.421082</td>\n",
       "      <td>...</td>\n",
       "      <td>0.195270</td>\n",
       "      <td>0.167646</td>\n",
       "      <td>0.167521</td>\n",
       "      <td>0.208259</td>\n",
       "      <td>0.274775</td>\n",
       "      <td>0.315554</td>\n",
       "      <td>0.337784</td>\n",
       "      <td>0.358844</td>\n",
       "      <td>0.365013</td>\n",
       "      <td>1.500000</td>\n",
       "    </tr>\n",
       "    <tr>\n",
       "      <th>16</th>\n",
       "      <td>16</td>\n",
       "      <td>0018064338b499.jpg</td>\n",
       "      <td>blue_whale</td>\n",
       "      <td>4790ec346170</td>\n",
       "      <td>0.810384</td>\n",
       "      <td>0.811366</td>\n",
       "      <td>0.811045</td>\n",
       "      <td>0.811983</td>\n",
       "      <td>0.811239</td>\n",
       "      <td>0.808149</td>\n",
       "      <td>...</td>\n",
       "      <td>0.320814</td>\n",
       "      <td>0.344371</td>\n",
       "      <td>0.363314</td>\n",
       "      <td>0.353094</td>\n",
       "      <td>0.339909</td>\n",
       "      <td>0.346038</td>\n",
       "      <td>0.349779</td>\n",
       "      <td>0.387866</td>\n",
       "      <td>0.383774</td>\n",
       "      <td>6.358757</td>\n",
       "    </tr>\n",
       "    <tr>\n",
       "      <th>17</th>\n",
       "      <td>17</td>\n",
       "      <td>001b0900f56e89.jpg</td>\n",
       "      <td>humpback_whale</td>\n",
       "      <td>bc14b5054353</td>\n",
       "      <td>0.766551</td>\n",
       "      <td>0.746652</td>\n",
       "      <td>0.730781</td>\n",
       "      <td>0.721075</td>\n",
       "      <td>0.715988</td>\n",
       "      <td>0.711839</td>\n",
       "      <td>...</td>\n",
       "      <td>0.588878</td>\n",
       "      <td>0.564414</td>\n",
       "      <td>0.540015</td>\n",
       "      <td>0.518603</td>\n",
       "      <td>0.499780</td>\n",
       "      <td>0.482420</td>\n",
       "      <td>0.468520</td>\n",
       "      <td>0.457032</td>\n",
       "      <td>0.446593</td>\n",
       "      <td>1.500208</td>\n",
       "    </tr>\n",
       "    <tr>\n",
       "      <th>18</th>\n",
       "      <td>18</td>\n",
       "      <td>001cfade605960.jpg</td>\n",
       "      <td>blue_whale</td>\n",
       "      <td>ff69d0975a73</td>\n",
       "      <td>0.393988</td>\n",
       "      <td>0.562060</td>\n",
       "      <td>0.686618</td>\n",
       "      <td>0.684095</td>\n",
       "      <td>0.665486</td>\n",
       "      <td>0.639395</td>\n",
       "      <td>...</td>\n",
       "      <td>0.834144</td>\n",
       "      <td>0.842495</td>\n",
       "      <td>0.873254</td>\n",
       "      <td>0.888551</td>\n",
       "      <td>0.880166</td>\n",
       "      <td>0.867329</td>\n",
       "      <td>0.881727</td>\n",
       "      <td>0.879882</td>\n",
       "      <td>0.583730</td>\n",
       "      <td>7.453416</td>\n",
       "    </tr>\n",
       "    <tr>\n",
       "      <th>19</th>\n",
       "      <td>19</td>\n",
       "      <td>001f1a1f22da96.jpg</td>\n",
       "      <td>minke_whale</td>\n",
       "      <td>780fefdb6198</td>\n",
       "      <td>0.470113</td>\n",
       "      <td>0.473409</td>\n",
       "      <td>0.478330</td>\n",
       "      <td>0.479568</td>\n",
       "      <td>0.482356</td>\n",
       "      <td>0.485048</td>\n",
       "      <td>...</td>\n",
       "      <td>0.719174</td>\n",
       "      <td>0.713511</td>\n",
       "      <td>0.706200</td>\n",
       "      <td>0.694022</td>\n",
       "      <td>0.692386</td>\n",
       "      <td>0.694976</td>\n",
       "      <td>0.689738</td>\n",
       "      <td>0.673126</td>\n",
       "      <td>0.666806</td>\n",
       "      <td>1.493981</td>\n",
       "    </tr>\n",
       "    <tr>\n",
       "      <th>20</th>\n",
       "      <td>20</td>\n",
       "      <td>0020004d64ae20.jpg</td>\n",
       "      <td>gray_whale</td>\n",
       "      <td>a8c9dfb8ac6f</td>\n",
       "      <td>0.929088</td>\n",
       "      <td>0.924997</td>\n",
       "      <td>0.922829</td>\n",
       "      <td>0.922568</td>\n",
       "      <td>0.924100</td>\n",
       "      <td>0.925956</td>\n",
       "      <td>...</td>\n",
       "      <td>0.980329</td>\n",
       "      <td>0.980617</td>\n",
       "      <td>0.981343</td>\n",
       "      <td>0.981883</td>\n",
       "      <td>0.981497</td>\n",
       "      <td>0.981249</td>\n",
       "      <td>0.980895</td>\n",
       "      <td>0.978531</td>\n",
       "      <td>0.977805</td>\n",
       "      <td>1.500208</td>\n",
       "    </tr>\n",
       "    <tr>\n",
       "      <th>21</th>\n",
       "      <td>21</td>\n",
       "      <td>00206a224e68de.jpg</td>\n",
       "      <td>blue_whale</td>\n",
       "      <td>6c4372e42db1</td>\n",
       "      <td>0.692726</td>\n",
       "      <td>0.677251</td>\n",
       "      <td>0.643005</td>\n",
       "      <td>0.631015</td>\n",
       "      <td>0.645038</td>\n",
       "      <td>0.658167</td>\n",
       "      <td>...</td>\n",
       "      <td>0.430136</td>\n",
       "      <td>0.421374</td>\n",
       "      <td>0.438297</td>\n",
       "      <td>0.423958</td>\n",
       "      <td>0.415941</td>\n",
       "      <td>0.404336</td>\n",
       "      <td>0.408635</td>\n",
       "      <td>0.413862</td>\n",
       "      <td>0.406045</td>\n",
       "      <td>4.476636</td>\n",
       "    </tr>\n",
       "    <tr>\n",
       "      <th>22</th>\n",
       "      <td>22</td>\n",
       "      <td>0022bdb8eb5684.jpg</td>\n",
       "      <td>humpback_whale</td>\n",
       "      <td>35f898e6595e</td>\n",
       "      <td>0.846827</td>\n",
       "      <td>0.850780</td>\n",
       "      <td>0.849353</td>\n",
       "      <td>0.857624</td>\n",
       "      <td>0.863878</td>\n",
       "      <td>0.860650</td>\n",
       "      <td>...</td>\n",
       "      <td>0.861123</td>\n",
       "      <td>0.856142</td>\n",
       "      <td>0.844980</td>\n",
       "      <td>0.838043</td>\n",
       "      <td>0.827680</td>\n",
       "      <td>0.839781</td>\n",
       "      <td>0.850410</td>\n",
       "      <td>0.858894</td>\n",
       "      <td>0.851766</td>\n",
       "      <td>3.358209</td>\n",
       "    </tr>\n",
       "    <tr>\n",
       "      <th>23</th>\n",
       "      <td>23</td>\n",
       "      <td>00234b893ea9e8.jpg</td>\n",
       "      <td>false_killer_whale</td>\n",
       "      <td>bfb74132d1db</td>\n",
       "      <td>0.418219</td>\n",
       "      <td>0.419484</td>\n",
       "      <td>0.396365</td>\n",
       "      <td>0.382895</td>\n",
       "      <td>0.387973</td>\n",
       "      <td>0.386285</td>\n",
       "      <td>...</td>\n",
       "      <td>0.630900</td>\n",
       "      <td>0.634309</td>\n",
       "      <td>0.634933</td>\n",
       "      <td>0.619923</td>\n",
       "      <td>0.624566</td>\n",
       "      <td>0.628921</td>\n",
       "      <td>0.619586</td>\n",
       "      <td>0.604679</td>\n",
       "      <td>0.596815</td>\n",
       "      <td>1.363636</td>\n",
       "    </tr>\n",
       "    <tr>\n",
       "      <th>24</th>\n",
       "      <td>24</td>\n",
       "      <td>0024057bbc89a4.jpg</td>\n",
       "      <td>minke_whale</td>\n",
       "      <td>114207cab555</td>\n",
       "      <td>0.693129</td>\n",
       "      <td>0.693816</td>\n",
       "      <td>0.702228</td>\n",
       "      <td>0.705314</td>\n",
       "      <td>0.714042</td>\n",
       "      <td>0.711208</td>\n",
       "      <td>...</td>\n",
       "      <td>0.651297</td>\n",
       "      <td>0.657018</td>\n",
       "      <td>0.655333</td>\n",
       "      <td>0.659661</td>\n",
       "      <td>0.662337</td>\n",
       "      <td>0.663419</td>\n",
       "      <td>0.674332</td>\n",
       "      <td>0.675750</td>\n",
       "      <td>0.674193</td>\n",
       "      <td>1.505646</td>\n",
       "    </tr>\n",
       "    <tr>\n",
       "      <th>25</th>\n",
       "      <td>25</td>\n",
       "      <td>00243d4b15bafc.jpg</td>\n",
       "      <td>beluga</td>\n",
       "      <td>3cbfd98eea8f</td>\n",
       "      <td>0.247101</td>\n",
       "      <td>0.289387</td>\n",
       "      <td>0.272959</td>\n",
       "      <td>0.255023</td>\n",
       "      <td>0.264647</td>\n",
       "      <td>0.261124</td>\n",
       "      <td>...</td>\n",
       "      <td>0.224175</td>\n",
       "      <td>0.189951</td>\n",
       "      <td>0.154715</td>\n",
       "      <td>0.125609</td>\n",
       "      <td>0.123904</td>\n",
       "      <td>0.143451</td>\n",
       "      <td>0.199916</td>\n",
       "      <td>0.214676</td>\n",
       "      <td>0.211722</td>\n",
       "      <td>1.505376</td>\n",
       "    </tr>\n",
       "    <tr>\n",
       "      <th>26</th>\n",
       "      <td>26</td>\n",
       "      <td>002618d6f63ebc.jpg</td>\n",
       "      <td>southern_right_whale</td>\n",
       "      <td>f5eab86405b4</td>\n",
       "      <td>0.846821</td>\n",
       "      <td>0.856445</td>\n",
       "      <td>0.837284</td>\n",
       "      <td>0.848479</td>\n",
       "      <td>0.847082</td>\n",
       "      <td>0.802508</td>\n",
       "      <td>...</td>\n",
       "      <td>0.881453</td>\n",
       "      <td>0.936690</td>\n",
       "      <td>0.940103</td>\n",
       "      <td>0.930211</td>\n",
       "      <td>0.928052</td>\n",
       "      <td>0.925887</td>\n",
       "      <td>0.882099</td>\n",
       "      <td>0.783854</td>\n",
       "      <td>0.610359</td>\n",
       "      <td>2.483117</td>\n",
       "    </tr>\n",
       "    <tr>\n",
       "      <th>27</th>\n",
       "      <td>27</td>\n",
       "      <td>0028f6fa123686.jpg</td>\n",
       "      <td>bottlenose_dolphin</td>\n",
       "      <td>956562ff2888</td>\n",
       "      <td>0.697209</td>\n",
       "      <td>0.666117</td>\n",
       "      <td>0.628322</td>\n",
       "      <td>0.597512</td>\n",
       "      <td>0.549276</td>\n",
       "      <td>0.460202</td>\n",
       "      <td>...</td>\n",
       "      <td>0.657513</td>\n",
       "      <td>0.659625</td>\n",
       "      <td>0.652453</td>\n",
       "      <td>0.643787</td>\n",
       "      <td>0.638387</td>\n",
       "      <td>0.635568</td>\n",
       "      <td>0.624915</td>\n",
       "      <td>0.613947</td>\n",
       "      <td>0.601609</td>\n",
       "      <td>1.500000</td>\n",
       "    </tr>\n",
       "    <tr>\n",
       "      <th>28</th>\n",
       "      <td>28</td>\n",
       "      <td>0029d877c29ab4.jpg</td>\n",
       "      <td>melon_headed_whale</td>\n",
       "      <td>c27f0a7f4e5a</td>\n",
       "      <td>0.939367</td>\n",
       "      <td>0.935021</td>\n",
       "      <td>0.931936</td>\n",
       "      <td>0.935014</td>\n",
       "      <td>0.935281</td>\n",
       "      <td>0.931487</td>\n",
       "      <td>...</td>\n",
       "      <td>0.283993</td>\n",
       "      <td>0.297922</td>\n",
       "      <td>0.278352</td>\n",
       "      <td>0.279591</td>\n",
       "      <td>0.300968</td>\n",
       "      <td>0.287639</td>\n",
       "      <td>0.279108</td>\n",
       "      <td>0.287371</td>\n",
       "      <td>0.322396</td>\n",
       "      <td>1.550824</td>\n",
       "    </tr>\n",
       "    <tr>\n",
       "      <th>29</th>\n",
       "      <td>29</td>\n",
       "      <td>002ac5f9ad7c10.jpg</td>\n",
       "      <td>false_killer_whale</td>\n",
       "      <td>f7bb4f9a9d1a</td>\n",
       "      <td>0.620482</td>\n",
       "      <td>0.593195</td>\n",
       "      <td>0.582137</td>\n",
       "      <td>0.573470</td>\n",
       "      <td>0.569682</td>\n",
       "      <td>0.583595</td>\n",
       "      <td>...</td>\n",
       "      <td>0.338757</td>\n",
       "      <td>0.350714</td>\n",
       "      <td>0.364894</td>\n",
       "      <td>0.372927</td>\n",
       "      <td>0.378102</td>\n",
       "      <td>0.386057</td>\n",
       "      <td>0.390599</td>\n",
       "      <td>0.392838</td>\n",
       "      <td>0.397995</td>\n",
       "      <td>1.500208</td>\n",
       "    </tr>\n",
       "    <tr>\n",
       "      <th>30</th>\n",
       "      <td>30</td>\n",
       "      <td>002e00960cec44.jpg</td>\n",
       "      <td>common_dolphin</td>\n",
       "      <td>e943980b7a98</td>\n",
       "      <td>0.367256</td>\n",
       "      <td>0.367281</td>\n",
       "      <td>0.367447</td>\n",
       "      <td>0.369886</td>\n",
       "      <td>0.371203</td>\n",
       "      <td>0.370913</td>\n",
       "      <td>...</td>\n",
       "      <td>0.249862</td>\n",
       "      <td>0.250260</td>\n",
       "      <td>0.248668</td>\n",
       "      <td>0.252250</td>\n",
       "      <td>0.255167</td>\n",
       "      <td>0.257949</td>\n",
       "      <td>0.260956</td>\n",
       "      <td>0.268405</td>\n",
       "      <td>0.273520</td>\n",
       "      <td>1.500000</td>\n",
       "    </tr>\n",
       "    <tr>\n",
       "      <th>31</th>\n",
       "      <td>31</td>\n",
       "      <td>002fb5fee50b97.jpg</td>\n",
       "      <td>humpback_whale</td>\n",
       "      <td>45fc3a8e1d4e</td>\n",
       "      <td>0.865105</td>\n",
       "      <td>0.839364</td>\n",
       "      <td>0.830614</td>\n",
       "      <td>0.866579</td>\n",
       "      <td>0.899343</td>\n",
       "      <td>0.916606</td>\n",
       "      <td>...</td>\n",
       "      <td>0.835427</td>\n",
       "      <td>0.812449</td>\n",
       "      <td>0.795699</td>\n",
       "      <td>0.767540</td>\n",
       "      <td>0.743792</td>\n",
       "      <td>0.688343</td>\n",
       "      <td>0.630192</td>\n",
       "      <td>0.629299</td>\n",
       "      <td>0.641479</td>\n",
       "      <td>2.998843</td>\n",
       "    </tr>\n",
       "    <tr>\n",
       "      <th>32</th>\n",
       "      <td>32</td>\n",
       "      <td>0030835e895969.jpg</td>\n",
       "      <td>killer_whale</td>\n",
       "      <td>1816cc1ae38b</td>\n",
       "      <td>0.642395</td>\n",
       "      <td>0.633857</td>\n",
       "      <td>0.613372</td>\n",
       "      <td>0.601119</td>\n",
       "      <td>0.610026</td>\n",
       "      <td>0.638043</td>\n",
       "      <td>...</td>\n",
       "      <td>0.530916</td>\n",
       "      <td>0.514697</td>\n",
       "      <td>0.495705</td>\n",
       "      <td>0.504803</td>\n",
       "      <td>0.490362</td>\n",
       "      <td>0.499098</td>\n",
       "      <td>0.511186</td>\n",
       "      <td>0.509262</td>\n",
       "      <td>0.522265</td>\n",
       "      <td>1.500208</td>\n",
       "    </tr>\n",
       "    <tr>\n",
       "      <th>33</th>\n",
       "      <td>33</td>\n",
       "      <td>0032f90c7732b0.jpg</td>\n",
       "      <td>melon_headed_whale</td>\n",
       "      <td>a21288153152</td>\n",
       "      <td>0.899138</td>\n",
       "      <td>0.909743</td>\n",
       "      <td>0.908199</td>\n",
       "      <td>0.911127</td>\n",
       "      <td>0.909184</td>\n",
       "      <td>0.903106</td>\n",
       "      <td>...</td>\n",
       "      <td>0.827001</td>\n",
       "      <td>0.839746</td>\n",
       "      <td>0.836978</td>\n",
       "      <td>0.845483</td>\n",
       "      <td>0.847763</td>\n",
       "      <td>0.841257</td>\n",
       "      <td>0.839941</td>\n",
       "      <td>0.824932</td>\n",
       "      <td>0.835354</td>\n",
       "      <td>1.319865</td>\n",
       "    </tr>\n",
       "    <tr>\n",
       "      <th>34</th>\n",
       "      <td>34</td>\n",
       "      <td>00354cd9244e28.jpg</td>\n",
       "      <td>beluga</td>\n",
       "      <td>a03830613b45</td>\n",
       "      <td>0.131340</td>\n",
       "      <td>0.150966</td>\n",
       "      <td>0.185582</td>\n",
       "      <td>0.205106</td>\n",
       "      <td>0.202434</td>\n",
       "      <td>0.210653</td>\n",
       "      <td>...</td>\n",
       "      <td>0.125440</td>\n",
       "      <td>0.173580</td>\n",
       "      <td>0.179718</td>\n",
       "      <td>0.144508</td>\n",
       "      <td>0.135310</td>\n",
       "      <td>0.119083</td>\n",
       "      <td>0.095648</td>\n",
       "      <td>0.076560</td>\n",
       "      <td>0.062250</td>\n",
       "      <td>1.505376</td>\n",
       "    </tr>\n",
       "    <tr>\n",
       "      <th>35</th>\n",
       "      <td>35</td>\n",
       "      <td>0036b5c11b39f3.jpg</td>\n",
       "      <td>short_finned_pilot_whale</td>\n",
       "      <td>fefd0899a5dc</td>\n",
       "      <td>0.649993</td>\n",
       "      <td>0.644120</td>\n",
       "      <td>0.632893</td>\n",
       "      <td>0.621283</td>\n",
       "      <td>0.616660</td>\n",
       "      <td>0.621865</td>\n",
       "      <td>...</td>\n",
       "      <td>0.462180</td>\n",
       "      <td>0.453283</td>\n",
       "      <td>0.456097</td>\n",
       "      <td>0.446140</td>\n",
       "      <td>0.480707</td>\n",
       "      <td>0.489207</td>\n",
       "      <td>0.529349</td>\n",
       "      <td>0.534572</td>\n",
       "      <td>0.541606</td>\n",
       "      <td>1.720841</td>\n",
       "    </tr>\n",
       "    <tr>\n",
       "      <th>36</th>\n",
       "      <td>36</td>\n",
       "      <td>0038d3be2513c0.jpg</td>\n",
       "      <td>blue_whale</td>\n",
       "      <td>6348a7ef0d99</td>\n",
       "      <td>0.610949</td>\n",
       "      <td>0.596083</td>\n",
       "      <td>0.592975</td>\n",
       "      <td>0.604484</td>\n",
       "      <td>0.577754</td>\n",
       "      <td>0.609805</td>\n",
       "      <td>...</td>\n",
       "      <td>0.417862</td>\n",
       "      <td>0.453728</td>\n",
       "      <td>0.500318</td>\n",
       "      <td>0.539234</td>\n",
       "      <td>0.535396</td>\n",
       "      <td>0.506344</td>\n",
       "      <td>0.480897</td>\n",
       "      <td>0.465986</td>\n",
       "      <td>0.464078</td>\n",
       "      <td>6.182957</td>\n",
       "    </tr>\n",
       "    <tr>\n",
       "      <th>37</th>\n",
       "      <td>37</td>\n",
       "      <td>0039599b58fc80.jpg</td>\n",
       "      <td>bottlenose_dolphin</td>\n",
       "      <td>e69d5f9f8d1e</td>\n",
       "      <td>0.783027</td>\n",
       "      <td>0.808410</td>\n",
       "      <td>0.816820</td>\n",
       "      <td>0.821308</td>\n",
       "      <td>0.833842</td>\n",
       "      <td>0.841595</td>\n",
       "      <td>...</td>\n",
       "      <td>0.574012</td>\n",
       "      <td>0.571122</td>\n",
       "      <td>0.569760</td>\n",
       "      <td>0.582045</td>\n",
       "      <td>0.601580</td>\n",
       "      <td>0.599724</td>\n",
       "      <td>0.594778</td>\n",
       "      <td>0.589471</td>\n",
       "      <td>0.589228</td>\n",
       "      <td>1.500000</td>\n",
       "    </tr>\n",
       "    <tr>\n",
       "      <th>38</th>\n",
       "      <td>38</td>\n",
       "      <td>00398cfc6f6675.jpg</td>\n",
       "      <td>beluga</td>\n",
       "      <td>90c9eaca0927</td>\n",
       "      <td>0.382104</td>\n",
       "      <td>0.391458</td>\n",
       "      <td>0.395168</td>\n",
       "      <td>0.401997</td>\n",
       "      <td>0.409588</td>\n",
       "      <td>0.387305</td>\n",
       "      <td>...</td>\n",
       "      <td>0.331240</td>\n",
       "      <td>0.311578</td>\n",
       "      <td>0.292971</td>\n",
       "      <td>0.322679</td>\n",
       "      <td>0.351053</td>\n",
       "      <td>0.326236</td>\n",
       "      <td>0.301657</td>\n",
       "      <td>0.319962</td>\n",
       "      <td>0.376925</td>\n",
       "      <td>3.973684</td>\n",
       "    </tr>\n",
       "    <tr>\n",
       "      <th>39</th>\n",
       "      <td>39</td>\n",
       "      <td>0039955230421d.jpg</td>\n",
       "      <td>beluga</td>\n",
       "      <td>5ca799f80b5e</td>\n",
       "      <td>0.295429</td>\n",
       "      <td>0.318635</td>\n",
       "      <td>0.278170</td>\n",
       "      <td>0.300692</td>\n",
       "      <td>0.300243</td>\n",
       "      <td>0.274278</td>\n",
       "      <td>...</td>\n",
       "      <td>0.286147</td>\n",
       "      <td>0.282322</td>\n",
       "      <td>0.257007</td>\n",
       "      <td>0.248992</td>\n",
       "      <td>0.252809</td>\n",
       "      <td>0.262353</td>\n",
       "      <td>0.252140</td>\n",
       "      <td>0.251230</td>\n",
       "      <td>0.249185</td>\n",
       "      <td>3.270619</td>\n",
       "    </tr>\n",
       "  </tbody>\n",
       "</table>\n",
       "<p>40 rows × 65541 columns</p>\n",
       "</div>"
      ],
      "text/plain": [
       "    index               image                   species individual_id  \\\n",
       "0       0  00021adfb725ed.jpg        melon_headed_whale  cadddb1636b9   \n",
       "1       1  000562241d384d.jpg            humpback_whale  1a71fbb72250   \n",
       "2       2  0007c33415ce37.jpg        false_killer_whale  60008f293a2b   \n",
       "3       3  0007d9bca26a99.jpg        bottlenose_dolphin  4b00fe572063   \n",
       "4       4  00087baf5cef7a.jpg            humpback_whale  8e5253662392   \n",
       "5       5  000a8f2d5c316a.jpg        bottlenose_dolphin  b9907151f66e   \n",
       "6       6  000be9acf46619.jpg                    beluga  afb9b3978217   \n",
       "7       7  000bef247c7a42.jpg            humpback_whale  444d8894ccc8   \n",
       "8       8  000c3d63069748.jpg                    beluga  df94b15285b9   \n",
       "9       9  000c476c11bad5.jpg        bottlenose_dolphin  b11b2404c7e3   \n",
       "10     10  001001f099519f.jpg               minke_whale  19fbb960f07d   \n",
       "11     11  00103cbe9d25ce.jpg                 fin_whale  180c0ab04dcd   \n",
       "12     12  00144776eb476d.jpg        bottlenose_dolphin  b9907151f66e   \n",
       "13     13  00167e8375c967.jpg                    beluga  0ad50d0d9b06   \n",
       "14     14  00177f3c614d1e.jpg        bottlenose_dolphin  812be36c2aef   \n",
       "15     15  0017b3749cd769.jpg        bottlenose_dolphin  445270d9ad52   \n",
       "16     16  0018064338b499.jpg                blue_whale  4790ec346170   \n",
       "17     17  001b0900f56e89.jpg            humpback_whale  bc14b5054353   \n",
       "18     18  001cfade605960.jpg                blue_whale  ff69d0975a73   \n",
       "19     19  001f1a1f22da96.jpg               minke_whale  780fefdb6198   \n",
       "20     20  0020004d64ae20.jpg                gray_whale  a8c9dfb8ac6f   \n",
       "21     21  00206a224e68de.jpg                blue_whale  6c4372e42db1   \n",
       "22     22  0022bdb8eb5684.jpg            humpback_whale  35f898e6595e   \n",
       "23     23  00234b893ea9e8.jpg        false_killer_whale  bfb74132d1db   \n",
       "24     24  0024057bbc89a4.jpg               minke_whale  114207cab555   \n",
       "25     25  00243d4b15bafc.jpg                    beluga  3cbfd98eea8f   \n",
       "26     26  002618d6f63ebc.jpg      southern_right_whale  f5eab86405b4   \n",
       "27     27  0028f6fa123686.jpg        bottlenose_dolphin  956562ff2888   \n",
       "28     28  0029d877c29ab4.jpg        melon_headed_whale  c27f0a7f4e5a   \n",
       "29     29  002ac5f9ad7c10.jpg        false_killer_whale  f7bb4f9a9d1a   \n",
       "30     30  002e00960cec44.jpg            common_dolphin  e943980b7a98   \n",
       "31     31  002fb5fee50b97.jpg            humpback_whale  45fc3a8e1d4e   \n",
       "32     32  0030835e895969.jpg              killer_whale  1816cc1ae38b   \n",
       "33     33  0032f90c7732b0.jpg        melon_headed_whale  a21288153152   \n",
       "34     34  00354cd9244e28.jpg                    beluga  a03830613b45   \n",
       "35     35  0036b5c11b39f3.jpg  short_finned_pilot_whale  fefd0899a5dc   \n",
       "36     36  0038d3be2513c0.jpg                blue_whale  6348a7ef0d99   \n",
       "37     37  0039599b58fc80.jpg        bottlenose_dolphin  e69d5f9f8d1e   \n",
       "38     38  00398cfc6f6675.jpg                    beluga  90c9eaca0927   \n",
       "39     39  0039955230421d.jpg                    beluga  5ca799f80b5e   \n",
       "\n",
       "           0         1         2         3         4         5  ...     65527  \\\n",
       "0   0.463753  0.469581  0.477523  0.487009  0.498406  0.511733  ...  0.201963   \n",
       "1   0.833581  0.840353  0.845824  0.827661  0.828294  0.857705  ...  0.861722   \n",
       "2   0.663449  0.670953  0.681730  0.680676  0.693642  0.702199  ...  0.691140   \n",
       "3   0.543918  0.598159  0.644220  0.672533  0.703838  0.735460  ...  0.300331   \n",
       "4   0.396056  0.374476  0.387099  0.370121  0.380355  0.390234  ...  0.350706   \n",
       "5   0.727182  0.743250  0.749441  0.751597  0.739088  0.726531  ...  0.658858   \n",
       "6   0.459196  0.426789  0.444362  0.453244  0.464838  0.443469  ...  0.574179   \n",
       "7   0.739286  0.740062  0.740072  0.741292  0.741357  0.743443  ...  0.387340   \n",
       "8   0.502972  0.493980  0.490700  0.492119  0.492681  0.485694  ...  0.479749   \n",
       "9   0.211711  0.222648  0.228982  0.238866  0.272159  0.253871  ...  0.408418   \n",
       "10  0.143177  0.170431  0.196390  0.210876  0.194333  0.179423  ...  0.768147   \n",
       "11  0.304474  0.344146  0.398792  0.466736  0.477714  0.397833  ...  0.303825   \n",
       "12  0.673150  0.690062  0.710488  0.728229  0.725212  0.706987  ...  0.656652   \n",
       "13  0.719220  0.717087  0.693947  0.689578  0.713409  0.693013  ...  0.720010   \n",
       "14  0.721074  0.714247  0.677068  0.625120  0.528242  0.467569  ...  0.309177   \n",
       "15  0.401963  0.445525  0.438830  0.404778  0.414802  0.421082  ...  0.195270   \n",
       "16  0.810384  0.811366  0.811045  0.811983  0.811239  0.808149  ...  0.320814   \n",
       "17  0.766551  0.746652  0.730781  0.721075  0.715988  0.711839  ...  0.588878   \n",
       "18  0.393988  0.562060  0.686618  0.684095  0.665486  0.639395  ...  0.834144   \n",
       "19  0.470113  0.473409  0.478330  0.479568  0.482356  0.485048  ...  0.719174   \n",
       "20  0.929088  0.924997  0.922829  0.922568  0.924100  0.925956  ...  0.980329   \n",
       "21  0.692726  0.677251  0.643005  0.631015  0.645038  0.658167  ...  0.430136   \n",
       "22  0.846827  0.850780  0.849353  0.857624  0.863878  0.860650  ...  0.861123   \n",
       "23  0.418219  0.419484  0.396365  0.382895  0.387973  0.386285  ...  0.630900   \n",
       "24  0.693129  0.693816  0.702228  0.705314  0.714042  0.711208  ...  0.651297   \n",
       "25  0.247101  0.289387  0.272959  0.255023  0.264647  0.261124  ...  0.224175   \n",
       "26  0.846821  0.856445  0.837284  0.848479  0.847082  0.802508  ...  0.881453   \n",
       "27  0.697209  0.666117  0.628322  0.597512  0.549276  0.460202  ...  0.657513   \n",
       "28  0.939367  0.935021  0.931936  0.935014  0.935281  0.931487  ...  0.283993   \n",
       "29  0.620482  0.593195  0.582137  0.573470  0.569682  0.583595  ...  0.338757   \n",
       "30  0.367256  0.367281  0.367447  0.369886  0.371203  0.370913  ...  0.249862   \n",
       "31  0.865105  0.839364  0.830614  0.866579  0.899343  0.916606  ...  0.835427   \n",
       "32  0.642395  0.633857  0.613372  0.601119  0.610026  0.638043  ...  0.530916   \n",
       "33  0.899138  0.909743  0.908199  0.911127  0.909184  0.903106  ...  0.827001   \n",
       "34  0.131340  0.150966  0.185582  0.205106  0.202434  0.210653  ...  0.125440   \n",
       "35  0.649993  0.644120  0.632893  0.621283  0.616660  0.621865  ...  0.462180   \n",
       "36  0.610949  0.596083  0.592975  0.604484  0.577754  0.609805  ...  0.417862   \n",
       "37  0.783027  0.808410  0.816820  0.821308  0.833842  0.841595  ...  0.574012   \n",
       "38  0.382104  0.391458  0.395168  0.401997  0.409588  0.387305  ...  0.331240   \n",
       "39  0.295429  0.318635  0.278170  0.300692  0.300243  0.274278  ...  0.286147   \n",
       "\n",
       "       65528     65529     65530     65531     65532     65533     65534  \\\n",
       "0   0.192882  0.200069  0.197648  0.195564  0.196354  0.200686  0.199245   \n",
       "1   0.864713  0.859254  0.846934  0.832020  0.829230  0.843044  0.853534   \n",
       "2   0.688582  0.676637  0.689521  0.676711  0.666995  0.666486  0.666531   \n",
       "3   0.309465  0.315749  0.314464  0.310216  0.313937  0.327092  0.326221   \n",
       "4   0.355065  0.357953  0.361097  0.361008  0.360607  0.358741  0.355178   \n",
       "5   0.675568  0.694625  0.713584  0.707712  0.708075  0.715902  0.722552   \n",
       "6   0.573082  0.559099  0.597367  0.611254  0.622483  0.625033  0.632379   \n",
       "7   0.405948  0.434217  0.430417  0.407707  0.407206  0.316474  0.303871   \n",
       "8   0.466936  0.469607  0.466498  0.464025  0.455233  0.461328  0.472920   \n",
       "9   0.443029  0.453873  0.430588  0.417603  0.432074  0.441054  0.482185   \n",
       "10  0.751151  0.741302  0.744417  0.749963  0.763799  0.776376  0.787759   \n",
       "11  0.299054  0.316533  0.346870  0.401204  0.450359  0.480667  0.485780   \n",
       "12  0.644988  0.618529  0.609310  0.600192  0.608220  0.610017  0.594028   \n",
       "13  0.691876  0.721573  0.725111  0.719844  0.690548  0.693811  0.693756   \n",
       "14  0.349858  0.391906  0.427862  0.476322  0.517584  0.536825  0.551755   \n",
       "15  0.167646  0.167521  0.208259  0.274775  0.315554  0.337784  0.358844   \n",
       "16  0.344371  0.363314  0.353094  0.339909  0.346038  0.349779  0.387866   \n",
       "17  0.564414  0.540015  0.518603  0.499780  0.482420  0.468520  0.457032   \n",
       "18  0.842495  0.873254  0.888551  0.880166  0.867329  0.881727  0.879882   \n",
       "19  0.713511  0.706200  0.694022  0.692386  0.694976  0.689738  0.673126   \n",
       "20  0.980617  0.981343  0.981883  0.981497  0.981249  0.980895  0.978531   \n",
       "21  0.421374  0.438297  0.423958  0.415941  0.404336  0.408635  0.413862   \n",
       "22  0.856142  0.844980  0.838043  0.827680  0.839781  0.850410  0.858894   \n",
       "23  0.634309  0.634933  0.619923  0.624566  0.628921  0.619586  0.604679   \n",
       "24  0.657018  0.655333  0.659661  0.662337  0.663419  0.674332  0.675750   \n",
       "25  0.189951  0.154715  0.125609  0.123904  0.143451  0.199916  0.214676   \n",
       "26  0.936690  0.940103  0.930211  0.928052  0.925887  0.882099  0.783854   \n",
       "27  0.659625  0.652453  0.643787  0.638387  0.635568  0.624915  0.613947   \n",
       "28  0.297922  0.278352  0.279591  0.300968  0.287639  0.279108  0.287371   \n",
       "29  0.350714  0.364894  0.372927  0.378102  0.386057  0.390599  0.392838   \n",
       "30  0.250260  0.248668  0.252250  0.255167  0.257949  0.260956  0.268405   \n",
       "31  0.812449  0.795699  0.767540  0.743792  0.688343  0.630192  0.629299   \n",
       "32  0.514697  0.495705  0.504803  0.490362  0.499098  0.511186  0.509262   \n",
       "33  0.839746  0.836978  0.845483  0.847763  0.841257  0.839941  0.824932   \n",
       "34  0.173580  0.179718  0.144508  0.135310  0.119083  0.095648  0.076560   \n",
       "35  0.453283  0.456097  0.446140  0.480707  0.489207  0.529349  0.534572   \n",
       "36  0.453728  0.500318  0.539234  0.535396  0.506344  0.480897  0.465986   \n",
       "37  0.571122  0.569760  0.582045  0.601580  0.599724  0.594778  0.589471   \n",
       "38  0.311578  0.292971  0.322679  0.351053  0.326236  0.301657  0.319962   \n",
       "39  0.282322  0.257007  0.248992  0.252809  0.262353  0.252140  0.251230   \n",
       "\n",
       "       65535  aspect_ratio  \n",
       "0   0.197579      1.198212  \n",
       "1   0.855525      1.500000  \n",
       "2   0.653706      1.500208  \n",
       "3   0.318659      1.500000  \n",
       "4   0.351214      1.333457  \n",
       "5   0.719074      1.500000  \n",
       "6   0.619221      3.932584  \n",
       "7   0.370241      1.500000  \n",
       "8   0.468736      2.850000  \n",
       "9   0.539631      1.500000  \n",
       "10  0.792108      1.500208  \n",
       "11  0.484451      1.500208  \n",
       "12  0.588562      1.500000  \n",
       "13  0.732789      2.515723  \n",
       "14  0.561601      1.500000  \n",
       "15  0.365013      1.500000  \n",
       "16  0.383774      6.358757  \n",
       "17  0.446593      1.500208  \n",
       "18  0.583730      7.453416  \n",
       "19  0.666806      1.493981  \n",
       "20  0.977805      1.500208  \n",
       "21  0.406045      4.476636  \n",
       "22  0.851766      3.358209  \n",
       "23  0.596815      1.363636  \n",
       "24  0.674193      1.505646  \n",
       "25  0.211722      1.505376  \n",
       "26  0.610359      2.483117  \n",
       "27  0.601609      1.500000  \n",
       "28  0.322396      1.550824  \n",
       "29  0.397995      1.500208  \n",
       "30  0.273520      1.500000  \n",
       "31  0.641479      2.998843  \n",
       "32  0.522265      1.500208  \n",
       "33  0.835354      1.319865  \n",
       "34  0.062250      1.505376  \n",
       "35  0.541606      1.720841  \n",
       "36  0.464078      6.182957  \n",
       "37  0.589228      1.500000  \n",
       "38  0.376925      3.973684  \n",
       "39  0.249185      3.270619  \n",
       "\n",
       "[40 rows x 65541 columns]"
      ]
     },
     "execution_count": 19,
     "metadata": {},
     "output_type": "execute_result"
    }
   ],
   "source": [
    "experimental_df_"
   ]
  },
  {
   "cell_type": "markdown",
   "id": "3bd1c19c",
   "metadata": {
    "papermill": {
     "duration": 0.076458,
     "end_time": "2022-02-23T10:08:45.110823",
     "exception": false,
     "start_time": "2022-02-23T10:08:45.034365",
     "status": "completed"
    },
    "tags": []
   },
   "source": [
    "####  Using different methods of parallization"
   ]
  },
  {
   "cell_type": "code",
   "execution_count": 20,
   "id": "c9f50dbf",
   "metadata": {
    "execution": {
     "iopub.execute_input": "2022-02-23T10:08:45.269859Z",
     "iopub.status.busy": "2022-02-23T10:08:45.269245Z",
     "iopub.status.idle": "2022-02-23T10:09:33.430846Z",
     "shell.execute_reply": "2022-02-23T10:09:33.431320Z",
     "shell.execute_reply.started": "2022-02-23T09:01:24.880035Z"
    },
    "papermill": {
     "duration": 48.243731,
     "end_time": "2022-02-23T10:09:33.431509",
     "exception": false,
     "start_time": "2022-02-23T10:08:45.187778",
     "status": "completed"
    },
    "tags": []
   },
   "outputs": [
    {
     "name": "stdout",
     "output_type": "stream",
     "text": [
      "pool pixelize images processing: done in 23.438 seconds.\n",
      "pool pixelize images processing threads: done in 24.641 seconds.\n"
     ]
    }
   ],
   "source": [
    "with timer('pool pixelize images processing:'):\n",
    "    with Pool(processes=CPUS) as pool:\n",
    "        dfs_proc = pool.map(pixelize_images_in_df, experimental_dfs_split)\n",
    "        \n",
    "\n",
    "with timer('pool pixelize images processing threads:'):\n",
    "    with ThreadPool(processes=CPUS) as pool:\n",
    "        dfs_proc = pool.map(pixelize_images_in_df, experimental_dfs_split)"
   ]
  },
  {
   "cell_type": "code",
   "execution_count": 21,
   "id": "72581108",
   "metadata": {
    "execution": {
     "iopub.execute_input": "2022-02-23T10:09:33.588102Z",
     "iopub.status.busy": "2022-02-23T10:09:33.587379Z",
     "iopub.status.idle": "2022-02-23T10:10:24.646695Z",
     "shell.execute_reply": "2022-02-23T10:10:24.647186Z",
     "shell.execute_reply.started": "2022-02-23T09:02:46.349799Z"
    },
    "papermill": {
     "duration": 51.13872,
     "end_time": "2022-02-23T10:10:24.647347",
     "exception": false,
     "start_time": "2022-02-23T10:09:33.508627",
     "status": "completed"
    },
    "tags": []
   },
   "outputs": [
    {
     "name": "stdout",
     "output_type": "stream",
     "text": [
      "joblib parallel pixelize images processing: done in 26.233 seconds.\n",
      "joblib parallel pixelize images processing threads: done in 24.744 seconds.\n"
     ]
    }
   ],
   "source": [
    "with timer('joblib parallel pixelize images processing:'):\n",
    "    dfs_proc = Parallel(n_jobs=CPUS)(delayed(pixelize_images_in_df)(i) for i in experimental_dfs_split)\n",
    "    \n",
    "    \n",
    "with timer('joblib parallel pixelize images processing threads:'):\n",
    "    dfs_proc = Parallel(n_jobs=CPUS, prefer='threads')(delayed(pixelize_images_in_df)(i) for i in experimental_dfs_split)\n"
   ]
  },
  {
   "cell_type": "code",
   "execution_count": 22,
   "id": "e38ed82e",
   "metadata": {
    "execution": {
     "iopub.execute_input": "2022-02-23T10:10:24.800267Z",
     "iopub.status.busy": "2022-02-23T10:10:24.799696Z",
     "iopub.status.idle": "2022-02-23T10:11:11.628372Z",
     "shell.execute_reply": "2022-02-23T10:11:11.629097Z",
     "shell.execute_reply.started": "2022-02-23T09:06:37.414155Z"
    },
    "papermill": {
     "duration": 46.907047,
     "end_time": "2022-02-23T10:11:11.629334",
     "exception": false,
     "start_time": "2022-02-23T10:10:24.722287",
     "status": "completed"
    },
    "tags": []
   },
   "outputs": [
    {
     "name": "stdout",
     "output_type": "stream",
     "text": [
      "pool pixelize images processing: done in 23.373 seconds.\n",
      "joblib parallel pixelize images processing: done in 23.373 seconds.\n"
     ]
    }
   ],
   "source": [
    "with timer('pool pixelize images processing:'):\n",
    "    with Pool(processes=CPUS) as pool:\n",
    "        dfs_proc = pool.map(pixelize_images_in_df, experimental_dfs_split)\n",
    "\n",
    "with timer('joblib parallel pixelize images processing:'):\n",
    "    dfs_proc = Parallel(n_jobs=CPUS)(delayed(pixelize_images_in_df)(i) for i in experimental_dfs_split)\n",
    "    "
   ]
  },
  {
   "cell_type": "code",
   "execution_count": 23,
   "id": "75b5fc98",
   "metadata": {
    "execution": {
     "iopub.execute_input": "2022-02-23T10:11:11.783683Z",
     "iopub.status.busy": "2022-02-23T10:11:11.783073Z",
     "iopub.status.idle": "2022-02-23T10:11:11.790007Z",
     "shell.execute_reply": "2022-02-23T10:11:11.790991Z",
     "shell.execute_reply.started": "2022-02-21T10:43:36.550177Z"
    },
    "papermill": {
     "duration": 0.085883,
     "end_time": "2022-02-23T10:11:11.791238",
     "exception": false,
     "start_time": "2022-02-23T10:11:11.705355",
     "status": "completed"
    },
    "tags": []
   },
   "outputs": [
    {
     "name": "stdout",
     "output_type": "stream",
     "text": [
      "Estimated time to process 51033: 22523.41455 seconds\n",
      "Estimated time to process 51033: 375.3902425 minutes\n",
      "Estimated time to process 51033: 6.256504041666667 hours\n"
     ]
    }
   ],
   "source": [
    "time_taken_per_image = 17.654 / 40 # 17.654 seconds from 4 Pools\n",
    "n_images_to_process = 51033\n",
    "estimated_time_in_seconds = time_taken_per_image*n_images_to_process\n",
    "estimated_time_in_minutes = time_taken_per_image*n_images_to_process / 60\n",
    "estimated_time_in_hours = time_taken_per_image*n_images_to_process / 3600\n",
    "print(\"Estimated time to process {}: {} seconds\".format(n_images_to_process, estimated_time_in_seconds))\n",
    "print(\"Estimated time to process {}: {} minutes\".format(n_images_to_process, estimated_time_in_minutes))\n",
    "print(\"Estimated time to process {}: {} hours\".format(n_images_to_process, estimated_time_in_hours))"
   ]
  },
  {
   "cell_type": "markdown",
   "id": "b0036a87",
   "metadata": {
    "papermill": {
     "duration": 0.077348,
     "end_time": "2022-02-23T10:11:11.945679",
     "exception": false,
     "start_time": "2022-02-23T10:11:11.868331",
     "status": "completed"
    },
    "tags": []
   },
   "source": [
    "### Summary of timing experiment\n",
    "\n",
    "40 images pixelized and processed.\n",
    "Time for: \n",
    "- Baseline (Sequential): 47.173s\n",
    "- Pool: 17.654s\n",
    "- Threadpool: 21.775s\n",
    "- joblib Parallel jobs: 19.558s\n",
    "- joblib parallel jobs with threads: 21.839s\n",
    "\n",
    "Seems like using regular pools is the fastest. This makes sense because threading will create more overhead than distributing the task to workers, especially since we only have 4 CPUs.\n",
    "\n",
    "### Conclusions of experiment\n",
    "\n",
    "We'll process the entire dataset by parallelizing the data processing in batches such that if while running the processing the notebook dies, we'll be able to continue where we left off."
   ]
  },
  {
   "cell_type": "markdown",
   "id": "1f0d68d8",
   "metadata": {
    "papermill": {
     "duration": 0.076936,
     "end_time": "2022-02-23T10:11:12.099955",
     "exception": false,
     "start_time": "2022-02-23T10:11:12.023019",
     "status": "completed"
    },
    "tags": []
   },
   "source": [
    "## Processing Images in batches"
   ]
  },
  {
   "cell_type": "code",
   "execution_count": 24,
   "id": "b32cac23",
   "metadata": {
    "execution": {
     "iopub.execute_input": "2022-02-23T10:11:12.260569Z",
     "iopub.status.busy": "2022-02-23T10:11:12.259664Z",
     "iopub.status.idle": "2022-02-23T10:11:12.266265Z",
     "shell.execute_reply": "2022-02-23T10:11:12.266759Z",
     "shell.execute_reply.started": "2022-02-23T09:46:08.228661Z"
    },
    "papermill": {
     "duration": 0.085172,
     "end_time": "2022-02-23T10:11:12.266934",
     "exception": false,
     "start_time": "2022-02-23T10:11:12.181762",
     "status": "completed"
    },
    "tags": []
   },
   "outputs": [],
   "source": [
    "def pool_process_and_dump(df, output_path_from_batch_processed, timer_str, CPUS=4, log=False):\n",
    "    df_splits = split_df(df, CPUS, log=log)\n",
    "    with timer(timer_str):\n",
    "        with Pool(processes=CPUS) as pool:\n",
    "            dfs_proc = pool.map(pixelize_images_in_df, df_splits)\n",
    "    processed_df = pd.concat(dfs_proc)\n",
    "    \n",
    "    output_dir = '/kaggle/working'\n",
    "    batch_process_dir = os.path.join(output_dir, 'batch_processed')\n",
    "    if not os.path.exists(batch_process_dir):\n",
    "        os.makedirs(batch_process_dir)\n",
    "    batch_process_fn = os.path.join(batch_process_dir,\n",
    "                            output_path_from_batch_processed)\n",
    "    processed_df.to_csv(batch_process_fn, index=False)"
   ]
  },
  {
   "cell_type": "code",
   "execution_count": 25,
   "id": "6b9b1147",
   "metadata": {
    "execution": {
     "iopub.execute_input": "2022-02-23T10:11:12.421353Z",
     "iopub.status.busy": "2022-02-23T10:11:12.420403Z",
     "iopub.status.idle": "2022-02-23T10:23:22.230388Z",
     "shell.execute_reply": "2022-02-23T10:23:22.229699Z",
     "shell.execute_reply.started": "2022-02-23T10:06:31.287608Z"
    },
    "papermill": {
     "duration": 729.888846,
     "end_time": "2022-02-23T10:23:22.230716",
     "exception": false,
     "start_time": "2022-02-23T10:11:12.341870",
     "status": "completed"
    },
    "tags": []
   },
   "outputs": [
    {
     "name": "stdout",
     "output_type": "stream",
     "text": [
      "Using 14 of each species\n",
      "pool pixelize images processing all species df done in 158.201 seconds.\n",
      "pool pixelize images processing sampled batch done in 27.024 seconds.\n",
      "pool pixelize images processing sampled batch done in 26.280 seconds.\n",
      "pool pixelize images processing sampled batch done in 25.903 seconds.\n",
      "pool pixelize images processing sampled batch done in 28.807 seconds.\n",
      "pool pixelize images processing sampled batch done in 19.781 seconds.\n",
      "pool pixelize images processing sampled batch done in 27.606 seconds.\n",
      "pool pixelize images processing sampled batch done in 24.498 seconds.\n",
      "pool pixelize images processing sampled batch done in 19.577 seconds.\n",
      "pool pixelize images processing sampled batch done in 22.293 seconds.\n",
      "pool pixelize images processing sampled batch done in 17.102 seconds.\n",
      "pool pixelize images processing sampled batch done in 26.308 seconds.\n",
      "pool pixelize images processing sampled batch done in 17.859 seconds.\n",
      "pool pixelize images processing sampled batch done in 20.366 seconds.\n",
      "pool pixelize images processing sampled batch done in 25.393 seconds.\n",
      "pool pixelize images processing sampled batch done in 24.475 seconds.\n",
      "pool pixelize images processing sampled batch done in 22.299 seconds.\n"
     ]
    }
   ],
   "source": [
    "# min(train_df.species.value_counts())\n",
    "# Simple training set will be composed of 14 of each species with pairs of each individual id\n",
    "all_species_training_sets = []\n",
    "n_each_species = min(train_df.species.value_counts())\n",
    "print('Using {} of each species'.format(n_each_species))\n",
    "for s in train_df.species.unique():\n",
    "    sample = train_df[train_df.species == s].head(n_each_species) # use head to be deterministic for sample\n",
    "    all_species_training_sets.append(sample)\n",
    "    \n",
    "all_species_train_df = pd.concat(all_species_training_sets)\n",
    "pool_process_and_dump(all_species_train_df,\n",
    "                      'processed_batch_df_all_species.csv',\n",
    "                      'pool pixelize images processing all species df')\n",
    "\n",
    "# sample up to 1000 for training set\n",
    "remaining_training_set = 1000 - len(all_species_train_df)\n",
    "batch_size = 40\n",
    "\n",
    "left_off_on_n = 0\n",
    "continue_until_n = remaining_training_set # None # changing this to None will use the entire train_df\n",
    "while left_off_on_n < continue_until_n:\n",
    "    next_batch_index = left_off_on_n+batch_size\n",
    "    \n",
    "    sampled_df = train_df.sample(batch_size, random_state=left_off_on_n)\n",
    "    pool_process_and_dump(sampled_df,\n",
    "                      'processed_batch_sampled_df_random_state_{}.csv'.format(left_off_on_n),\n",
    "                      'pool pixelize images processing sampled batch')\n",
    "    \n",
    "    left_off_on_n = next_batch_index\n"
   ]
  },
  {
   "cell_type": "markdown",
   "id": "2cd19e2d",
   "metadata": {
    "papermill": {
     "duration": 0.081325,
     "end_time": "2022-02-23T10:23:22.397137",
     "exception": false,
     "start_time": "2022-02-23T10:23:22.315812",
     "status": "completed"
    },
    "tags": []
   },
   "source": [
    "## Simple model"
   ]
  },
  {
   "cell_type": "code",
   "execution_count": 26,
   "id": "79356868",
   "metadata": {
    "execution": {
     "iopub.execute_input": "2022-02-23T10:23:22.569608Z",
     "iopub.status.busy": "2022-02-23T10:23:22.567673Z",
     "iopub.status.idle": "2022-02-23T10:23:22.572967Z",
     "shell.execute_reply": "2022-02-23T10:23:22.572421Z",
     "shell.execute_reply.started": "2022-02-21T11:29:44.489589Z"
    },
    "papermill": {
     "duration": 0.091931,
     "end_time": "2022-02-23T10:23:22.573132",
     "exception": false,
     "start_time": "2022-02-23T10:23:22.481201",
     "status": "completed"
    },
    "tags": []
   },
   "outputs": [],
   "source": [
    "# # min(train_df.species.value_counts())\n",
    "# # Simple training set will be composed of 14 of each species\n",
    "# simple_training_sets = []\n",
    "# n_each_species = min(train_df.species.value_counts())\n",
    "# for s in train_df.species.unique():\n",
    "#     sample = train_df[train_df.species == s].sample(n_each_species)\n",
    "#     simple_training_sets.append(sample)\n",
    "    \n",
    "# simple_training_df = pd.concat(simple_training_sets)\n",
    "# simple_training_df"
   ]
  },
  {
   "cell_type": "code",
   "execution_count": 27,
   "id": "88f44680",
   "metadata": {
    "execution": {
     "iopub.execute_input": "2022-02-23T10:23:22.739746Z",
     "iopub.status.busy": "2022-02-23T10:23:22.739155Z",
     "iopub.status.idle": "2022-02-23T10:23:22.740971Z",
     "shell.execute_reply": "2022-02-23T10:23:22.741453Z",
     "shell.execute_reply.started": "2022-02-21T12:20:20.462583Z"
    },
    "papermill": {
     "duration": 0.087173,
     "end_time": "2022-02-23T10:23:22.741609",
     "exception": false,
     "start_time": "2022-02-23T10:23:22.654436",
     "status": "completed"
    },
    "tags": []
   },
   "outputs": [],
   "source": [
    "# val_df = train_df.sample(50)"
   ]
  },
  {
   "cell_type": "code",
   "execution_count": 28,
   "id": "5dfe8233",
   "metadata": {
    "execution": {
     "iopub.execute_input": "2022-02-23T10:23:22.906729Z",
     "iopub.status.busy": "2022-02-23T10:23:22.906081Z",
     "iopub.status.idle": "2022-02-23T10:23:22.909799Z",
     "shell.execute_reply": "2022-02-23T10:23:22.910301Z",
     "shell.execute_reply.started": "2022-02-21T11:31:59.299043Z"
    },
    "papermill": {
     "duration": 0.088153,
     "end_time": "2022-02-23T10:23:22.910479",
     "exception": false,
     "start_time": "2022-02-23T10:23:22.822326",
     "status": "completed"
    },
    "tags": []
   },
   "outputs": [],
   "source": [
    "# simple_train_dfs_split = split_df(simple_training_df, CPUS)\n",
    "# simple_training_df_ = pd.concat(simple_train_dfs_split, ignore_index=True, sort=False)\n",
    "\n",
    "# with timer('pool pixelize images processing:'):\n",
    "#     with Pool(processes=4) as pool:\n",
    "#         simple_training_df_processed = pool.map(pixelize_images_in_df, simple_train_dfs_split)"
   ]
  },
  {
   "cell_type": "code",
   "execution_count": 29,
   "id": "924d7b41",
   "metadata": {
    "execution": {
     "iopub.execute_input": "2022-02-23T10:23:23.077943Z",
     "iopub.status.busy": "2022-02-23T10:23:23.077369Z",
     "iopub.status.idle": "2022-02-23T10:23:23.080200Z",
     "shell.execute_reply": "2022-02-23T10:23:23.080659Z",
     "shell.execute_reply.started": "2022-02-21T12:21:00.741164Z"
    },
    "papermill": {
     "duration": 0.088033,
     "end_time": "2022-02-23T10:23:23.080820",
     "exception": false,
     "start_time": "2022-02-23T10:23:22.992787",
     "status": "completed"
    },
    "tags": []
   },
   "outputs": [],
   "source": [
    "# val_dfs_split = split_df(val_df, CPUS)\n",
    "# val_df_ = pd.concat(val_dfs_split, ignore_index=True, sort=False)\n",
    "\n",
    "# with timer('pool pixelize images processing:'):\n",
    "#     with Pool(processes=4) as pool:\n",
    "#         val_df_processed = pool.map(pixelize_images_in_df, val_dfs_split)"
   ]
  },
  {
   "cell_type": "code",
   "execution_count": 30,
   "id": "32f75bb6",
   "metadata": {
    "execution": {
     "iopub.execute_input": "2022-02-23T10:23:23.246174Z",
     "iopub.status.busy": "2022-02-23T10:23:23.245526Z",
     "iopub.status.idle": "2022-02-23T10:23:23.248453Z",
     "shell.execute_reply": "2022-02-23T10:23:23.248917Z",
     "shell.execute_reply.started": "2022-02-21T12:21:29.563248Z"
    },
    "papermill": {
     "duration": 0.086743,
     "end_time": "2022-02-23T10:23:23.249084",
     "exception": false,
     "start_time": "2022-02-23T10:23:23.162341",
     "status": "completed"
    },
    "tags": []
   },
   "outputs": [],
   "source": [
    "# simple_training_df_processed_combined = pd.concat(simple_training_df_processed)\n",
    "# val_df_processed_combined = pd.concat(val_df_processed)"
   ]
  },
  {
   "cell_type": "code",
   "execution_count": 31,
   "id": "849f7e27",
   "metadata": {
    "execution": {
     "iopub.execute_input": "2022-02-23T10:23:23.418364Z",
     "iopub.status.busy": "2022-02-23T10:23:23.417482Z",
     "iopub.status.idle": "2022-02-23T10:23:23.420743Z",
     "shell.execute_reply": "2022-02-23T10:23:23.421252Z",
     "shell.execute_reply.started": "2022-02-21T12:21:58.194802Z"
    },
    "papermill": {
     "duration": 0.087675,
     "end_time": "2022-02-23T10:23:23.421419",
     "exception": false,
     "start_time": "2022-02-23T10:23:23.333744",
     "status": "completed"
    },
    "tags": []
   },
   "outputs": [],
   "source": [
    "# X_train = simple_training_df_processed_combined.drop(['image', 'species', 'individual_id'], axis=1)\n",
    "# Y_train = simple_training_df_processed_combined['species']\n",
    "# X_val = val_df_processed_combined.drop(['image', 'species', 'individual_id'], axis=1)\n",
    "# Y_val = val_df_processed_combined['species']"
   ]
  },
  {
   "cell_type": "code",
   "execution_count": 32,
   "id": "5bf999fa",
   "metadata": {
    "execution": {
     "iopub.execute_input": "2022-02-23T10:23:23.588952Z",
     "iopub.status.busy": "2022-02-23T10:23:23.588330Z",
     "iopub.status.idle": "2022-02-23T10:23:23.591858Z",
     "shell.execute_reply": "2022-02-23T10:23:23.592353Z",
     "shell.execute_reply.started": "2022-02-21T11:46:21.606503Z"
    },
    "papermill": {
     "duration": 0.088533,
     "end_time": "2022-02-23T10:23:23.592520",
     "exception": false,
     "start_time": "2022-02-23T10:23:23.503987",
     "status": "completed"
    },
    "tags": []
   },
   "outputs": [],
   "source": [
    "# from sklearn.neighbors import KNeighborsClassifier\n",
    "# knn = KNeighborsClassifier(n_neighbors=1)\n",
    "# knn.fit(X, Y)\n",
    "# knn_score = knn.score(X, Y)\n",
    "# print(knn_score)"
   ]
  },
  {
   "cell_type": "code",
   "execution_count": 33,
   "id": "2a6d5c22",
   "metadata": {
    "execution": {
     "iopub.execute_input": "2022-02-23T10:23:23.756622Z",
     "iopub.status.busy": "2022-02-23T10:23:23.756038Z",
     "iopub.status.idle": "2022-02-23T10:23:23.760007Z",
     "shell.execute_reply": "2022-02-23T10:23:23.759465Z",
     "shell.execute_reply.started": "2022-02-21T11:50:11.171902Z"
    },
    "papermill": {
     "duration": 0.087075,
     "end_time": "2022-02-23T10:23:23.760153",
     "exception": false,
     "start_time": "2022-02-23T10:23:23.673078",
     "status": "completed"
    },
    "tags": []
   },
   "outputs": [],
   "source": [
    "# # knn.predict(pixelize_images_in_df(train_df.sample(1)))\n",
    "# # pixelize_images_in_df(train_df.sample(1)).drop(['image', 'species', 'individual_id'], axis=1)\n",
    "\n",
    "# sample_test = pixelize_images_in_df(train_df.sample(1))\n",
    "# sample_test"
   ]
  },
  {
   "cell_type": "code",
   "execution_count": 34,
   "id": "e8a6a643",
   "metadata": {
    "execution": {
     "iopub.execute_input": "2022-02-23T10:23:23.928801Z",
     "iopub.status.busy": "2022-02-23T10:23:23.928180Z",
     "iopub.status.idle": "2022-02-23T10:23:23.931162Z",
     "shell.execute_reply": "2022-02-23T10:23:23.931614Z",
     "shell.execute_reply.started": "2022-02-21T11:50:16.945753Z"
    },
    "papermill": {
     "duration": 0.090044,
     "end_time": "2022-02-23T10:23:23.931793",
     "exception": false,
     "start_time": "2022-02-23T10:23:23.841749",
     "status": "completed"
    },
    "tags": []
   },
   "outputs": [],
   "source": [
    "# knn.predict(sample_test.drop(['image', 'species', 'individual_id'], axis=1))"
   ]
  },
  {
   "cell_type": "code",
   "execution_count": 35,
   "id": "08c04868",
   "metadata": {
    "execution": {
     "iopub.execute_input": "2022-02-23T10:23:24.097926Z",
     "iopub.status.busy": "2022-02-23T10:23:24.097325Z",
     "iopub.status.idle": "2022-02-23T10:23:24.100886Z",
     "shell.execute_reply": "2022-02-23T10:23:24.101403Z",
     "shell.execute_reply.started": "2022-02-21T11:50:28.598513Z"
    },
    "papermill": {
     "duration": 0.087752,
     "end_time": "2022-02-23T10:23:24.101592",
     "exception": false,
     "start_time": "2022-02-23T10:23:24.013840",
     "status": "completed"
    },
    "tags": []
   },
   "outputs": [],
   "source": [
    "# plt.imshow(plt.imread(get_img_path('train_images/0a1087a33b933d.jpg')))"
   ]
  },
  {
   "cell_type": "markdown",
   "id": "690d35ce",
   "metadata": {
    "papermill": {
     "duration": 0.082151,
     "end_time": "2022-02-23T10:23:24.267119",
     "exception": false,
     "start_time": "2022-02-23T10:23:24.184968",
     "status": "completed"
    },
    "tags": []
   },
   "source": [
    "## Face ID - Siamese Model\n",
    "From https://towardsdatascience.com/how-i-implemented-iphone-xs-faceid-using-deep-learning-in-python-d5dbaa128e1d"
   ]
  },
  {
   "cell_type": "code",
   "execution_count": 36,
   "id": "84ac122e",
   "metadata": {
    "execution": {
     "iopub.execute_input": "2022-02-23T10:23:24.436827Z",
     "iopub.status.busy": "2022-02-23T10:23:24.435764Z",
     "iopub.status.idle": "2022-02-23T10:23:24.438393Z",
     "shell.execute_reply": "2022-02-23T10:23:24.438895Z",
     "shell.execute_reply.started": "2022-02-23T10:00:41.676329Z"
    },
    "papermill": {
     "duration": 0.08983,
     "end_time": "2022-02-23T10:23:24.439136",
     "exception": false,
     "start_time": "2022-02-23T10:23:24.349306",
     "status": "completed"
    },
    "tags": []
   },
   "outputs": [],
   "source": [
    "# from itertools import combinations\n",
    "\n",
    "# def create_pairs(df, on='image'):\n",
    "#     paired = pd.DataFrame(list(combinations(df['image'],2)), columns=['dump', 'siamese_image'])\n",
    "#     return pd.merge(df, paired, how='outer', left_on=on, right_on='dump').drop('dump', axis=1).dropna()\n",
    "    \n",
    "# def pixelize_siamese_images_in_df(df, show_progress_bar=False):\n",
    "#     '''\n",
    "#     Processes the dataframe from `train.csv` or `sample_submission.csv`\n",
    "#     1. converting each image to a normalized grayscale (256x256) pixel representation\n",
    "#     2. creating 256*256 + 1 additional features to the original dataframe\n",
    "#         - each feature is 1 pixel from step 1.\n",
    "#         - final feature is the aspect ratio of the original image\n",
    "#     '''\n",
    "#     images = df.image\n",
    "#     siamese_images = df.siamese_image\n",
    "#     flat_ndarray_images = []\n",
    "#     aspect_ratios = []\n",
    "#     siamese_aspect_ratios = []\n",
    "#     n_pixels = 256\n",
    "#     output_shape = (n_pixels,n_pixels)\n",
    "#     items = tqdm(images) if show_progress_bar else images\n",
    "#     siamese_items = tqdm(images) if show_progress_bar else siamese_images\n",
    "#     for img, siamese_img in zip(items, siamese_items):\n",
    "#         img_path = get_img_path('train_images/' + img)\n",
    "#         siamese_img_path = get_img_path('train_images/' + siamese_img)\n",
    "        \n",
    "#         ndarray, ar = convert_image_to_ndarray(img_path, output_size=output_shape)\n",
    "#         siamese_ndarray, siamese_ar = convert_image_to_ndarray(siamese_img_path, output_size=output_shape)\n",
    "# #         print(ndarray.shape, siamese_ndarray.shape)\n",
    "# #         stacked_array = (ndarray.reshape(n_pixels*n_pixels), siamese_ndarray.reshape(n_pixels*n_pixels))\n",
    "#         stacked_ndarray = np.stack((ndarray, siamese_ndarray), axis=2)\n",
    "        \n",
    "#         flat_ndarray_images.append(stacked_ndarray)\n",
    "#         aspect_ratios.append(ar)\n",
    "#         siamese_aspect_ratios.append(siamese_ar)\n",
    "        \n",
    "#     # construct final dataframe to return\n",
    "# #     cols = pd.MultiIndex.from_product([range(n_pixels*n_pixels), ['image', 'siamese_image']])\n",
    "# #     pixelized_images_df = pd.DataFrame(flat_ndarray_images, columns=cols, index=df.index)\n",
    "# #     pixelized_images_df['aspect_ratio'] = aspect_ratios\n",
    "# #     pixelized_images_df['siamese_aspect_ratio'] = siamese_aspect_ratio\n",
    "# #     return pd.merge(df, pixelized_images_df, left_index=True, right_index=True)\n",
    "#     to_return = df.to_dict('list')\n",
    "#     to_return.update({'images':flat_ndarray_images,\n",
    "#             'image_aspect_ratios': aspect_ratios,\n",
    "#             'siamese_aspect_ratios': siamese_aspect_ratios})\n",
    "#     return to_return\n",
    "\n",
    "# from functools import reduce\n",
    "# def combine_pool_results(a, b):\n",
    "#     return {k: a[k] + b[k] for k in a.keys()}"
   ]
  },
  {
   "cell_type": "code",
   "execution_count": 37,
   "id": "e03e6301",
   "metadata": {
    "execution": {
     "iopub.execute_input": "2022-02-23T10:23:24.605548Z",
     "iopub.status.busy": "2022-02-23T10:23:24.604877Z",
     "iopub.status.idle": "2022-02-23T10:23:24.608205Z",
     "shell.execute_reply": "2022-02-23T10:23:24.608686Z",
     "shell.execute_reply.started": "2022-02-23T10:00:46.089246Z"
    },
    "papermill": {
     "duration": 0.088191,
     "end_time": "2022-02-23T10:23:24.608851",
     "exception": false,
     "start_time": "2022-02-23T10:23:24.520660",
     "status": "completed"
    },
    "tags": []
   },
   "outputs": [],
   "source": [
    "# # simple_training_df.individual_id.value_counts()\n",
    "# uid_425f5ba95aef = all_species_train_df[all_species_train_df.individual_id == '425f5ba95aef']\n",
    "# display(uid_425f5ba95aef)\n",
    "# create_pairs(uid_425f5ba95aef)\n",
    "# # pd.DataFrame({'uid':simple_training_df['individual_id'].unique()})"
   ]
  },
  {
   "cell_type": "code",
   "execution_count": 38,
   "id": "05b18762",
   "metadata": {
    "execution": {
     "iopub.execute_input": "2022-02-23T10:23:24.776985Z",
     "iopub.status.busy": "2022-02-23T10:23:24.776285Z",
     "iopub.status.idle": "2022-02-23T10:23:24.780589Z",
     "shell.execute_reply": "2022-02-23T10:23:24.780110Z",
     "shell.execute_reply.started": "2022-02-23T10:00:54.139324Z"
    },
    "papermill": {
     "duration": 0.089339,
     "end_time": "2022-02-23T10:23:24.780738",
     "exception": false,
     "start_time": "2022-02-23T10:23:24.691399",
     "status": "completed"
    },
    "tags": []
   },
   "outputs": [],
   "source": [
    "\n",
    "\n",
    "# # min(train_df.species.value_counts())\n",
    "# # Simple training set will be composed of 14 of each species with pairs of each individual id\n",
    "# faceid_training_sets = []\n",
    "# n_each_species = min(train_df.species.value_counts())\n",
    "# print('Using {} of each species'.format(n_each_species))\n",
    "# for s in train_df.species.unique():\n",
    "#     sample = train_df[train_df.species == s].head(n_each_species) # use head to be deterministic for sample\n",
    "#     faceid_training_sets.append(sample)\n",
    "    \n",
    "# faceid_training_df = pd.concat(faceid_training_sets)\n",
    "# faceid_training_df = pd.concat([create_pairs(faceid_training_df[faceid_training_df.individual_id==uid]) for uid in faceid_training_df.individual_id])"
   ]
  },
  {
   "cell_type": "code",
   "execution_count": 39,
   "id": "0637d260",
   "metadata": {
    "execution": {
     "iopub.execute_input": "2022-02-23T10:23:24.946037Z",
     "iopub.status.busy": "2022-02-23T10:23:24.945457Z",
     "iopub.status.idle": "2022-02-23T10:23:24.948263Z",
     "shell.execute_reply": "2022-02-23T10:23:24.948812Z",
     "shell.execute_reply.started": "2022-02-23T10:00:57.741814Z"
    },
    "papermill": {
     "duration": 0.087337,
     "end_time": "2022-02-23T10:23:24.948972",
     "exception": false,
     "start_time": "2022-02-23T10:23:24.861635",
     "status": "completed"
    },
    "tags": []
   },
   "outputs": [],
   "source": [
    "# faceid_training_df"
   ]
  },
  {
   "cell_type": "code",
   "execution_count": 40,
   "id": "002fe5b0",
   "metadata": {
    "execution": {
     "iopub.execute_input": "2022-02-23T10:23:25.113866Z",
     "iopub.status.busy": "2022-02-23T10:23:25.113179Z",
     "iopub.status.idle": "2022-02-23T10:23:25.116923Z",
     "shell.execute_reply": "2022-02-23T10:23:25.117329Z",
     "shell.execute_reply.started": "2022-02-23T10:01:22.516495Z"
    },
    "papermill": {
     "duration": 0.087916,
     "end_time": "2022-02-23T10:23:25.117496",
     "exception": false,
     "start_time": "2022-02-23T10:23:25.029580",
     "status": "completed"
    },
    "tags": []
   },
   "outputs": [],
   "source": [
    "# display(faceid_training_df[:4])\n",
    "# faceid_training_dfs_split = split_df(faceid_training_df, CPUS)\n",
    "# faceid_training_df_ = pd.concat(faceid_training_dfs_split, ignore_index=True, sort=False)\n",
    "\n",
    "# with timer('pool pixelize images processing:'):\n",
    "#     with Pool(processes=4) as pool:\n",
    "#         faceid_training_mapped = pool.map(pixelize_siamese_images_in_df, faceid_training_dfs_split)\n",
    "#     faceid_training_data = reduce(combine_pool_results, faceid_training_mapped)"
   ]
  },
  {
   "cell_type": "code",
   "execution_count": 41,
   "id": "f37dd9fa",
   "metadata": {
    "execution": {
     "iopub.execute_input": "2022-02-23T10:23:25.284248Z",
     "iopub.status.busy": "2022-02-23T10:23:25.283391Z",
     "iopub.status.idle": "2022-02-23T10:23:25.286301Z",
     "shell.execute_reply": "2022-02-23T10:23:25.285814Z",
     "shell.execute_reply.started": "2022-02-21T14:46:43.765172Z"
    },
    "papermill": {
     "duration": 0.087876,
     "end_time": "2022-02-23T10:23:25.286432",
     "exception": false,
     "start_time": "2022-02-23T10:23:25.198556",
     "status": "completed"
    },
    "tags": []
   },
   "outputs": [],
   "source": [
    "# faceid_training_df = pd.DataFrame(faceid_training_data)\n",
    "# faceid_training_df.head()#.keys()#['images'][0].shape"
   ]
  },
  {
   "cell_type": "code",
   "execution_count": 42,
   "id": "a18aee54",
   "metadata": {
    "execution": {
     "iopub.execute_input": "2022-02-23T10:23:25.451954Z",
     "iopub.status.busy": "2022-02-23T10:23:25.451346Z",
     "iopub.status.idle": "2022-02-23T10:23:25.454245Z",
     "shell.execute_reply": "2022-02-23T10:23:25.454728Z",
     "shell.execute_reply.started": "2022-02-21T16:17:51.513132Z"
    },
    "papermill": {
     "duration": 0.086235,
     "end_time": "2022-02-23T10:23:25.454893",
     "exception": false,
     "start_time": "2022-02-23T10:23:25.368658",
     "status": "completed"
    },
    "tags": []
   },
   "outputs": [],
   "source": [
    "# faceid_X1 = np.array([img[:,:,0].reshape((256,256,1)) for img in faceid_training_df.images.values])\n",
    "# faceid_X2 = np.array([img[:,:,1].reshape((256,256,1)) for img in faceid_training_df.images.values])\n",
    "# faceid_Y = np.array([1.0 for uid in faceid_training_df.individual_id.values])# np.array([uid for uid in ])\n"
   ]
  },
  {
   "cell_type": "code",
   "execution_count": 43,
   "id": "4d455475",
   "metadata": {
    "execution": {
     "iopub.execute_input": "2022-02-23T10:23:25.619740Z",
     "iopub.status.busy": "2022-02-23T10:23:25.619108Z",
     "iopub.status.idle": "2022-02-23T10:23:25.621551Z",
     "shell.execute_reply": "2022-02-23T10:23:25.622028Z",
     "shell.execute_reply.started": "2022-02-21T16:17:36.54819Z"
    },
    "papermill": {
     "duration": 0.086953,
     "end_time": "2022-02-23T10:23:25.622189",
     "exception": false,
     "start_time": "2022-02-23T10:23:25.535236",
     "status": "completed"
    },
    "tags": []
   },
   "outputs": [],
   "source": [
    "# # plt.imshow(faceid_training_df.images.values[0][:,:,0].reshape((256,256,1)))\n",
    "# faceid_X.shape"
   ]
  },
  {
   "cell_type": "code",
   "execution_count": 44,
   "id": "8525b231",
   "metadata": {
    "execution": {
     "iopub.execute_input": "2022-02-23T10:23:25.789550Z",
     "iopub.status.busy": "2022-02-23T10:23:25.788164Z",
     "iopub.status.idle": "2022-02-23T10:23:25.792295Z",
     "shell.execute_reply": "2022-02-23T10:23:25.791825Z",
     "shell.execute_reply.started": "2022-02-21T15:31:02.316455Z"
    },
    "papermill": {
     "duration": 0.089094,
     "end_time": "2022-02-23T10:23:25.792423",
     "exception": false,
     "start_time": "2022-02-23T10:23:25.703329",
     "status": "completed"
    },
    "tags": []
   },
   "outputs": [],
   "source": [
    "# sample_img = faceid_training_df.sample(1)\n",
    "# sample_img"
   ]
  },
  {
   "cell_type": "code",
   "execution_count": 45,
   "id": "b5e98435",
   "metadata": {
    "execution": {
     "iopub.execute_input": "2022-02-23T10:23:25.958771Z",
     "iopub.status.busy": "2022-02-23T10:23:25.957826Z",
     "iopub.status.idle": "2022-02-23T10:23:25.960858Z",
     "shell.execute_reply": "2022-02-23T10:23:25.960286Z",
     "shell.execute_reply.started": "2022-02-21T15:31:26.316758Z"
    },
    "papermill": {
     "duration": 0.087806,
     "end_time": "2022-02-23T10:23:25.961004",
     "exception": false,
     "start_time": "2022-02-23T10:23:25.873198",
     "status": "completed"
    },
    "tags": []
   },
   "outputs": [],
   "source": [
    "\n",
    "# plt.imshow(convert_ndarray_img_to_maintain_aspect_ratio(plt.imread(get_img_path('train_images/0039599b58fc80.jpg')), 1.500208))"
   ]
  },
  {
   "cell_type": "code",
   "execution_count": 46,
   "id": "5587a9ab",
   "metadata": {
    "execution": {
     "iopub.execute_input": "2022-02-23T10:23:26.130737Z",
     "iopub.status.busy": "2022-02-23T10:23:26.129812Z",
     "iopub.status.idle": "2022-02-23T10:23:26.132175Z",
     "shell.execute_reply": "2022-02-23T10:23:26.132569Z",
     "shell.execute_reply.started": "2022-02-21T15:31:33.871936Z"
    },
    "papermill": {
     "duration": 0.089421,
     "end_time": "2022-02-23T10:23:26.132787",
     "exception": false,
     "start_time": "2022-02-23T10:23:26.043366",
     "status": "completed"
    },
    "tags": []
   },
   "outputs": [],
   "source": [
    "\n",
    "# plt.imshow(convert_ndarray_img_to_maintain_aspect_ratio(sample_img.images.iloc[0][:,:,0], 1.500208))"
   ]
  },
  {
   "cell_type": "code",
   "execution_count": 47,
   "id": "cd668e12",
   "metadata": {
    "execution": {
     "iopub.execute_input": "2022-02-23T10:23:26.299861Z",
     "iopub.status.busy": "2022-02-23T10:23:26.298969Z",
     "iopub.status.idle": "2022-02-23T10:23:26.303118Z",
     "shell.execute_reply": "2022-02-23T10:23:26.303582Z",
     "shell.execute_reply.started": "2022-02-21T15:31:40.672758Z"
    },
    "papermill": {
     "duration": 0.089195,
     "end_time": "2022-02-23T10:23:26.303777",
     "exception": false,
     "start_time": "2022-02-23T10:23:26.214582",
     "status": "completed"
    },
    "tags": []
   },
   "outputs": [],
   "source": [
    "\n",
    "# plt.imshow(convert_ndarray_img_to_maintain_aspect_ratio(plt.imread(get_img_path('train_images/0049b56a584eb1.jpg')), 1.500208))"
   ]
  },
  {
   "cell_type": "code",
   "execution_count": 48,
   "id": "d86233de",
   "metadata": {
    "execution": {
     "iopub.execute_input": "2022-02-23T10:23:26.471292Z",
     "iopub.status.busy": "2022-02-23T10:23:26.470370Z",
     "iopub.status.idle": "2022-02-23T10:23:26.473057Z",
     "shell.execute_reply": "2022-02-23T10:23:26.473455Z",
     "shell.execute_reply.started": "2022-02-21T15:31:48.030293Z"
    },
    "papermill": {
     "duration": 0.087974,
     "end_time": "2022-02-23T10:23:26.473631",
     "exception": false,
     "start_time": "2022-02-23T10:23:26.385657",
     "status": "completed"
    },
    "tags": []
   },
   "outputs": [],
   "source": [
    "\n",
    "# plt.imshow(convert_ndarray_img_to_maintain_aspect_ratio(sample_img.images.iloc[0][:,:,1], 1.500208))"
   ]
  },
  {
   "cell_type": "code",
   "execution_count": null,
   "id": "f16ad5a9",
   "metadata": {
    "execution": {
     "iopub.execute_input": "2022-02-21T15:22:49.490639Z",
     "iopub.status.busy": "2022-02-21T15:22:49.490019Z",
     "iopub.status.idle": "2022-02-21T15:22:49.498791Z",
     "shell.execute_reply": "2022-02-21T15:22:49.497803Z",
     "shell.execute_reply.started": "2022-02-21T15:22:49.490599Z"
    },
    "papermill": {
     "duration": 0.083069,
     "end_time": "2022-02-23T10:23:26.638258",
     "exception": false,
     "start_time": "2022-02-23T10:23:26.555189",
     "status": "completed"
    },
    "tags": []
   },
   "outputs": [],
   "source": []
  },
  {
   "cell_type": "code",
   "execution_count": 49,
   "id": "0bcf113b",
   "metadata": {
    "execution": {
     "iopub.execute_input": "2022-02-23T10:23:26.806022Z",
     "iopub.status.busy": "2022-02-23T10:23:26.805339Z",
     "iopub.status.idle": "2022-02-23T10:23:26.807750Z",
     "shell.execute_reply": "2022-02-23T10:23:26.807208Z",
     "shell.execute_reply.started": "2022-02-21T15:35:10.993049Z"
    },
    "papermill": {
     "duration": 0.089518,
     "end_time": "2022-02-23T10:23:26.807885",
     "exception": false,
     "start_time": "2022-02-23T10:23:26.718367",
     "status": "completed"
    },
    "tags": []
   },
   "outputs": [],
   "source": [
    "# import random\n",
    "# def faceid_generator(batch_size):\n",
    "#     while 1:\n",
    "#         X = []\n",
    "#         y = []\n",
    "#         for _ in range(batch_size):\n",
    "#             sample = faceid_training_df.sample()\n",
    "#             xx1 = sample.images.iloc[0][:,:,0]\n",
    "#             xx2 = sample.images.iloc[0][:,:,1]\n",
    "#             X.append([xx1, xx2])\n",
    "#             y = sample.individual_id.iloc[0]\n",
    "#         yield X, y"
   ]
  },
  {
   "cell_type": "code",
   "execution_count": 50,
   "id": "a1792720",
   "metadata": {
    "execution": {
     "iopub.execute_input": "2022-02-23T10:23:26.974742Z",
     "iopub.status.busy": "2022-02-23T10:23:26.973763Z",
     "iopub.status.idle": "2022-02-23T10:23:26.976788Z",
     "shell.execute_reply": "2022-02-23T10:23:26.976236Z",
     "shell.execute_reply.started": "2022-02-21T15:35:20.341204Z"
    },
    "papermill": {
     "duration": 0.087809,
     "end_time": "2022-02-23T10:23:26.976945",
     "exception": false,
     "start_time": "2022-02-23T10:23:26.889136",
     "status": "completed"
    },
    "tags": []
   },
   "outputs": [],
   "source": [
    "# faceid_training_df"
   ]
  },
  {
   "cell_type": "code",
   "execution_count": 51,
   "id": "43696f59",
   "metadata": {
    "execution": {
     "iopub.execute_input": "2022-02-23T10:23:27.144630Z",
     "iopub.status.busy": "2022-02-23T10:23:27.143864Z",
     "iopub.status.idle": "2022-02-23T10:23:27.146517Z",
     "shell.execute_reply": "2022-02-23T10:23:27.146017Z",
     "shell.execute_reply.started": "2022-02-21T16:18:48.702684Z"
    },
    "papermill": {
     "duration": 0.088958,
     "end_time": "2022-02-23T10:23:27.146682",
     "exception": false,
     "start_time": "2022-02-23T10:23:27.057724",
     "status": "completed"
    },
    "tags": []
   },
   "outputs": [],
   "source": [
    "# from keras.models import Sequential, Model\n",
    "# from keras.layers import Dense, Activation, Flatten, Dropout, Lambda, ELU, concatenate, GlobalAveragePooling2D, Input, BatchNormalization, SeparableConv2D, Subtract, concatenate\n",
    "# from keras.activations import relu, softmax\n",
    "# from keras.layers.convolutional import Convolution2D\n",
    "# from keras.layers.pooling import MaxPooling2D, AveragePooling2D\n",
    "# from tensorflow.keras.optimizers import Adam, RMSprop, SGD\n",
    "# from keras.regularizers import l2\n",
    "# from keras import backend as K\n",
    "# import tensorflow as tf"
   ]
  },
  {
   "cell_type": "code",
   "execution_count": 52,
   "id": "a3eee6f1",
   "metadata": {
    "execution": {
     "iopub.execute_input": "2022-02-23T10:23:27.311373Z",
     "iopub.status.busy": "2022-02-23T10:23:27.310760Z",
     "iopub.status.idle": "2022-02-23T10:23:27.314031Z",
     "shell.execute_reply": "2022-02-23T10:23:27.314524Z",
     "shell.execute_reply.started": "2022-02-21T16:15:02.829114Z"
    },
    "papermill": {
     "duration": 0.087346,
     "end_time": "2022-02-23T10:23:27.314704",
     "exception": false,
     "start_time": "2022-02-23T10:23:27.227358",
     "status": "completed"
    },
    "tags": []
   },
   "outputs": [],
   "source": [
    "# def euclidean_distance(inputs):\n",
    "#     assert len(inputs) == 2, \\\n",
    "#         'Euclidean distance needs 2 inputs, %d given' % len(inputs)\n",
    "#     u, v = inputs\n",
    "#     return K.sqrt(K.sum((K.square(u - v)), axis=1, keepdims=True))\n",
    "        \n",
    "\n",
    "# def contrastive_loss(y_true,y_pred):\n",
    "#     margin=1.\n",
    "#     return K.mean((1. - y_true) * K.square(y_pred) + y_true * K.square(K.maximum(margin - y_pred, 0.)))\n",
    "#    # return K.mean( K.square(y_pred) )\n"
   ]
  },
  {
   "cell_type": "code",
   "execution_count": 53,
   "id": "59893819",
   "metadata": {
    "execution": {
     "iopub.execute_input": "2022-02-23T10:23:27.479326Z",
     "iopub.status.busy": "2022-02-23T10:23:27.478765Z",
     "iopub.status.idle": "2022-02-23T10:23:27.482180Z",
     "shell.execute_reply": "2022-02-23T10:23:27.482682Z",
     "shell.execute_reply.started": "2022-02-21T16:15:03.242724Z"
    },
    "papermill": {
     "duration": 0.087065,
     "end_time": "2022-02-23T10:23:27.482849",
     "exception": false,
     "start_time": "2022-02-23T10:23:27.395784",
     "status": "completed"
    },
    "tags": []
   },
   "outputs": [],
   "source": [
    "# def fire(x, squeeze=16, expand=64):\n",
    "#     x = Convolution2D(squeeze, (1,1), padding='valid')(x)\n",
    "#     x = Activation('relu')(x)\n",
    "    \n",
    "#     left = Convolution2D(expand, (1,1), padding='valid')(x)\n",
    "#     left = Activation('relu')(left)\n",
    "    \n",
    "#     right = Convolution2D(expand, (3,3), padding='same')(x)\n",
    "#     right = Activation('relu')(right)\n",
    "    \n",
    "#     x = concatenate([left, right], axis=3)\n",
    "#     return x"
   ]
  },
  {
   "cell_type": "code",
   "execution_count": 54,
   "id": "3924bc19",
   "metadata": {
    "execution": {
     "iopub.execute_input": "2022-02-23T10:23:27.647670Z",
     "iopub.status.busy": "2022-02-23T10:23:27.647117Z",
     "iopub.status.idle": "2022-02-23T10:23:27.650032Z",
     "shell.execute_reply": "2022-02-23T10:23:27.650564Z",
     "shell.execute_reply.started": "2022-02-21T16:15:04.663991Z"
    },
    "papermill": {
     "duration": 0.087398,
     "end_time": "2022-02-23T10:23:27.650741",
     "exception": false,
     "start_time": "2022-02-23T10:23:27.563343",
     "status": "completed"
    },
    "tags": []
   },
   "outputs": [],
   "source": [
    "\n",
    "# tf.keras.backend.clear_session()"
   ]
  },
  {
   "cell_type": "code",
   "execution_count": 55,
   "id": "6f5f2025",
   "metadata": {
    "execution": {
     "iopub.execute_input": "2022-02-23T10:23:27.838678Z",
     "iopub.status.busy": "2022-02-23T10:23:27.837426Z",
     "iopub.status.idle": "2022-02-23T10:23:27.844838Z",
     "shell.execute_reply": "2022-02-23T10:23:27.843940Z",
     "shell.execute_reply.started": "2022-02-21T16:18:50.39126Z"
    },
    "papermill": {
     "duration": 0.113267,
     "end_time": "2022-02-23T10:23:27.845082",
     "exception": false,
     "start_time": "2022-02-23T10:23:27.731815",
     "status": "completed"
    },
    "tags": []
   },
   "outputs": [],
   "source": [
    "# tf.config.run_functions_eagerly(True)"
   ]
  },
  {
   "cell_type": "markdown",
   "id": "ec7afec2",
   "metadata": {
    "papermill": {
     "duration": 0.082018,
     "end_time": "2022-02-23T10:23:28.016421",
     "exception": false,
     "start_time": "2022-02-23T10:23:27.934403",
     "status": "completed"
    },
    "tags": []
   },
   "source": [
    "---------------------"
   ]
  },
  {
   "cell_type": "code",
   "execution_count": 56,
   "id": "6ee0ccc3",
   "metadata": {
    "execution": {
     "iopub.execute_input": "2022-02-23T10:23:28.183978Z",
     "iopub.status.busy": "2022-02-23T10:23:28.183337Z",
     "iopub.status.idle": "2022-02-23T10:23:28.186915Z",
     "shell.execute_reply": "2022-02-23T10:23:28.187367Z",
     "shell.execute_reply.started": "2022-02-21T16:15:06.980743Z"
    },
    "papermill": {
     "duration": 0.087982,
     "end_time": "2022-02-23T10:23:28.187537",
     "exception": false,
     "start_time": "2022-02-23T10:23:28.099555",
     "status": "completed"
    },
    "tags": []
   },
   "outputs": [],
   "source": [
    "# img_input=Input(shape=(256,256, 1))\n",
    "\n",
    "# x = Convolution2D(64, (5, 5), strides=(2, 2), padding='valid')(img_input)\n",
    "# x = BatchNormalization()(x)\n",
    "# x = Activation('relu')(x)\n",
    "# x = MaxPooling2D(pool_size=(3, 3), strides=(2, 2))(x)\n",
    "\n",
    "# x = fire(x, squeeze=16, expand=16)\n",
    "\n",
    "# x = fire(x, squeeze=16, expand=16)\n",
    "\n",
    "# x = MaxPooling2D(pool_size=(3, 3), strides=(2, 2))(x)\n",
    "\n",
    "\n",
    "# x = fire(x, squeeze=32, expand=32)\n",
    "\n",
    "# x = fire(x, squeeze=32, expand=32)\n",
    "\n",
    "# x = MaxPooling2D(pool_size=(3, 3), strides=(2, 2))(x)\n",
    "\n",
    "\n",
    "# x = fire(x, squeeze=48, expand=48)\n",
    "\n",
    "# x = fire(x, squeeze=48, expand=48)\n",
    "\n",
    "# x = fire(x, squeeze=64, expand=64)\n",
    "\n",
    "# x = fire(x, squeeze=64, expand=64)\n",
    "\n",
    "# x = Dropout(0.2)(x)\n",
    "\n",
    "# x = Convolution2D(512, (1, 1), padding='same')(x)\n",
    "# out = Activation('relu')(x)\n",
    "\n",
    "\n",
    "# modelsqueeze= Model(img_input, out)\n",
    "\n",
    "# modelsqueeze.summary()"
   ]
  },
  {
   "cell_type": "code",
   "execution_count": 57,
   "id": "da059283",
   "metadata": {
    "execution": {
     "iopub.execute_input": "2022-02-23T10:23:28.352444Z",
     "iopub.status.busy": "2022-02-23T10:23:28.351826Z",
     "iopub.status.idle": "2022-02-23T10:23:28.355670Z",
     "shell.execute_reply": "2022-02-23T10:23:28.356183Z",
     "shell.execute_reply.started": "2022-02-21T16:15:08.286463Z"
    },
    "papermill": {
     "duration": 0.087578,
     "end_time": "2022-02-23T10:23:28.356348",
     "exception": false,
     "start_time": "2022-02-23T10:23:28.268770",
     "status": "completed"
    },
    "tags": []
   },
   "outputs": [],
   "source": [
    "# im_in = Input(shape=(256,256,1))\n",
    "# #wrong = Input(shape=(200,200,3))\n",
    "\n",
    "# x1 = modelsqueeze(im_in)\n",
    "# #x = Convolution2D(64, (5, 5), padding='valid', strides =(2,2))(x)\n",
    "\n",
    "# #x1 = MaxPooling2D(pool_size=(3, 3), strides=(2, 2))(x1)\n",
    "\n",
    "# \"\"\"\n",
    "# x1 = Convolution2D(256, (3,3), padding='valid', activation=\"relu\")(x1)\n",
    "# x1 = Dropout(0.4)(x1)\n",
    "\n",
    "# x1 = MaxPooling2D(pool_size=(3, 3), strides=(1, 1))(x1)\n",
    "\n",
    "# x1 = Convolution2D(256, (3,3), padding='valid', activation=\"relu\")(x1)\n",
    "# x1 = BatchNormalization()(x1)\n",
    "# x1 = Dropout(0.4)(x1)\n",
    "\n",
    "# x1 = Convolution2D(64, (1,1), padding='same', activation=\"relu\")(x1)\n",
    "# x1 = BatchNormalization()(x1)\n",
    "# x1 = Dropout(0.4)(x1)\n",
    "# \"\"\"\n",
    "\n",
    "\n",
    "\n",
    "# x1 = Flatten()(x1)\n",
    "\n",
    "# x1 = Dense(512, activation=\"relu\")(x1)\n",
    "# x1 = Dropout(0.2)(x1)\n",
    "# #x1 = BatchNormalization()(x1)\n",
    "# feat_x = Dense(128, activation=\"linear\")(x1)\n",
    "# feat_x = Lambda(lambda  x: K.l2_normalize(x,axis=1))(feat_x)\n",
    "\n",
    "\n",
    "# model_top = Model(inputs = [im_in], outputs = feat_x)\n",
    "\n",
    "# model_top.summary()\n",
    "\n",
    "# im_in1 = Input(shape=(256,256,1))\n",
    "# im_in2 = Input(shape=(256,256,1))\n",
    "\n",
    "# feat_x1 = model_top(im_in1)\n",
    "# feat_x2 = model_top(im_in2)\n",
    "\n",
    "\n",
    "# lambda_merge = Lambda(euclidean_distance)([feat_x1, feat_x2])\n",
    "\n",
    "\n",
    "# model_final = Model(inputs = [im_in1, im_in2], outputs = lambda_merge)\n",
    "\n",
    "# model_final.summary()\n",
    "\n",
    "# adam = Adam(lr=0.001)\n",
    "\n",
    "# sgd = SGD(lr=0.001, momentum=0.9)\n",
    "\n",
    "# model_final.compile(optimizer=adam, loss=contrastive_loss)"
   ]
  },
  {
   "cell_type": "code",
   "execution_count": 58,
   "id": "e69ebbd4",
   "metadata": {
    "execution": {
     "iopub.execute_input": "2022-02-23T10:23:28.530877Z",
     "iopub.status.busy": "2022-02-23T10:23:28.529978Z",
     "iopub.status.idle": "2022-02-23T10:23:28.533180Z",
     "shell.execute_reply": "2022-02-23T10:23:28.533759Z",
     "shell.execute_reply.started": "2022-02-21T16:15:10.805161Z"
    },
    "papermill": {
     "duration": 0.09751,
     "end_time": "2022-02-23T10:23:28.533996",
     "exception": false,
     "start_time": "2022-02-23T10:23:28.436486",
     "status": "completed"
    },
    "tags": []
   },
   "outputs": [],
   "source": [
    "# faceid_X.shape\n",
    "# # faceid_Y.shape"
   ]
  },
  {
   "cell_type": "code",
   "execution_count": 59,
   "id": "bdcf7dfa",
   "metadata": {
    "execution": {
     "iopub.execute_input": "2022-02-23T10:23:28.728375Z",
     "iopub.status.busy": "2022-02-23T10:23:28.727418Z",
     "iopub.status.idle": "2022-02-23T10:23:28.731058Z",
     "shell.execute_reply": "2022-02-23T10:23:28.731625Z"
    },
    "papermill": {
     "duration": 0.097751,
     "end_time": "2022-02-23T10:23:28.731838",
     "exception": false,
     "start_time": "2022-02-23T10:23:28.634087",
     "status": "completed"
    },
    "tags": []
   },
   "outputs": [],
   "source": [
    "# # def generator(batch_size):\n",
    "# #     while 1:\n",
    "# #         X=[]\n",
    "# #         Y=[]\n",
    "# #         for _ in range(batch_size):\n",
    "# #             X.append()\n",
    "\n",
    "# outputs = model_final.fit([faceid_X1, faceid_X2], faceid_Y, steps_per_epoch=30, epochs=50)\n"
   ]
  },
  {
   "cell_type": "code",
   "execution_count": 60,
   "id": "13ac49da",
   "metadata": {
    "execution": {
     "iopub.execute_input": "2022-02-23T10:23:28.924594Z",
     "iopub.status.busy": "2022-02-23T10:23:28.923631Z",
     "iopub.status.idle": "2022-02-23T10:23:28.927157Z",
     "shell.execute_reply": "2022-02-23T10:23:28.927706Z"
    },
    "papermill": {
     "duration": 0.101737,
     "end_time": "2022-02-23T10:23:28.927882",
     "exception": false,
     "start_time": "2022-02-23T10:23:28.826145",
     "status": "completed"
    },
    "tags": []
   },
   "outputs": [],
   "source": [
    "# References"
   ]
  },
  {
   "cell_type": "markdown",
   "id": "6de4846d",
   "metadata": {
    "papermill": {
     "duration": 0.082271,
     "end_time": "2022-02-23T10:23:29.094264",
     "exception": false,
     "start_time": "2022-02-23T10:23:29.011993",
     "status": "completed"
    },
    "tags": []
   },
   "source": [
    "# References\n",
    "- https://towardsdatascience.com/how-i-implemented-iphone-xs-faceid-using-deep-learning-in-python-d5dbaa128e1d"
   ]
  },
  {
   "cell_type": "code",
   "execution_count": null,
   "id": "8f31763a",
   "metadata": {
    "papermill": {
     "duration": 0.084923,
     "end_time": "2022-02-23T10:23:29.261928",
     "exception": false,
     "start_time": "2022-02-23T10:23:29.177005",
     "status": "completed"
    },
    "tags": []
   },
   "outputs": [],
   "source": []
  }
 ],
 "metadata": {
  "kernelspec": {
   "display_name": "Python 3",
   "language": "python",
   "name": "python3"
  },
  "language_info": {
   "codemirror_mode": {
    "name": "ipython",
    "version": 3
   },
   "file_extension": ".py",
   "mimetype": "text/x-python",
   "name": "python",
   "nbconvert_exporter": "python",
   "pygments_lexer": "ipython3",
   "version": "3.7.12"
  },
  "papermill": {
   "default_parameters": {},
   "duration": 980.149862,
   "end_time": "2022-02-23T10:23:30.360984",
   "environment_variables": {},
   "exception": null,
   "input_path": "__notebook__.ipynb",
   "output_path": "__notebook__.ipynb",
   "parameters": {},
   "start_time": "2022-02-23T10:07:10.211122",
   "version": "2.3.3"
  }
 },
 "nbformat": 4,
 "nbformat_minor": 5
}
