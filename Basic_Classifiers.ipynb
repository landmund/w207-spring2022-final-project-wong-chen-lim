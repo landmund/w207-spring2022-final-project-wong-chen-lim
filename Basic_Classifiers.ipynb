{
 "cells": [
  {
   "cell_type": "code",
   "execution_count": 1,
   "id": "0e8c110f",
   "metadata": {},
   "outputs": [
    {
     "name": "stderr",
     "output_type": "stream",
     "text": [
      "Using TensorFlow backend.\n",
      "C:\\Users\\bulld\\.conda\\envs\\myenv\\lib\\site-packages\\tensorflow\\python\\framework\\dtypes.py:516: FutureWarning: Passing (type, 1) or '1type' as a synonym of type is deprecated; in a future version of numpy, it will be understood as (type, (1,)) / '(1,)type'.\n",
      "  _np_qint8 = np.dtype([(\"qint8\", np.int8, 1)])\n",
      "C:\\Users\\bulld\\.conda\\envs\\myenv\\lib\\site-packages\\tensorflow\\python\\framework\\dtypes.py:517: FutureWarning: Passing (type, 1) or '1type' as a synonym of type is deprecated; in a future version of numpy, it will be understood as (type, (1,)) / '(1,)type'.\n",
      "  _np_quint8 = np.dtype([(\"quint8\", np.uint8, 1)])\n",
      "C:\\Users\\bulld\\.conda\\envs\\myenv\\lib\\site-packages\\tensorflow\\python\\framework\\dtypes.py:518: FutureWarning: Passing (type, 1) or '1type' as a synonym of type is deprecated; in a future version of numpy, it will be understood as (type, (1,)) / '(1,)type'.\n",
      "  _np_qint16 = np.dtype([(\"qint16\", np.int16, 1)])\n",
      "C:\\Users\\bulld\\.conda\\envs\\myenv\\lib\\site-packages\\tensorflow\\python\\framework\\dtypes.py:519: FutureWarning: Passing (type, 1) or '1type' as a synonym of type is deprecated; in a future version of numpy, it will be understood as (type, (1,)) / '(1,)type'.\n",
      "  _np_quint16 = np.dtype([(\"quint16\", np.uint16, 1)])\n",
      "C:\\Users\\bulld\\.conda\\envs\\myenv\\lib\\site-packages\\tensorflow\\python\\framework\\dtypes.py:520: FutureWarning: Passing (type, 1) or '1type' as a synonym of type is deprecated; in a future version of numpy, it will be understood as (type, (1,)) / '(1,)type'.\n",
      "  _np_qint32 = np.dtype([(\"qint32\", np.int32, 1)])\n",
      "C:\\Users\\bulld\\.conda\\envs\\myenv\\lib\\site-packages\\tensorflow\\python\\framework\\dtypes.py:525: FutureWarning: Passing (type, 1) or '1type' as a synonym of type is deprecated; in a future version of numpy, it will be understood as (type, (1,)) / '(1,)type'.\n",
      "  np_resource = np.dtype([(\"resource\", np.ubyte, 1)])\n",
      "C:\\Users\\bulld\\.conda\\envs\\myenv\\lib\\site-packages\\tensorboard\\compat\\tensorflow_stub\\dtypes.py:541: FutureWarning: Passing (type, 1) or '1type' as a synonym of type is deprecated; in a future version of numpy, it will be understood as (type, (1,)) / '(1,)type'.\n",
      "  _np_qint8 = np.dtype([(\"qint8\", np.int8, 1)])\n",
      "C:\\Users\\bulld\\.conda\\envs\\myenv\\lib\\site-packages\\tensorboard\\compat\\tensorflow_stub\\dtypes.py:542: FutureWarning: Passing (type, 1) or '1type' as a synonym of type is deprecated; in a future version of numpy, it will be understood as (type, (1,)) / '(1,)type'.\n",
      "  _np_quint8 = np.dtype([(\"quint8\", np.uint8, 1)])\n",
      "C:\\Users\\bulld\\.conda\\envs\\myenv\\lib\\site-packages\\tensorboard\\compat\\tensorflow_stub\\dtypes.py:543: FutureWarning: Passing (type, 1) or '1type' as a synonym of type is deprecated; in a future version of numpy, it will be understood as (type, (1,)) / '(1,)type'.\n",
      "  _np_qint16 = np.dtype([(\"qint16\", np.int16, 1)])\n",
      "C:\\Users\\bulld\\.conda\\envs\\myenv\\lib\\site-packages\\tensorboard\\compat\\tensorflow_stub\\dtypes.py:544: FutureWarning: Passing (type, 1) or '1type' as a synonym of type is deprecated; in a future version of numpy, it will be understood as (type, (1,)) / '(1,)type'.\n",
      "  _np_quint16 = np.dtype([(\"quint16\", np.uint16, 1)])\n",
      "C:\\Users\\bulld\\.conda\\envs\\myenv\\lib\\site-packages\\tensorboard\\compat\\tensorflow_stub\\dtypes.py:545: FutureWarning: Passing (type, 1) or '1type' as a synonym of type is deprecated; in a future version of numpy, it will be understood as (type, (1,)) / '(1,)type'.\n",
      "  _np_qint32 = np.dtype([(\"qint32\", np.int32, 1)])\n",
      "C:\\Users\\bulld\\.conda\\envs\\myenv\\lib\\site-packages\\tensorboard\\compat\\tensorflow_stub\\dtypes.py:550: FutureWarning: Passing (type, 1) or '1type' as a synonym of type is deprecated; in a future version of numpy, it will be understood as (type, (1,)) / '(1,)type'.\n",
      "  np_resource = np.dtype([(\"resource\", np.ubyte, 1)])\n"
     ]
    }
   ],
   "source": [
    "%matplotlib inline\n",
    "\n",
    "# General libraries.\n",
    "import re\n",
    "import numpy as np\n",
    "import pandas as pd\n",
    "import matplotlib.pyplot as plt\n",
    "\n",
    "import pandas as pd\n",
    "import numpy as np\n",
    "from keras.models import Sequential\n",
    "from keras.layers import Dense, Activation\n",
    "from sklearn.model_selection import train_test_split\n",
    "from sklearn.metrics import f1_score\n",
    "from sklearn.neighbors import KNeighborsClassifier\n",
    "from sklearn.metrics import confusion_matrix\n",
    "from sklearn.linear_model import LinearRegression\n",
    "from sklearn.naive_bayes import BernoulliNB\n",
    "from sklearn.naive_bayes import MultinomialNB\n",
    "from sklearn.naive_bayes import GaussianNB\n",
    "from sklearn.linear_model import LogisticRegression\n",
    "from sklearn.metrics import accuracy_score\n",
    "from sklearn import preprocessing\n",
    "from sklearn.metrics import classification_report\n",
    "from sklearn.cluster import KMeans\n",
    "from sklearn.mixture import GaussianMixture as GMM\n",
    "from sklearn.preprocessing import LabelEncoder\n",
    "from sklearn.metrics import f1_score\n",
    "from sklearn import tree\n",
    "from sklearn.tree import DecisionTreeClassifier\n",
    "\n",
    "# Set the randomizer seed so results are the same each time.\n",
    "np.random.seed(0)"
   ]
  },
  {
   "cell_type": "code",
   "execution_count": 2,
   "id": "b8b43623",
   "metadata": {},
   "outputs": [
    {
     "data": {
      "text/html": [
       "<div>\n",
       "<style scoped>\n",
       "    .dataframe tbody tr th:only-of-type {\n",
       "        vertical-align: middle;\n",
       "    }\n",
       "\n",
       "    .dataframe tbody tr th {\n",
       "        vertical-align: top;\n",
       "    }\n",
       "\n",
       "    .dataframe thead th {\n",
       "        text-align: right;\n",
       "    }\n",
       "</style>\n",
       "<table border=\"1\" class=\"dataframe\">\n",
       "  <thead>\n",
       "    <tr style=\"text-align: right;\">\n",
       "      <th></th>\n",
       "      <th>index</th>\n",
       "      <th>image</th>\n",
       "      <th>species</th>\n",
       "      <th>individual_id</th>\n",
       "      <th>0</th>\n",
       "      <th>1</th>\n",
       "      <th>2</th>\n",
       "      <th>3</th>\n",
       "      <th>4</th>\n",
       "      <th>5</th>\n",
       "      <th>...</th>\n",
       "      <th>65527</th>\n",
       "      <th>65528</th>\n",
       "      <th>65529</th>\n",
       "      <th>65530</th>\n",
       "      <th>65531</th>\n",
       "      <th>65532</th>\n",
       "      <th>65533</th>\n",
       "      <th>65534</th>\n",
       "      <th>65535</th>\n",
       "      <th>aspect_ratio</th>\n",
       "    </tr>\n",
       "  </thead>\n",
       "  <tbody>\n",
       "    <tr>\n",
       "      <th>0</th>\n",
       "      <td>0</td>\n",
       "      <td>00021adfb725ed.jpg</td>\n",
       "      <td>melon_headed_whale</td>\n",
       "      <td>cadddb1636b9</td>\n",
       "      <td>0.463753</td>\n",
       "      <td>0.469581</td>\n",
       "      <td>0.477523</td>\n",
       "      <td>0.487009</td>\n",
       "      <td>0.498406</td>\n",
       "      <td>0.511733</td>\n",
       "      <td>...</td>\n",
       "      <td>0.201963</td>\n",
       "      <td>0.192882</td>\n",
       "      <td>0.200069</td>\n",
       "      <td>0.197648</td>\n",
       "      <td>0.195564</td>\n",
       "      <td>0.196354</td>\n",
       "      <td>0.200686</td>\n",
       "      <td>0.199245</td>\n",
       "      <td>0.197579</td>\n",
       "      <td>1.198212</td>\n",
       "    </tr>\n",
       "    <tr>\n",
       "      <th>1</th>\n",
       "      <td>28</td>\n",
       "      <td>0029d877c29ab4.jpg</td>\n",
       "      <td>melon_headed_whale</td>\n",
       "      <td>c27f0a7f4e5a</td>\n",
       "      <td>0.939367</td>\n",
       "      <td>0.935021</td>\n",
       "      <td>0.931936</td>\n",
       "      <td>0.935014</td>\n",
       "      <td>0.935281</td>\n",
       "      <td>0.931487</td>\n",
       "      <td>...</td>\n",
       "      <td>0.283993</td>\n",
       "      <td>0.297922</td>\n",
       "      <td>0.278352</td>\n",
       "      <td>0.279591</td>\n",
       "      <td>0.300968</td>\n",
       "      <td>0.287639</td>\n",
       "      <td>0.279108</td>\n",
       "      <td>0.287371</td>\n",
       "      <td>0.322396</td>\n",
       "      <td>1.550824</td>\n",
       "    </tr>\n",
       "    <tr>\n",
       "      <th>2</th>\n",
       "      <td>33</td>\n",
       "      <td>0032f90c7732b0.jpg</td>\n",
       "      <td>melon_headed_whale</td>\n",
       "      <td>a21288153152</td>\n",
       "      <td>0.899138</td>\n",
       "      <td>0.909743</td>\n",
       "      <td>0.908199</td>\n",
       "      <td>0.911127</td>\n",
       "      <td>0.909184</td>\n",
       "      <td>0.903106</td>\n",
       "      <td>...</td>\n",
       "      <td>0.827001</td>\n",
       "      <td>0.839746</td>\n",
       "      <td>0.836978</td>\n",
       "      <td>0.845483</td>\n",
       "      <td>0.847763</td>\n",
       "      <td>0.841257</td>\n",
       "      <td>0.839941</td>\n",
       "      <td>0.824932</td>\n",
       "      <td>0.835354</td>\n",
       "      <td>1.319865</td>\n",
       "    </tr>\n",
       "    <tr>\n",
       "      <th>3</th>\n",
       "      <td>42</td>\n",
       "      <td>003ffd805a5910.jpg</td>\n",
       "      <td>melon_headed_whale</td>\n",
       "      <td>2842789d601d</td>\n",
       "      <td>0.343223</td>\n",
       "      <td>0.340872</td>\n",
       "      <td>0.346946</td>\n",
       "      <td>0.338741</td>\n",
       "      <td>0.341106</td>\n",
       "      <td>0.346864</td>\n",
       "      <td>...</td>\n",
       "      <td>0.208963</td>\n",
       "      <td>0.202183</td>\n",
       "      <td>0.245649</td>\n",
       "      <td>0.225798</td>\n",
       "      <td>0.198537</td>\n",
       "      <td>0.154678</td>\n",
       "      <td>0.146326</td>\n",
       "      <td>0.136733</td>\n",
       "      <td>0.134887</td>\n",
       "      <td>1.280255</td>\n",
       "    </tr>\n",
       "    <tr>\n",
       "      <th>4</th>\n",
       "      <td>69</td>\n",
       "      <td>0067205f90977d.jpg</td>\n",
       "      <td>melon_headed_whale</td>\n",
       "      <td>e50fcf9eefa8</td>\n",
       "      <td>0.624869</td>\n",
       "      <td>0.624869</td>\n",
       "      <td>0.624869</td>\n",
       "      <td>0.624942</td>\n",
       "      <td>0.625566</td>\n",
       "      <td>0.631068</td>\n",
       "      <td>...</td>\n",
       "      <td>0.093480</td>\n",
       "      <td>0.084922</td>\n",
       "      <td>0.071639</td>\n",
       "      <td>0.074852</td>\n",
       "      <td>0.088848</td>\n",
       "      <td>0.086409</td>\n",
       "      <td>0.083221</td>\n",
       "      <td>0.086121</td>\n",
       "      <td>0.091253</td>\n",
       "      <td>1.092199</td>\n",
       "    </tr>\n",
       "  </tbody>\n",
       "</table>\n",
       "<p>5 rows × 65541 columns</p>\n",
       "</div>"
      ],
      "text/plain": [
       "   index               image             species individual_id         0  \\\n",
       "0      0  00021adfb725ed.jpg  melon_headed_whale  cadddb1636b9  0.463753   \n",
       "1     28  0029d877c29ab4.jpg  melon_headed_whale  c27f0a7f4e5a  0.939367   \n",
       "2     33  0032f90c7732b0.jpg  melon_headed_whale  a21288153152  0.899138   \n",
       "3     42  003ffd805a5910.jpg  melon_headed_whale  2842789d601d  0.343223   \n",
       "4     69  0067205f90977d.jpg  melon_headed_whale  e50fcf9eefa8  0.624869   \n",
       "\n",
       "          1         2         3         4         5  ...     65527     65528  \\\n",
       "0  0.469581  0.477523  0.487009  0.498406  0.511733  ...  0.201963  0.192882   \n",
       "1  0.935021  0.931936  0.935014  0.935281  0.931487  ...  0.283993  0.297922   \n",
       "2  0.909743  0.908199  0.911127  0.909184  0.903106  ...  0.827001  0.839746   \n",
       "3  0.340872  0.346946  0.338741  0.341106  0.346864  ...  0.208963  0.202183   \n",
       "4  0.624869  0.624869  0.624942  0.625566  0.631068  ...  0.093480  0.084922   \n",
       "\n",
       "      65529     65530     65531     65532     65533     65534     65535  \\\n",
       "0  0.200069  0.197648  0.195564  0.196354  0.200686  0.199245  0.197579   \n",
       "1  0.278352  0.279591  0.300968  0.287639  0.279108  0.287371  0.322396   \n",
       "2  0.836978  0.845483  0.847763  0.841257  0.839941  0.824932  0.835354   \n",
       "3  0.245649  0.225798  0.198537  0.154678  0.146326  0.136733  0.134887   \n",
       "4  0.071639  0.074852  0.088848  0.086409  0.083221  0.086121  0.091253   \n",
       "\n",
       "   aspect_ratio  \n",
       "0      1.198212  \n",
       "1      1.550824  \n",
       "2      1.319865  \n",
       "3      1.280255  \n",
       "4      1.092199  \n",
       "\n",
       "[5 rows x 65541 columns]"
      ]
     },
     "execution_count": 2,
     "metadata": {},
     "output_type": "execute_result"
    }
   ],
   "source": [
    "df = pd.read_csv(\"processed_batch_df_all_species.csv\")\n",
    "\n",
    "df.head()"
   ]
  },
  {
   "cell_type": "code",
   "execution_count": 3,
   "id": "5780b50c",
   "metadata": {},
   "outputs": [
    {
     "data": {
      "text/html": [
       "<div>\n",
       "<style scoped>\n",
       "    .dataframe tbody tr th:only-of-type {\n",
       "        vertical-align: middle;\n",
       "    }\n",
       "\n",
       "    .dataframe tbody tr th {\n",
       "        vertical-align: top;\n",
       "    }\n",
       "\n",
       "    .dataframe thead th {\n",
       "        text-align: right;\n",
       "    }\n",
       "</style>\n",
       "<table border=\"1\" class=\"dataframe\">\n",
       "  <thead>\n",
       "    <tr style=\"text-align: right;\">\n",
       "      <th></th>\n",
       "      <th>index</th>\n",
       "      <th>0</th>\n",
       "      <th>1</th>\n",
       "      <th>2</th>\n",
       "      <th>3</th>\n",
       "      <th>4</th>\n",
       "      <th>5</th>\n",
       "      <th>6</th>\n",
       "      <th>7</th>\n",
       "      <th>8</th>\n",
       "      <th>...</th>\n",
       "      <th>65527</th>\n",
       "      <th>65528</th>\n",
       "      <th>65529</th>\n",
       "      <th>65530</th>\n",
       "      <th>65531</th>\n",
       "      <th>65532</th>\n",
       "      <th>65533</th>\n",
       "      <th>65534</th>\n",
       "      <th>65535</th>\n",
       "      <th>aspect_ratio</th>\n",
       "    </tr>\n",
       "  </thead>\n",
       "  <tbody>\n",
       "    <tr>\n",
       "      <th>count</th>\n",
       "      <td>364.000000</td>\n",
       "      <td>364.000000</td>\n",
       "      <td>364.000000</td>\n",
       "      <td>364.000000</td>\n",
       "      <td>364.000000</td>\n",
       "      <td>364.000000</td>\n",
       "      <td>364.000000</td>\n",
       "      <td>364.000000</td>\n",
       "      <td>364.000000</td>\n",
       "      <td>364.000000</td>\n",
       "      <td>...</td>\n",
       "      <td>364.000000</td>\n",
       "      <td>364.000000</td>\n",
       "      <td>364.000000</td>\n",
       "      <td>364.000000</td>\n",
       "      <td>364.000000</td>\n",
       "      <td>364.000000</td>\n",
       "      <td>364.000000</td>\n",
       "      <td>364.000000</td>\n",
       "      <td>364.000000</td>\n",
       "      <td>364.000000</td>\n",
       "    </tr>\n",
       "    <tr>\n",
       "      <th>mean</th>\n",
       "      <td>2232.923077</td>\n",
       "      <td>0.662875</td>\n",
       "      <td>0.665244</td>\n",
       "      <td>0.666177</td>\n",
       "      <td>0.666539</td>\n",
       "      <td>0.666857</td>\n",
       "      <td>0.665708</td>\n",
       "      <td>0.664164</td>\n",
       "      <td>0.664744</td>\n",
       "      <td>0.665358</td>\n",
       "      <td>...</td>\n",
       "      <td>0.548107</td>\n",
       "      <td>0.548944</td>\n",
       "      <td>0.549670</td>\n",
       "      <td>0.550348</td>\n",
       "      <td>0.551633</td>\n",
       "      <td>0.555071</td>\n",
       "      <td>0.554402</td>\n",
       "      <td>0.554168</td>\n",
       "      <td>0.553697</td>\n",
       "      <td>1.799478</td>\n",
       "    </tr>\n",
       "    <tr>\n",
       "      <th>std</th>\n",
       "      <td>6177.142166</td>\n",
       "      <td>0.223140</td>\n",
       "      <td>0.221845</td>\n",
       "      <td>0.220573</td>\n",
       "      <td>0.219601</td>\n",
       "      <td>0.219803</td>\n",
       "      <td>0.219109</td>\n",
       "      <td>0.219096</td>\n",
       "      <td>0.218400</td>\n",
       "      <td>0.217892</td>\n",
       "      <td>...</td>\n",
       "      <td>0.232382</td>\n",
       "      <td>0.232770</td>\n",
       "      <td>0.233170</td>\n",
       "      <td>0.233167</td>\n",
       "      <td>0.232248</td>\n",
       "      <td>0.232532</td>\n",
       "      <td>0.233683</td>\n",
       "      <td>0.233982</td>\n",
       "      <td>0.232591</td>\n",
       "      <td>0.958989</td>\n",
       "    </tr>\n",
       "    <tr>\n",
       "      <th>min</th>\n",
       "      <td>0.000000</td>\n",
       "      <td>0.011520</td>\n",
       "      <td>0.011585</td>\n",
       "      <td>0.011646</td>\n",
       "      <td>0.011580</td>\n",
       "      <td>0.011845</td>\n",
       "      <td>0.011645</td>\n",
       "      <td>0.011599</td>\n",
       "      <td>0.011612</td>\n",
       "      <td>0.011560</td>\n",
       "      <td>...</td>\n",
       "      <td>0.011634</td>\n",
       "      <td>0.011556</td>\n",
       "      <td>0.011634</td>\n",
       "      <td>0.011606</td>\n",
       "      <td>0.011380</td>\n",
       "      <td>0.012193</td>\n",
       "      <td>0.012616</td>\n",
       "      <td>0.012520</td>\n",
       "      <td>0.011990</td>\n",
       "      <td>0.682016</td>\n",
       "    </tr>\n",
       "    <tr>\n",
       "      <th>25%</th>\n",
       "      <td>100.500000</td>\n",
       "      <td>0.508431</td>\n",
       "      <td>0.521933</td>\n",
       "      <td>0.518492</td>\n",
       "      <td>0.523304</td>\n",
       "      <td>0.513798</td>\n",
       "      <td>0.502200</td>\n",
       "      <td>0.514149</td>\n",
       "      <td>0.517680</td>\n",
       "      <td>0.519344</td>\n",
       "      <td>...</td>\n",
       "      <td>0.358329</td>\n",
       "      <td>0.361276</td>\n",
       "      <td>0.365240</td>\n",
       "      <td>0.373494</td>\n",
       "      <td>0.373306</td>\n",
       "      <td>0.371066</td>\n",
       "      <td>0.371320</td>\n",
       "      <td>0.373566</td>\n",
       "      <td>0.371210</td>\n",
       "      <td>1.494042</td>\n",
       "    </tr>\n",
       "    <tr>\n",
       "      <th>50%</th>\n",
       "      <td>334.500000</td>\n",
       "      <td>0.684289</td>\n",
       "      <td>0.678763</td>\n",
       "      <td>0.680707</td>\n",
       "      <td>0.680352</td>\n",
       "      <td>0.683535</td>\n",
       "      <td>0.682215</td>\n",
       "      <td>0.679084</td>\n",
       "      <td>0.675447</td>\n",
       "      <td>0.677285</td>\n",
       "      <td>...</td>\n",
       "      <td>0.547216</td>\n",
       "      <td>0.547445</td>\n",
       "      <td>0.552323</td>\n",
       "      <td>0.548373</td>\n",
       "      <td>0.554543</td>\n",
       "      <td>0.558880</td>\n",
       "      <td>0.557013</td>\n",
       "      <td>0.559169</td>\n",
       "      <td>0.562058</td>\n",
       "      <td>1.500208</td>\n",
       "    </tr>\n",
       "    <tr>\n",
       "      <th>75%</th>\n",
       "      <td>1496.500000</td>\n",
       "      <td>0.846823</td>\n",
       "      <td>0.850837</td>\n",
       "      <td>0.842882</td>\n",
       "      <td>0.848363</td>\n",
       "      <td>0.851379</td>\n",
       "      <td>0.841670</td>\n",
       "      <td>0.838528</td>\n",
       "      <td>0.843665</td>\n",
       "      <td>0.842767</td>\n",
       "      <td>...</td>\n",
       "      <td>0.739594</td>\n",
       "      <td>0.745353</td>\n",
       "      <td>0.734414</td>\n",
       "      <td>0.738327</td>\n",
       "      <td>0.733173</td>\n",
       "      <td>0.747863</td>\n",
       "      <td>0.730675</td>\n",
       "      <td>0.737087</td>\n",
       "      <td>0.733200</td>\n",
       "      <td>1.752845</td>\n",
       "    </tr>\n",
       "    <tr>\n",
       "      <th>max</th>\n",
       "      <td>46093.000000</td>\n",
       "      <td>1.000000</td>\n",
       "      <td>1.000000</td>\n",
       "      <td>1.000000</td>\n",
       "      <td>1.000000</td>\n",
       "      <td>1.000000</td>\n",
       "      <td>1.000000</td>\n",
       "      <td>1.000000</td>\n",
       "      <td>1.000000</td>\n",
       "      <td>1.000000</td>\n",
       "      <td>...</td>\n",
       "      <td>1.000000</td>\n",
       "      <td>1.000000</td>\n",
       "      <td>1.000000</td>\n",
       "      <td>1.000000</td>\n",
       "      <td>1.000000</td>\n",
       "      <td>1.000000</td>\n",
       "      <td>1.000000</td>\n",
       "      <td>1.000000</td>\n",
       "      <td>1.000000</td>\n",
       "      <td>8.032258</td>\n",
       "    </tr>\n",
       "  </tbody>\n",
       "</table>\n",
       "<p>8 rows × 65538 columns</p>\n",
       "</div>"
      ],
      "text/plain": [
       "              index           0           1           2           3  \\\n",
       "count    364.000000  364.000000  364.000000  364.000000  364.000000   \n",
       "mean    2232.923077    0.662875    0.665244    0.666177    0.666539   \n",
       "std     6177.142166    0.223140    0.221845    0.220573    0.219601   \n",
       "min        0.000000    0.011520    0.011585    0.011646    0.011580   \n",
       "25%      100.500000    0.508431    0.521933    0.518492    0.523304   \n",
       "50%      334.500000    0.684289    0.678763    0.680707    0.680352   \n",
       "75%     1496.500000    0.846823    0.850837    0.842882    0.848363   \n",
       "max    46093.000000    1.000000    1.000000    1.000000    1.000000   \n",
       "\n",
       "                4           5           6           7           8  ...  \\\n",
       "count  364.000000  364.000000  364.000000  364.000000  364.000000  ...   \n",
       "mean     0.666857    0.665708    0.664164    0.664744    0.665358  ...   \n",
       "std      0.219803    0.219109    0.219096    0.218400    0.217892  ...   \n",
       "min      0.011845    0.011645    0.011599    0.011612    0.011560  ...   \n",
       "25%      0.513798    0.502200    0.514149    0.517680    0.519344  ...   \n",
       "50%      0.683535    0.682215    0.679084    0.675447    0.677285  ...   \n",
       "75%      0.851379    0.841670    0.838528    0.843665    0.842767  ...   \n",
       "max      1.000000    1.000000    1.000000    1.000000    1.000000  ...   \n",
       "\n",
       "            65527       65528       65529       65530       65531       65532  \\\n",
       "count  364.000000  364.000000  364.000000  364.000000  364.000000  364.000000   \n",
       "mean     0.548107    0.548944    0.549670    0.550348    0.551633    0.555071   \n",
       "std      0.232382    0.232770    0.233170    0.233167    0.232248    0.232532   \n",
       "min      0.011634    0.011556    0.011634    0.011606    0.011380    0.012193   \n",
       "25%      0.358329    0.361276    0.365240    0.373494    0.373306    0.371066   \n",
       "50%      0.547216    0.547445    0.552323    0.548373    0.554543    0.558880   \n",
       "75%      0.739594    0.745353    0.734414    0.738327    0.733173    0.747863   \n",
       "max      1.000000    1.000000    1.000000    1.000000    1.000000    1.000000   \n",
       "\n",
       "            65533       65534       65535  aspect_ratio  \n",
       "count  364.000000  364.000000  364.000000    364.000000  \n",
       "mean     0.554402    0.554168    0.553697      1.799478  \n",
       "std      0.233683    0.233982    0.232591      0.958989  \n",
       "min      0.012616    0.012520    0.011990      0.682016  \n",
       "25%      0.371320    0.373566    0.371210      1.494042  \n",
       "50%      0.557013    0.559169    0.562058      1.500208  \n",
       "75%      0.730675    0.737087    0.733200      1.752845  \n",
       "max      1.000000    1.000000    1.000000      8.032258  \n",
       "\n",
       "[8 rows x 65538 columns]"
      ]
     },
     "execution_count": 3,
     "metadata": {},
     "output_type": "execute_result"
    }
   ],
   "source": [
    "df.describe()"
   ]
  },
  {
   "cell_type": "code",
   "execution_count": 4,
   "id": "4dd55188",
   "metadata": {},
   "outputs": [
    {
     "data": {
      "text/plain": [
       "(364, 65541)"
      ]
     },
     "execution_count": 4,
     "metadata": {},
     "output_type": "execute_result"
    }
   ],
   "source": [
    "df.shape"
   ]
  },
  {
   "cell_type": "code",
   "execution_count": 5,
   "id": "67f74fdb",
   "metadata": {},
   "outputs": [],
   "source": [
    "dff = pd.read_csv(\"processed_batch_sampled_df_random_state_0.csv\")"
   ]
  },
  {
   "cell_type": "code",
   "execution_count": 6,
   "id": "b52bbd60",
   "metadata": {},
   "outputs": [
    {
     "data": {
      "text/plain": [
       "(40, 65541)"
      ]
     },
     "execution_count": 6,
     "metadata": {},
     "output_type": "execute_result"
    }
   ],
   "source": [
    "dff.shape"
   ]
  },
  {
   "cell_type": "code",
   "execution_count": 7,
   "id": "c1be8116",
   "metadata": {},
   "outputs": [],
   "source": [
    "features =  df.drop(columns=['index', 'image','species','individual_id','aspect_ratio'])"
   ]
  },
  {
   "cell_type": "code",
   "execution_count": 8,
   "id": "b6d92130",
   "metadata": {},
   "outputs": [
    {
     "data": {
      "text/plain": [
       "(364, 65536)"
      ]
     },
     "execution_count": 8,
     "metadata": {},
     "output_type": "execute_result"
    }
   ],
   "source": [
    "features.shape"
   ]
  },
  {
   "cell_type": "code",
   "execution_count": 9,
   "id": "039177f6",
   "metadata": {},
   "outputs": [],
   "source": [
    "features.to_csv('features.csv')"
   ]
  },
  {
   "cell_type": "code",
   "execution_count": 10,
   "id": "b613ce37",
   "metadata": {},
   "outputs": [],
   "source": [
    "labels = df['species']"
   ]
  },
  {
   "cell_type": "code",
   "execution_count": 11,
   "id": "73f00001",
   "metadata": {},
   "outputs": [],
   "source": [
    "labels.to_csv('labels.csv')"
   ]
  },
  {
   "cell_type": "code",
   "execution_count": 12,
   "id": "ea83a862",
   "metadata": {},
   "outputs": [
    {
     "name": "stdout",
     "output_type": "stream",
     "text": [
      "26\n",
      "['melon_headed_whale' 'humpback_whale' 'false_killer_whale'\n",
      " 'bottlenose_dolphin' 'beluga' 'minke_whale' 'fin_whale' 'blue_whale'\n",
      " 'gray_whale' 'southern_right_whale' 'common_dolphin' 'killer_whale'\n",
      " 'short_finned_pilot_whale' 'dusky_dolphin' 'long_finned_pilot_whale'\n",
      " 'sei_whale' 'spinner_dolphin' 'cuviers_beaked_whale' 'spotted_dolphin'\n",
      " 'brydes_whale' 'commersons_dolphin' 'white_sided_dolphin'\n",
      " 'rough_toothed_dolphin' 'pantropic_spotted_dolphin' 'pygmy_killer_whale'\n",
      " 'frasiers_dolphin']\n"
     ]
    }
   ],
   "source": [
    "print(len(labels.unique()))\n",
    "print(labels.unique())"
   ]
  },
  {
   "cell_type": "code",
   "execution_count": 13,
   "id": "156b12ae",
   "metadata": {},
   "outputs": [],
   "source": [
    "df2 = df.sample(frac = 1)"
   ]
  },
  {
   "cell_type": "code",
   "execution_count": 14,
   "id": "33cb9e4c",
   "metadata": {},
   "outputs": [],
   "source": [
    "training_data, testing_data = train_test_split(df2, test_size=0.2, random_state=25)"
   ]
  },
  {
   "cell_type": "code",
   "execution_count": 15,
   "id": "5fc8d4b3",
   "metadata": {},
   "outputs": [],
   "source": [
    "train_features_shuffled = training_data.drop(columns=['index', 'image','species','individual_id','aspect_ratio'])\n",
    "train_labels_shuffled = training_data['species']\n",
    "train_ids_shuffled = training_data['individual_id']\n",
    "\n",
    "train_labels_shuffled.to_csv('train_labels_shuffled.csv')\n",
    "train_features_shuffled.to_csv('train_features_shuffled.csv')\n",
    "train_ids_shuffled.to_csv('train_ids_shuffled.csv')\n",
    "\n",
    "test_features_shuffled = testing_data.drop(columns=['index', 'image','species','individual_id','aspect_ratio'])\n",
    "test_labels_shuffled = testing_data['species']\n",
    "test_ids_shuffled = testing_data['individual_id']\n",
    "\n",
    "test_labels_shuffled.to_csv('test_labels_shuffled.csv')\n",
    "test_features_shuffled.to_csv('test_features_shuffled.csv')\n",
    "test_ids_shuffled.to_csv('test_ids_shuffled')"
   ]
  },
  {
   "cell_type": "code",
   "execution_count": 16,
   "id": "f0a65e68",
   "metadata": {},
   "outputs": [],
   "source": [
    "def test_model_accuracy(model, train_features, train_labels, test_features, test_labels):\n",
    "    \n",
    "    model.fit(train_features, train_labels)\n",
    "        \n",
    "    # Predict using k = k_value\n",
    "    y_predict = model.predict(test_features)\n",
    "        \n",
    "    # Get accuracy\n",
    "    accuracy = accuracy_score(test_labels, y_predict)*100\n",
    "    f1 = f1_score(test_labels, y_predict, average=\"weighted\")\n",
    "    \n",
    "    return accuracy, f1\n",
    "\n",
    "def test_cluster_accuracy(model, train_features, test_features):\n",
    "    \n",
    "    test_labels =  model.fit(test_features).predict(test_features)\n",
    "    train_labels = model.fit(train_features).predict(train_features)\n",
    "    model.fit(train_features)\n",
    "        \n",
    "    # Predict using k = k_value\n",
    "    y_predict = model.predict(test_features)\n",
    "        \n",
    "    # Get accuracy for each k_value\n",
    "    return accuracy_score(test_labels, y_predict)*100\n",
    "\n",
    "def plot_scores(param_list, score1_list, score2_list, param_name, score1_name, score2_name, model_name):\n",
    "    fig = plt.figure()\n",
    "    fig.suptitle(model_name + \" : \" + score1_name + \" vs. Value of \" + param_name)\n",
    "    ax = fig.add_axes([0,0,1,1])\n",
    "    ax.set_xlabel(\"Value of \" + param_name)\n",
    "    ax.set_ylabel(score1_name)\n",
    "    ax.set_ylim(0,50)\n",
    "    labels = list(map(str, param_list))\n",
    "    ax.bar(labels, score1_list)\n",
    "    plt.xticks(rotation=45, ha='right')\n",
    "    plt.show()\n",
    "    \n",
    "    fig = plt.figure()\n",
    "    fig.suptitle(model_name + \" : \" + score2_name + \" vs. Value of \" + param_name)\n",
    "    ax = fig.add_axes([0,0,1,1])\n",
    "    ax.set_xlabel(\"Value of \" + param_name)\n",
    "    ax.set_ylabel(score2_name)\n",
    "    ax.set_ylim(0,0.35)\n",
    "    labels = list(map(str, param_list))\n",
    "    ax.bar(labels, score2_list)\n",
    "    plt.xticks(rotation=45, ha='right')\n",
    "    plt.show()\n",
    "    "
   ]
  },
  {
   "cell_type": "code",
   "execution_count": 17,
   "id": "0c555df8",
   "metadata": {
    "scrolled": false
   },
   "outputs": [
    {
     "data": {
      "image/png": "[encoded data removed]",
      "text/plain": [
       "<Figure size 432x288 with 1 Axes>"
      ]
     },
     "metadata": {
      "needs_background": "light"
     },
     "output_type": "display_data"
    },
    {
     "data": {
      "image/png": "[encoded data removed]",
      "text/plain": [
       "<Figure size 432x288 with 1 Axes>"
      ]
     },
     "metadata": {
      "needs_background": "light"
     },
     "output_type": "display_data"
    }
   ],
   "source": [
    "#  K-Nearest Neighbors model\n",
    "knnmodel = KNeighborsClassifier(n_neighbors=1)\n",
    "\n",
    "k_values = [1,2,3,4,5,6,7,8,9,10,15,20,50,75,100]\n",
    "acc = list()\n",
    "f1_list = list()\n",
    "\n",
    "for i in range(len(k_values)):\n",
    "    knnmodel = KNeighborsClassifier(n_neighbors=k_values[i])\n",
    "    \n",
    "    ac,f1 =  test_model_accuracy(\n",
    "        knnmodel,\n",
    "        train_features_shuffled,\n",
    "        train_labels_shuffled,\n",
    "        test_features_shuffled,\n",
    "        test_labels_shuffled\n",
    "    )\n",
    "    \n",
    "    f1_list.append(f1)\n",
    "    acc.append(ac)\n",
    "\n",
    "\n",
    "plot_scores(k_values, acc, f1_list, \"K-value\", \"Accuracy\", \"F1 Score\", \"K-Means Classifier\")"
   ]
  },
  {
   "cell_type": "code",
   "execution_count": 18,
   "id": "3d9fd0ed",
   "metadata": {},
   "outputs": [
    {
     "data": {
      "image/png": "[encoded data removed]",
      "text/plain": [
       "<Figure size 432x288 with 1 Axes>"
      ]
     },
     "metadata": {
      "needs_background": "light"
     },
     "output_type": "display_data"
    },
    {
     "data": {
      "image/png": "[encoded data removed]",
      "text/plain": [
       "<Figure size 432x288 with 1 Axes>"
      ]
     },
     "metadata": {
      "needs_background": "light"
     },
     "output_type": "display_data"
    }
   ],
   "source": [
    "# Bernoulli Naive-Bayes\n",
    "alpha_list = [1.0e-10, 0.0001, 0.001, 0.01, 0.1, 0.5, 1.0, 2.0, 10.0]\n",
    "acc = list()\n",
    "f1_list = list()\n",
    "\n",
    "for i in range(len(alpha_list)):\n",
    "    nbmodel = BernoulliNB(alpha=alpha_list[i])\n",
    "    \n",
    "    ac,f1 = test_model_accuracy(\n",
    "        nbmodel,\n",
    "        train_features_shuffled,\n",
    "        train_labels_shuffled,\n",
    "        test_features_shuffled,\n",
    "        test_labels_shuffled\n",
    "    )\n",
    "    \n",
    "    f1_list.append(f1)\n",
    "    acc.append(ac)\n",
    "\n",
    "plot_scores(alpha_list, acc, f1_list, \"Alpha\", \"Accuracy\", \"F1 Score\", \"Bernoulli Naive-Bayes Classifier\")"
   ]
  },
  {
   "cell_type": "code",
   "execution_count": 19,
   "id": "f5f917e8",
   "metadata": {},
   "outputs": [
    {
     "data": {
      "image/png": "[encoded data removed]",
      "text/plain": [
       "<Figure size 432x288 with 1 Axes>"
      ]
     },
     "metadata": {
      "needs_background": "light"
     },
     "output_type": "display_data"
    },
    {
     "data": {
      "image/png": "[encoded data removed]",
      "text/plain": [
       "<Figure size 432x288 with 1 Axes>"
      ]
     },
     "metadata": {
      "needs_background": "light"
     },
     "output_type": "display_data"
    }
   ],
   "source": [
    "# Gaussian Naive-Bayes\n",
    "var_smoothing_list = [1.0e-10, 1.0e-9, 1.0e-8, 1.0e-7, 1.0e-6, 1.0e-5, \n",
    "                                0.0001, 0.001, 0.01, 0.1, 0.5, 1.0, 2.0, 10.0]\n",
    "acc = list()\n",
    "f1_list = list()\n",
    "\n",
    "for i in range(len(var_smoothing_list)):\n",
    "    gbmodel = GaussianNB(var_smoothing=var_smoothing_list[i])\n",
    "    ac,f1 = test_model_accuracy(\n",
    "        gbmodel,\n",
    "        train_features_shuffled,\n",
    "        train_labels_shuffled,\n",
    "        test_features_shuffled,\n",
    "        test_labels_shuffled\n",
    "    )\n",
    "    \n",
    "    f1_list.append(f1)\n",
    "    acc.append(ac)\n",
    "\n",
    "\n",
    "plot_scores(var_smoothing_list, acc, f1_list, \"Variable Smoothing\", \"Accuracy\", \"F1 Score\", \"Gaussian Naive-Bayes Classifier\")"
   ]
  },
  {
   "cell_type": "code",
   "execution_count": 20,
   "id": "31b5e7c9",
   "metadata": {},
   "outputs": [
    {
     "data": {
      "image/png": "[encoded data removed]",
      "text/plain": [
       "<Figure size 432x288 with 1 Axes>"
      ]
     },
     "metadata": {
      "needs_background": "light"
     },
     "output_type": "display_data"
    },
    {
     "data": {
      "image/png": "[encoded data removed]",
      "text/plain": [
       "<Figure size 432x288 with 1 Axes>"
      ]
     },
     "metadata": {
      "needs_background": "light"
     },
     "output_type": "display_data"
    }
   ],
   "source": [
    "# LogisticRegression\n",
    "c_list = [0.01, 0.1, 0.5, 0.75, 1.0,\n",
    "              1.5, 2.0, 10.0, 50, 100]\n",
    "acc = list()\n",
    "f1_list = list()\n",
    "    \n",
    "for i in range(len(c_list)):\n",
    "    lrmodel = LogisticRegression(C=c_list[i], solver=\"liblinear\", multi_class=\"auto\")\n",
    "    \n",
    "    ac,f1 = test_model_accuracy(\n",
    "        lrmodel,\n",
    "        train_features_shuffled,\n",
    "        train_labels_shuffled,\n",
    "        test_features_shuffled,\n",
    "        test_labels_shuffled\n",
    "    )\n",
    "    \n",
    "    f1_list.append(f1)\n",
    "    acc.append(ac)\n",
    "\n",
    "\n",
    "plot_scores(c_list, acc, f1_list, \"L2 Strength\", \"Accuracy\", \"F1 Score\", \"Logistic Regression Classifier\")"
   ]
  },
  {
   "cell_type": "code",
   "execution_count": 21,
   "id": "c12cb2ca",
   "metadata": {},
   "outputs": [
    {
     "name": "stdout",
     "output_type": "stream",
     "text": [
      "10.95890410958904\n"
     ]
    }
   ],
   "source": [
    "# K-Means clustering\n",
    "kmeans = KMeans(26, random_state=0)\n",
    "\n",
    "print(test_cluster_accuracy(kmeans, train_features_shuffled, test_features_shuffled))"
   ]
  },
  {
   "cell_type": "code",
   "execution_count": 22,
   "id": "e1474b6d",
   "metadata": {},
   "outputs": [],
   "source": [
    "# Gaussian Mixture Model clustering\n",
    "#gmm = GMM(n_components=26)\n",
    "\n",
    "#print(test_cluster_accuracy(gmm, train_features_shuffled, test_features_shuffled))"
   ]
  },
  {
   "cell_type": "code",
   "execution_count": 24,
   "id": "7613fe2b",
   "metadata": {},
   "outputs": [
    {
     "data": {
      "image/png": "[encoded data removed]",
      "text/plain": [
       "<Figure size 432x288 with 1 Axes>"
      ]
     },
     "metadata": {
      "needs_background": "light"
     },
     "output_type": "display_data"
    },
    {
     "data": {
      "image/png": "[encoded data removed]",
      "text/plain": [
       "<Figure size 432x288 with 1 Axes>"
      ]
     },
     "metadata": {
      "needs_background": "light"
     },
     "output_type": "display_data"
    }
   ],
   "source": [
    "# Decision tree\n",
    "\n",
    "max_depth_list = [10, 50, 100, 1000, None]\n",
    "acc = list()\n",
    "f1_list = list()\n",
    "    \n",
    "for i in range(len(max_depth_list)):\n",
    "    dt = DecisionTreeClassifier(max_depth=max_depth_list[i], criterion='entropy')\n",
    "    \n",
    "    ac,f1 = test_model_accuracy(\n",
    "        dt,\n",
    "        train_features_shuffled,\n",
    "        train_labels_shuffled,\n",
    "        test_features_shuffled,\n",
    "        test_labels_shuffled\n",
    "    )\n",
    "    \n",
    "    f1_list.append(f1)\n",
    "    acc.append(ac)\n",
    "\n",
    "\n",
    "plot_scores(max_depth_list, acc, f1_list, \"Maximum depth\", \"Accuracy\", \"F1 Score\", \"Decision Tree Classifier\")"
   ]
  },
  {
   "cell_type": "code",
   "execution_count": null,
   "id": "2e13db76",
   "metadata": {},
   "outputs": [],
   "source": [
    "# Neural Network\n",
    "\n",
    "def test_neural_network():\n",
    "    model = Sequential()\n",
    "    model.add(Dense(12, input_dim=65536, activation='relu'))\n",
    "    model.add(Dense(10, activation='relu'))\n",
    "    model.add(Dense(1, activation='sigmoid'))\n",
    "\n",
    "    # Compile the model and calculate its accuracy:\n",
    "    model.compile(loss='mean_squared_error', optimizer='sgd', metrics=['accuracy']) \n",
    "\n",
    "    # Print a summary of the Keras model:\n",
    "    #model.summary()\n",
    "    \n",
    "    # Convert labels to integers\n",
    "    \n",
    "    le = LabelEncoder()\n",
    "    train_labels = le.fit_transform(train_labels_shuffled)\n",
    "    test_labels = le.fit_transform(test_labels_shuffled)\n",
    "    \n",
    "    model.fit(train_features_shuffled, train_labels, batch_size=32, epochs=150)\n",
    "\n",
    "    y_predict = model.fit(test_features_shuffled)\n",
    "    \n",
    "    return accuracy_score(test_labels, y_predict)*100\n",
    "\n",
    "\n",
    "print(test_neural_network())"
   ]
  },
  {
   "cell_type": "code",
   "execution_count": null,
   "id": "7629611b",
   "metadata": {},
   "outputs": [],
   "source": []
  }
 ],
 "metadata": {
  "kernelspec": {
   "display_name": "Python 3",
   "language": "python",
   "name": "python3"
  },
  "language_info": {
   "codemirror_mode": {
    "name": "ipython",
    "version": 3
   },
   "file_extension": ".py",
   "mimetype": "text/x-python",
   "name": "python",
   "nbconvert_exporter": "python",
   "pygments_lexer": "ipython3",
   "version": "3.6.13"
  }
 },
 "nbformat": 4,
 "nbformat_minor": 5
}
