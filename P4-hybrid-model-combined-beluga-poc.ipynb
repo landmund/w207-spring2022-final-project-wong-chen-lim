{
 "cells": [
  {
   "cell_type": "markdown",
   "id": "49090298",
   "metadata": {
    "papermill": {
     "duration": 0.018594,
     "end_time": "2022-04-15T18:30:23.813794",
     "exception": false,
     "start_time": "2022-04-15T18:30:23.795200",
     "status": "completed"
    },
    "tags": []
   },
   "source": [
    "# Setup"
   ]
  },
  {
   "cell_type": "code",
   "execution_count": 1,
   "id": "afc495d3",
   "metadata": {
    "_cell_guid": "b1076dfc-b9ad-4769-8c92-a6c4dae69d19",
    "_uuid": "8f2839f25d086af736a60e9eeb907d3b93b6e0e5",
    "execution": {
     "iopub.execute_input": "2022-04-15T18:30:23.850885Z",
     "iopub.status.busy": "2022-04-15T18:30:23.849650Z",
     "iopub.status.idle": "2022-04-15T18:30:26.937157Z",
     "shell.execute_reply": "2022-04-15T18:30:26.936410Z",
     "shell.execute_reply.started": "2022-04-15T17:33:53.894279Z"
    },
    "papermill": {
     "duration": 3.106937,
     "end_time": "2022-04-15T18:30:26.937357",
     "exception": false,
     "start_time": "2022-04-15T18:30:23.830420",
     "status": "completed"
    },
    "tags": []
   },
   "outputs": [
    {
     "data": {
      "text/html": [
       "<style type='text/css'>\n",
       ".datatable table.frame { margin-bottom: 0; }\n",
       ".datatable table.frame thead { border-bottom: none; }\n",
       ".datatable table.frame tr.coltypes td {  color: #FFFFFF;  line-height: 6px;  padding: 0 0.5em;}\n",
       ".datatable .bool    { background: #DDDD99; }\n",
       ".datatable .object  { background: #565656; }\n",
       ".datatable .int     { background: #5D9E5D; }\n",
       ".datatable .float   { background: #4040CC; }\n",
       ".datatable .str     { background: #CC4040; }\n",
       ".datatable .time    { background: #40CC40; }\n",
       ".datatable .row_index {  background: var(--jp-border-color3);  border-right: 1px solid var(--jp-border-color0);  color: var(--jp-ui-font-color3);  font-size: 9px;}\n",
       ".datatable .frame tbody td { text-align: left; }\n",
       ".datatable .frame tr.coltypes .row_index {  background: var(--jp-border-color0);}\n",
       ".datatable th:nth-child(2) { padding-left: 12px; }\n",
       ".datatable .hellipsis {  color: var(--jp-cell-editor-border-color);}\n",
       ".datatable .vellipsis {  background: var(--jp-layout-color0);  color: var(--jp-cell-editor-border-color);}\n",
       ".datatable .na {  color: var(--jp-cell-editor-border-color);  font-size: 80%;}\n",
       ".datatable .sp {  opacity: 0.25;}\n",
       ".datatable .footer { font-size: 9px; }\n",
       ".datatable .frame_dimensions {  background: var(--jp-border-color3);  border-top: 1px solid var(--jp-border-color0);  color: var(--jp-ui-font-color3);  display: inline-block;  opacity: 0.6;  padding: 1px 10px 1px 5px;}\n",
       "</style>\n"
      ],
      "text/plain": [
       "<IPython.core.display.HTML object>"
      ]
     },
     "metadata": {},
     "output_type": "display_data"
    }
   ],
   "source": [
    "import gc\n",
    "import glob\n",
    "import os\n",
    "from numpy import save, load\n",
    "from random import seed\n",
    "from os import listdir\n",
    "from shutil import copyfile\n",
    "from random import seed\n",
    "from random import random\n",
    "\n",
    "import joblib\n",
    "import lightgbm as lgb\n",
    "import matplotlib.pyplot as plt\n",
    "import numpy as np\n",
    "import pandas as pd\n",
    "from sklearn.metrics import accuracy_score\n",
    "from sklearn.model_selection import train_test_split\n",
    "\n",
    "from contextlib import contextmanager\n",
    "from multiprocessing.pool import ThreadPool, Pool\n",
    "from joblib import Parallel, delayed\n",
    "import time\n",
    "\n",
    "from skimage.io import imread\n",
    "from skimage.transform import resize\n",
    "from skimage.color import rgb2gray, gray2rgb\n",
    "import matplotlib.pyplot as plt\n",
    "\n",
    "seed(2022)\n",
    "CPUS = 4 # kaggle default - https://www.kaggle.com/product-feedback/64106\n",
    "HAPPYWHALE_INPUT_DIR = \"/kaggle/input/happy-whale-and-dolphin\"\n",
    "SPECIES_MODEL_INPUT_DIR = \"/kaggle/input/cnn-species-sample6750-ep50\"\n",
    "BELUGA_MODEL_INPUT_DIR = '/kaggle/input/belugaxception'\n",
    "XCEPTION_PREDICTIONS = '/kaggle/input/xceptionspeciespredicted'\n",
    "# these are paramters to determine how to sample the initial training dataset\n",
    "MAX_INDIVIDUALS_PER_SPECIES = os.environ.get('MAX_INDIVIDUALS_PER_SPECIES', None) # none to include all\n",
    "MIN_IMAGES_PER_INDIVIDUAL_THRESHOLD = os.environ.get('MIN_IMAGES_PER_INDIVIDUAL_THRESHOLD', 0) # 0 to include all\n",
    "MAX_SAMPLE_DATA_SIZE = 10000 # change this to determine max images to include in training\n",
    "WORKING_DIR = \"/kaggle/working\"\n",
    "HEIGHT = 256\n",
    "WIDTH = 256\n",
    "VALIDATION_RATIO = .25 # used to split training and validation dataset\n",
    "IMARRAY_SIZE = (HEIGHT,WIDTH)\n",
    "\n",
    "EPOCHS = 10\n",
    "\n",
    "%matplotlib inline"
   ]
  },
  {
   "cell_type": "code",
   "execution_count": 2,
   "id": "b0310d91",
   "metadata": {
    "execution": {
     "iopub.execute_input": "2022-04-15T18:30:26.975190Z",
     "iopub.status.busy": "2022-04-15T18:30:26.974479Z",
     "iopub.status.idle": "2022-04-15T18:30:26.991714Z",
     "shell.execute_reply": "2022-04-15T18:30:26.991144Z",
     "shell.execute_reply.started": "2022-04-15T17:33:02.743852Z"
    },
    "papermill": {
     "duration": 0.037583,
     "end_time": "2022-04-15T18:30:26.991873",
     "exception": false,
     "start_time": "2022-04-15T18:30:26.954290",
     "status": "completed"
    },
    "tags": []
   },
   "outputs": [],
   "source": [
    "\n",
    "\n",
    "def convert_image_to_ndarray(img_path, output_size=IMARRAY_SIZE, color='normalize_gray'):\n",
    "    '''\n",
    "    reads the `img_path` and converts it to a numpy array of size `output_size`\n",
    "    Supported Options for `color`:\n",
    "    - 'normalize_gray'\n",
    "    - 'raw_rgb'\n",
    "    \n",
    "    Returns the \n",
    "    1. normalized and standardized image\n",
    "    2. aspect ratio of the original image\n",
    "    '''\n",
    "    # read input\n",
    "    im = imread(img_path)\n",
    "    if output_size == None:\n",
    "        return im\n",
    "    aspect_ratio = float(im.shape[1] / im.shape[0])\n",
    "    resized_im = resize(im, output_size)\n",
    "    if color == 'raw_rgb':\n",
    "        return resized_im, aspect_ratio\n",
    "    elif color == 'normalize_gray':\n",
    "        # if image only has 2 channels, it's already grayscale\n",
    "        if len(resized_im.shape) == 2:\n",
    "            return resized_im / np.max(resized_im), aspect_ratio\n",
    "        # if image has 3 channels. it's rgb and needs to be converted to grayscale\n",
    "        elif len(resized_im.shape) == 3:\n",
    "            gray_img = rgb2gray(resized_im)\n",
    "            # Now normalize gray image\n",
    "            gray_norm = gray_img / np.max(gray_img)\n",
    "            return gray_norm, aspect_ratio\n",
    "        \n",
    "def convert_ndarray_img_to_maintain_aspect_ratio(ndarray_img, ar):\n",
    "    '''\n",
    "    aspect ratio is width / height\n",
    "    '''\n",
    "    new_width = ndarray_img.shape[1]*ar # new width should be aspect ratio * img width\n",
    "    new_ar_shape = (ndarray_img.shape[0], new_width)\n",
    "    return resize(ndarray_img, new_ar_shape)\n",
    "\n",
    "@contextmanager\n",
    "def timer(name):\n",
    "    t0 = time.time()\n",
    "    yield\n",
    "    print('{0} done in {1:.3f} seconds.'.format(name, time.time() - t0))\n",
    "\n",
    "def split_df(df, num_splits, log=False):\n",
    "    \n",
    "    df_list = []\n",
    "    rows_splits = np.linspace(0, df.shape[0], num_splits+1).astype(int)\n",
    "    if log:\n",
    "        print('Split into {} parts'.format(num_splits))\n",
    "        print('Row splits:\\n{}'.format(rows_splits))\n",
    "    \n",
    "    for i in range(len(rows_splits) - 1):\n",
    "        df_list.append(df.iloc[rows_splits[i]:rows_splits[i+1]])\n",
    "        \n",
    "    return df_list[:num_splits]\n",
    "\n",
    "def split_arr(arr, num_splits, log=False):\n",
    "    rows_splits = np.linspace(0, df.shape[0], num_splits+1).astype(int)\n",
    "    if log:\n",
    "        print('Split into {} parts'.format(num_splits))\n",
    "        print('Row splits:\\n{}'.format(rows_splits))\n",
    "    \n",
    "    r_list = []\n",
    "    for i in range(len(rows_splits) - 1):\n",
    "        r_list.append(arr[rows_splits[i]:rows_splits[i+1]])\n",
    "        \n",
    "    return r_list[:num_splits]\n",
    "\n",
    "# create lambda function to construct the full path for a given image.\n",
    "# this is intended to be used on the `image` column in train.csv\n",
    "get_img_path = lambda img: os.path.join(HAPPYWHALE_INPUT_DIR, img)\n"
   ]
  },
  {
   "cell_type": "markdown",
   "id": "5a2a45b4",
   "metadata": {
    "papermill": {
     "duration": 0.016597,
     "end_time": "2022-04-15T18:30:27.025379",
     "exception": false,
     "start_time": "2022-04-15T18:30:27.008782",
     "status": "completed"
    },
    "tags": []
   },
   "source": [
    "# Load training data"
   ]
  },
  {
   "cell_type": "code",
   "execution_count": 3,
   "id": "aaad15a7",
   "metadata": {
    "execution": {
     "iopub.execute_input": "2022-04-15T18:30:27.065046Z",
     "iopub.status.busy": "2022-04-15T18:30:27.061622Z",
     "iopub.status.idle": "2022-04-15T18:30:27.257407Z",
     "shell.execute_reply": "2022-04-15T18:30:27.257942Z",
     "shell.execute_reply.started": "2022-04-15T17:33:04.137913Z"
    },
    "papermill": {
     "duration": 0.216268,
     "end_time": "2022-04-15T18:30:27.258124",
     "exception": false,
     "start_time": "2022-04-15T18:30:27.041856",
     "status": "completed"
    },
    "tags": []
   },
   "outputs": [],
   "source": [
    "\n",
    "train_csv_fn = \"train.csv\"\n",
    "# order by image jpg file and reset index to have deterministic index\n",
    "train_df = pd.read_csv(os.path.join(HAPPYWHALE_INPUT_DIR, train_csv_fn)).sort_values('image').reset_index()\n",
    "\n",
    "train_df.species.replace({\"globis\": \"short_finned_pilot_whale\",\n",
    "                          \"pilot_whale\": \"short_finned_pilot_whale\",\n",
    "                          \"kiler_whale\": \"killer_whale\",\n",
    "                          \"bottlenose_dolpin\": \"bottlenose_dolphin\"}, inplace=True)"
   ]
  },
  {
   "cell_type": "markdown",
   "id": "4f7061a4",
   "metadata": {
    "papermill": {
     "duration": 0.016321,
     "end_time": "2022-04-15T18:30:27.291977",
     "exception": false,
     "start_time": "2022-04-15T18:30:27.275656",
     "status": "completed"
    },
    "tags": []
   },
   "source": [
    "## Load P1_Xception Species Model\n",
    "\n",
    "This section also includes the predict_species function to use the loaded `p1_xception_species_model`."
   ]
  },
  {
   "cell_type": "code",
   "execution_count": 4,
   "id": "98f05d1b",
   "metadata": {
    "execution": {
     "iopub.execute_input": "2022-04-15T18:30:27.330690Z",
     "iopub.status.busy": "2022-04-15T18:30:27.329905Z",
     "iopub.status.idle": "2022-04-15T18:30:41.919123Z",
     "shell.execute_reply": "2022-04-15T18:30:41.918007Z",
     "shell.execute_reply.started": "2022-04-15T17:33:26.349319Z"
    },
    "papermill": {
     "duration": 14.610804,
     "end_time": "2022-04-15T18:30:41.919402",
     "exception": false,
     "start_time": "2022-04-15T18:30:27.308598",
     "status": "completed"
    },
    "tags": []
   },
   "outputs": [
    {
     "name": "stderr",
     "output_type": "stream",
     "text": [
      "2022-04-15 18:30:35.173895: I tensorflow/core/common_runtime/process_util.cc:146] Creating new thread pool with default inter op setting: 2. Tune using inter_op_parallelism_threads for best performance.\n"
     ]
    },
    {
     "name": "stdout",
     "output_type": "stream",
     "text": [
      "Loading p1_xception_species_model done in 8.269 seconds.\n"
     ]
    }
   ],
   "source": [
    "from tensorflow import keras\n",
    "with timer('Loading p1_xception_species_model'):\n",
    "    p1_xception_species_model = keras.models.load_model(\"{}/{}\".format(SPECIES_MODEL_INPUT_DIR,\n",
    "                                                                   \"model_fine_ep14_valloss0.388.h5\"))"
   ]
  },
  {
   "cell_type": "code",
   "execution_count": 5,
   "id": "0e03603d",
   "metadata": {
    "execution": {
     "iopub.execute_input": "2022-04-15T18:30:41.959399Z",
     "iopub.status.busy": "2022-04-15T18:30:41.958693Z",
     "iopub.status.idle": "2022-04-15T18:30:41.975853Z",
     "shell.execute_reply": "2022-04-15T18:30:41.976427Z",
     "shell.execute_reply.started": "2022-04-15T18:24:44.012844Z"
    },
    "papermill": {
     "duration": 0.038602,
     "end_time": "2022-04-15T18:30:41.976621",
     "exception": false,
     "start_time": "2022-04-15T18:30:41.938019",
     "status": "completed"
    },
    "tags": []
   },
   "outputs": [],
   "source": [
    "import numpy as np\n",
    "from keras.applications.xception import preprocess_input\n",
    "from keras.preprocessing import image\n",
    "from keras.models import load_model\n",
    "\n",
    "def infer(model, classes, image_path, top_n=5, log=False):\n",
    "    '''\n",
    "    Reference https://github.com/otenim/Xception-with-Your-Own-Dataset/blob/master/inference.py\n",
    "    '''\n",
    "    \n",
    "\n",
    "    # load an input image\n",
    "    img = image.load_img(image_path, target_size=(HEIGHT, WIDTH))\n",
    "    x = image.img_to_array(img)\n",
    "    x = np.expand_dims(x, axis=0)\n",
    "    x = preprocess_input(x)\n",
    "\n",
    "    # predict\n",
    "    pred = model.predict(x)[0]\n",
    "    result = [(classes[i], float(pred[i]) * 100.0) for i in range(len(pred))]\n",
    "    result.sort(reverse=True, key=lambda x: x[1])\n",
    "    for i in range(top_n):\n",
    "        (class_name, prob) = result[i]\n",
    "        if log:\n",
    "            print(\"Top %d ====================\" % (i + 1))\n",
    "            print(\"Class name: %s\" % (class_name))\n",
    "            print(\"Probability: %.2f%%\" % (prob))\n",
    "    return result[:top_n]\n",
    "\n",
    "\n",
    "def predict_species(model, image_jpg, log=False):\n",
    "    # classes must be sorted bc thats how the model was trained\n",
    "    species_classes = sorted(os.listdir(\"{}/train\".format(SPECIES_MODEL_INPUT_DIR)))\n",
    "    return infer(model,\n",
    "                 classes=species_classes,\n",
    "                 image_path=get_img_path('train_images/{}'.format(image_jpg)),\n",
    "                log=log)\n",
    "\n",
    "def predict_beluga_individual_id(model, classes, image_jpg, log=False):\n",
    "    return infer(model,\n",
    "                 classes=classes,\n",
    "                 image_path=get_img_path('train_images/{}'.format(image_jpg)),\n",
    "                log=log)\n",
    "\n",
    "def top_5_beluga_individual_id(df, model, classes, log=False):\n",
    "#     top_5_list = []\n",
    "#     for index, row in df.iterrows():\n",
    "#         top_5 = predict_beluga_individual_id(model, classes, row.image, log=log)\n",
    "        \n",
    "        \n",
    "    top_5 = [predict_beluga_individual_id(model, classes, img, log=log) for img in df.image]\n",
    "    for i in range(5):\n",
    "        df['predicted_id_{}'.format(i+1)] = [pred[i][0] for pred in top_5]\n",
    "        df['predicted_prob_{}'.format(i+1)] = [pred[i][1] for pred in top_5]\n",
    "    return df\n",
    "\n",
    "def batch_predict(df, model, classes=None, log=False, target='species'):\n",
    "    if target == 'species':\n",
    "        df['predicted_species'] = [predict_species(model, img)[0][0] for img in df.image]\n",
    "    elif target == 'id':\n",
    "        df = top_5_beluga_individual_id(df, model, classes)#df.apply(top_5_beluga_individual_id, args=(model, classes, log))\n",
    "#         df['predicted_id'] = [predict_beluga_individual_id(model, classes, img)[0][0] for img in df.image]\n",
    "    return df"
   ]
  },
  {
   "cell_type": "markdown",
   "id": "4742d9d5",
   "metadata": {
    "papermill": {
     "duration": 0.017865,
     "end_time": "2022-04-15T18:30:42.011656",
     "exception": false,
     "start_time": "2022-04-15T18:30:41.993791",
     "status": "completed"
    },
    "tags": []
   },
   "source": [
    "## Predicting belugas and subsetting only beluga whales for individual id prediction"
   ]
  },
  {
   "cell_type": "code",
   "execution_count": 6,
   "id": "5787acc5",
   "metadata": {
    "execution": {
     "iopub.execute_input": "2022-04-15T18:30:42.054166Z",
     "iopub.status.busy": "2022-04-15T18:30:42.053293Z",
     "iopub.status.idle": "2022-04-15T18:30:42.213404Z",
     "shell.execute_reply": "2022-04-15T18:30:42.212680Z",
     "shell.execute_reply.started": "2022-04-15T17:35:40.865252Z"
    },
    "papermill": {
     "duration": 0.184144,
     "end_time": "2022-04-15T18:30:42.213559",
     "exception": false,
     "start_time": "2022-04-15T18:30:42.029415",
     "status": "completed"
    },
    "tags": []
   },
   "outputs": [],
   "source": [
    "predicted_species_df = pd.read_csv('{}/p1_predicted_species.csv'.format(XCEPTION_PREDICTIONS))\n",
    "correct_predictions = predicted_species_df[predicted_species_df['predicted_species'] == predicted_species_df['species']]\n",
    "incorrect_predictions = predicted_species_df[predicted_species_df['predicted_species'] != predicted_species_df['species']]"
   ]
  },
  {
   "cell_type": "code",
   "execution_count": 7,
   "id": "d8a9a608",
   "metadata": {
    "execution": {
     "iopub.execute_input": "2022-04-15T18:30:42.251853Z",
     "iopub.status.busy": "2022-04-15T18:30:42.251180Z",
     "iopub.status.idle": "2022-04-15T18:30:42.255588Z",
     "shell.execute_reply": "2022-04-15T18:30:42.256217Z",
     "shell.execute_reply.started": "2022-04-15T17:36:43.763201Z"
    },
    "papermill": {
     "duration": 0.025654,
     "end_time": "2022-04-15T18:30:42.256428",
     "exception": false,
     "start_time": "2022-04-15T18:30:42.230774",
     "status": "completed"
    },
    "tags": []
   },
   "outputs": [
    {
     "name": "stdout",
     "output_type": "stream",
     "text": [
      "Overall species accuracy:  0.8301883095252092\n"
     ]
    }
   ],
   "source": [
    "species_accuracy = len(correct_predictions) / len(predicted_species_df)\n",
    "print('Overall species accuracy: ', species_accuracy)"
   ]
  },
  {
   "cell_type": "code",
   "execution_count": 8,
   "id": "3853c145",
   "metadata": {
    "execution": {
     "iopub.execute_input": "2022-04-15T18:30:42.296786Z",
     "iopub.status.busy": "2022-04-15T18:30:42.296080Z",
     "iopub.status.idle": "2022-04-15T18:30:42.337403Z",
     "shell.execute_reply": "2022-04-15T18:30:42.336693Z",
     "shell.execute_reply.started": "2022-04-15T17:45:20.730977Z"
    },
    "papermill": {
     "duration": 0.061887,
     "end_time": "2022-04-15T18:30:42.337562",
     "exception": false,
     "start_time": "2022-04-15T18:30:42.275675",
     "status": "completed"
    },
    "tags": []
   },
   "outputs": [],
   "source": [
    "belugas_only = predicted_species_df[predicted_species_df['species'] == 'beluga']\n",
    "predicted_belugas = predicted_species_df[predicted_species_df['predicted_species'] == 'beluga']\n",
    "all_belugas = pd.concat([belugas_only, predicted_belugas]).drop_duplicates()"
   ]
  },
  {
   "cell_type": "code",
   "execution_count": 9,
   "id": "79b1611c",
   "metadata": {
    "execution": {
     "iopub.execute_input": "2022-04-15T18:30:42.380254Z",
     "iopub.status.busy": "2022-04-15T18:30:42.379468Z",
     "iopub.status.idle": "2022-04-15T18:30:48.308750Z",
     "shell.execute_reply": "2022-04-15T18:30:48.307753Z",
     "shell.execute_reply.started": "2022-04-15T18:00:36.469781Z"
    },
    "papermill": {
     "duration": 5.953578,
     "end_time": "2022-04-15T18:30:48.308977",
     "exception": false,
     "start_time": "2022-04-15T18:30:42.355399",
     "status": "completed"
    },
    "tags": []
   },
   "outputs": [
    {
     "name": "stdout",
     "output_type": "stream",
     "text": [
      "Loading belugas_id_model done in 5.923 seconds.\n"
     ]
    }
   ],
   "source": [
    "with timer('Loading belugas_id_model'):\n",
    "    belugas_id_model = keras.models.load_model(\"{}/{}\".format(BELUGA_MODEL_INPUT_DIR,\n",
    "                                                                   \"model_fine_ep10_valloss9.626.h5\"))"
   ]
  },
  {
   "cell_type": "code",
   "execution_count": 10,
   "id": "38c49796",
   "metadata": {
    "execution": {
     "iopub.execute_input": "2022-04-15T18:30:48.354903Z",
     "iopub.status.busy": "2022-04-15T18:30:48.354185Z",
     "iopub.status.idle": "2022-04-15T19:05:16.099813Z",
     "shell.execute_reply": "2022-04-15T19:05:16.100395Z",
     "shell.execute_reply.started": "2022-04-15T18:24:47.572488Z"
    },
    "papermill": {
     "duration": 2067.772674,
     "end_time": "2022-04-15T19:05:16.100840",
     "exception": false,
     "start_time": "2022-04-15T18:30:48.328166",
     "status": "completed"
    },
    "tags": []
   },
   "outputs": [
    {
     "name": "stderr",
     "output_type": "stream",
     "text": [
      "2022-04-15 18:30:48.474356: I tensorflow/compiler/mlir/mlir_graph_optimization_pass.cc:185] None of the MLIR Optimization Passes are enabled (registered 2)\n"
     ]
    },
    {
     "name": "stdout",
     "output_type": "stream",
     "text": [
      "P2 beluga individual id predict done in 2067.549 seconds.\n"
     ]
    }
   ],
   "source": [
    "classes = sorted(belugas_only[belugas_only['species']=='beluga']['individual_id'].unique())\n",
    "with timer('P2 beluga individual id predict'):\n",
    "    r = batch_predict(all_belugas, belugas_id_model, classes=classes, target='id')\n",
    "r.to_csv('p2_predicted_individual_beluga_id.csv')"
   ]
  },
  {
   "cell_type": "code",
   "execution_count": 11,
   "id": "1acdd1e0",
   "metadata": {
    "execution": {
     "iopub.execute_input": "2022-04-15T19:05:16.153502Z",
     "iopub.status.busy": "2022-04-15T19:05:16.152729Z",
     "iopub.status.idle": "2022-04-15T19:05:16.182982Z",
     "shell.execute_reply": "2022-04-15T19:05:16.183580Z",
     "shell.execute_reply.started": "2022-04-15T18:24:50.305749Z"
    },
    "papermill": {
     "duration": 0.063712,
     "end_time": "2022-04-15T19:05:16.183775",
     "exception": false,
     "start_time": "2022-04-15T19:05:16.120063",
     "status": "completed"
    },
    "tags": []
   },
   "outputs": [
    {
     "data": {
      "text/html": [
       "<div>\n",
       "<style scoped>\n",
       "    .dataframe tbody tr th:only-of-type {\n",
       "        vertical-align: middle;\n",
       "    }\n",
       "\n",
       "    .dataframe tbody tr th {\n",
       "        vertical-align: top;\n",
       "    }\n",
       "\n",
       "    .dataframe thead th {\n",
       "        text-align: right;\n",
       "    }\n",
       "</style>\n",
       "<table border=\"1\" class=\"dataframe\">\n",
       "  <thead>\n",
       "    <tr style=\"text-align: right;\">\n",
       "      <th></th>\n",
       "      <th>Unnamed: 0</th>\n",
       "      <th>index</th>\n",
       "      <th>image</th>\n",
       "      <th>species</th>\n",
       "      <th>individual_id</th>\n",
       "      <th>predicted_species</th>\n",
       "      <th>predicted_id_1</th>\n",
       "      <th>predicted_prob_1</th>\n",
       "      <th>predicted_id_2</th>\n",
       "      <th>predicted_prob_2</th>\n",
       "      <th>predicted_id_3</th>\n",
       "      <th>predicted_prob_3</th>\n",
       "      <th>predicted_id_4</th>\n",
       "      <th>predicted_prob_4</th>\n",
       "      <th>predicted_id_5</th>\n",
       "      <th>predicted_prob_5</th>\n",
       "    </tr>\n",
       "  </thead>\n",
       "  <tbody>\n",
       "    <tr>\n",
       "      <th>6</th>\n",
       "      <td>6</td>\n",
       "      <td>6</td>\n",
       "      <td>000be9acf46619.jpg</td>\n",
       "      <td>beluga</td>\n",
       "      <td>afb9b3978217</td>\n",
       "      <td>beluga</td>\n",
       "      <td>6f47542558a1</td>\n",
       "      <td>55.070007</td>\n",
       "      <td>afb9b3978217</td>\n",
       "      <td>37.499511</td>\n",
       "      <td>d155445f3213</td>\n",
       "      <td>3.615727</td>\n",
       "      <td>cf0fd38d30ae</td>\n",
       "      <td>1.127177</td>\n",
       "      <td>2e268c8dbd31</td>\n",
       "      <td>1.052630</td>\n",
       "    </tr>\n",
       "    <tr>\n",
       "      <th>8</th>\n",
       "      <td>8</td>\n",
       "      <td>8</td>\n",
       "      <td>000c3d63069748.jpg</td>\n",
       "      <td>beluga</td>\n",
       "      <td>df94b15285b9</td>\n",
       "      <td>beluga</td>\n",
       "      <td>df94b15285b9</td>\n",
       "      <td>91.257328</td>\n",
       "      <td>191e293af2b5</td>\n",
       "      <td>8.136679</td>\n",
       "      <td>aeae6f5bf5cd</td>\n",
       "      <td>0.344812</td>\n",
       "      <td>29623de1f9a5</td>\n",
       "      <td>0.099005</td>\n",
       "      <td>5fc809d9e819</td>\n",
       "      <td>0.035668</td>\n",
       "    </tr>\n",
       "    <tr>\n",
       "      <th>13</th>\n",
       "      <td>13</td>\n",
       "      <td>13</td>\n",
       "      <td>00167e8375c967.jpg</td>\n",
       "      <td>beluga</td>\n",
       "      <td>0ad50d0d9b06</td>\n",
       "      <td>beluga</td>\n",
       "      <td>d155445f3213</td>\n",
       "      <td>34.409979</td>\n",
       "      <td>985e7d6a8052</td>\n",
       "      <td>16.406746</td>\n",
       "      <td>aeae6f5bf5cd</td>\n",
       "      <td>6.650720</td>\n",
       "      <td>5ac053677ed1</td>\n",
       "      <td>6.385757</td>\n",
       "      <td>3d5a4dd24d21</td>\n",
       "      <td>6.084830</td>\n",
       "    </tr>\n",
       "    <tr>\n",
       "      <th>25</th>\n",
       "      <td>25</td>\n",
       "      <td>25</td>\n",
       "      <td>00243d4b15bafc.jpg</td>\n",
       "      <td>beluga</td>\n",
       "      <td>3cbfd98eea8f</td>\n",
       "      <td>beluga</td>\n",
       "      <td>84502c5db6bc</td>\n",
       "      <td>27.763629</td>\n",
       "      <td>ace276611cba</td>\n",
       "      <td>13.899772</td>\n",
       "      <td>5cdd8c0d46d9</td>\n",
       "      <td>11.623245</td>\n",
       "      <td>9336b7a2ae28</td>\n",
       "      <td>7.346926</td>\n",
       "      <td>06ef73efe924</td>\n",
       "      <td>7.319721</td>\n",
       "    </tr>\n",
       "    <tr>\n",
       "      <th>34</th>\n",
       "      <td>34</td>\n",
       "      <td>34</td>\n",
       "      <td>00354cd9244e28.jpg</td>\n",
       "      <td>beluga</td>\n",
       "      <td>a03830613b45</td>\n",
       "      <td>beluga</td>\n",
       "      <td>d9517eb16bd3</td>\n",
       "      <td>15.714386</td>\n",
       "      <td>9a149b8ff660</td>\n",
       "      <td>14.098999</td>\n",
       "      <td>84502c5db6bc</td>\n",
       "      <td>11.948583</td>\n",
       "      <td>262f464ee602</td>\n",
       "      <td>9.034760</td>\n",
       "      <td>a03830613b45</td>\n",
       "      <td>8.565432</td>\n",
       "    </tr>\n",
       "    <tr>\n",
       "      <th>...</th>\n",
       "      <td>...</td>\n",
       "      <td>...</td>\n",
       "      <td>...</td>\n",
       "      <td>...</td>\n",
       "      <td>...</td>\n",
       "      <td>...</td>\n",
       "      <td>...</td>\n",
       "      <td>...</td>\n",
       "      <td>...</td>\n",
       "      <td>...</td>\n",
       "      <td>...</td>\n",
       "      <td>...</td>\n",
       "      <td>...</td>\n",
       "      <td>...</td>\n",
       "      <td>...</td>\n",
       "      <td>...</td>\n",
       "    </tr>\n",
       "    <tr>\n",
       "      <th>50894</th>\n",
       "      <td>50894</td>\n",
       "      <td>50894</td>\n",
       "      <td>ff4d68370bdec9.jpg</td>\n",
       "      <td>humpback_whale</td>\n",
       "      <td>031816fd9d9d</td>\n",
       "      <td>beluga</td>\n",
       "      <td>84a261c0e5cf</td>\n",
       "      <td>23.520933</td>\n",
       "      <td>247e4c6de07e</td>\n",
       "      <td>20.279676</td>\n",
       "      <td>cf0fd38d30ae</td>\n",
       "      <td>10.385996</td>\n",
       "      <td>edf59f267081</td>\n",
       "      <td>9.496196</td>\n",
       "      <td>d155445f3213</td>\n",
       "      <td>7.901943</td>\n",
       "    </tr>\n",
       "    <tr>\n",
       "      <th>50948</th>\n",
       "      <td>50948</td>\n",
       "      <td>50948</td>\n",
       "      <td>ff96d5f69628ad.jpg</td>\n",
       "      <td>humpback_whale</td>\n",
       "      <td>2e4e27f72c73</td>\n",
       "      <td>beluga</td>\n",
       "      <td>5185e90ddcb1</td>\n",
       "      <td>61.026078</td>\n",
       "      <td>8ca74f512aa5</td>\n",
       "      <td>26.382202</td>\n",
       "      <td>0ad50d0d9b06</td>\n",
       "      <td>6.376754</td>\n",
       "      <td>8274ddd12a43</td>\n",
       "      <td>2.435383</td>\n",
       "      <td>cd720f8127f5</td>\n",
       "      <td>0.784566</td>\n",
       "    </tr>\n",
       "    <tr>\n",
       "      <th>50966</th>\n",
       "      <td>50966</td>\n",
       "      <td>50966</td>\n",
       "      <td>ffa82c7b455a9b.jpg</td>\n",
       "      <td>gray_whale</td>\n",
       "      <td>416c48277ab4</td>\n",
       "      <td>beluga</td>\n",
       "      <td>5fc809d9e819</td>\n",
       "      <td>32.759878</td>\n",
       "      <td>cf0fd38d30ae</td>\n",
       "      <td>20.333934</td>\n",
       "      <td>d3f7b6ee4291</td>\n",
       "      <td>13.025984</td>\n",
       "      <td>191e293af2b5</td>\n",
       "      <td>7.076839</td>\n",
       "      <td>91970ecd7d55</td>\n",
       "      <td>5.711379</td>\n",
       "    </tr>\n",
       "    <tr>\n",
       "      <th>51022</th>\n",
       "      <td>51022</td>\n",
       "      <td>51022</td>\n",
       "      <td>fff219829b3c68.jpg</td>\n",
       "      <td>long_finned_pilot_whale</td>\n",
       "      <td>ada9e2afe2bd</td>\n",
       "      <td>beluga</td>\n",
       "      <td>3a055fad1478</td>\n",
       "      <td>83.204055</td>\n",
       "      <td>212a788c210d</td>\n",
       "      <td>9.935261</td>\n",
       "      <td>0a67aa3bfe4e</td>\n",
       "      <td>0.952378</td>\n",
       "      <td>44bd3fec6ad6</td>\n",
       "      <td>0.922049</td>\n",
       "      <td>863b52580868</td>\n",
       "      <td>0.729540</td>\n",
       "    </tr>\n",
       "    <tr>\n",
       "      <th>51029</th>\n",
       "      <td>51029</td>\n",
       "      <td>51029</td>\n",
       "      <td>fff8b32daff17e.jpg</td>\n",
       "      <td>cuviers_beaked_whale</td>\n",
       "      <td>1184686361b3</td>\n",
       "      <td>beluga</td>\n",
       "      <td>59abcc1b41ec</td>\n",
       "      <td>14.978009</td>\n",
       "      <td>7845337998d6</td>\n",
       "      <td>12.259626</td>\n",
       "      <td>2e268c8dbd31</td>\n",
       "      <td>9.343797</td>\n",
       "      <td>edf59f267081</td>\n",
       "      <td>9.283505</td>\n",
       "      <td>262f464ee602</td>\n",
       "      <td>6.446706</td>\n",
       "    </tr>\n",
       "  </tbody>\n",
       "</table>\n",
       "<p>7852 rows × 16 columns</p>\n",
       "</div>"
      ],
      "text/plain": [
       "       Unnamed: 0  index               image                  species  \\\n",
       "6               6      6  000be9acf46619.jpg                   beluga   \n",
       "8               8      8  000c3d63069748.jpg                   beluga   \n",
       "13             13     13  00167e8375c967.jpg                   beluga   \n",
       "25             25     25  00243d4b15bafc.jpg                   beluga   \n",
       "34             34     34  00354cd9244e28.jpg                   beluga   \n",
       "...           ...    ...                 ...                      ...   \n",
       "50894       50894  50894  ff4d68370bdec9.jpg           humpback_whale   \n",
       "50948       50948  50948  ff96d5f69628ad.jpg           humpback_whale   \n",
       "50966       50966  50966  ffa82c7b455a9b.jpg               gray_whale   \n",
       "51022       51022  51022  fff219829b3c68.jpg  long_finned_pilot_whale   \n",
       "51029       51029  51029  fff8b32daff17e.jpg     cuviers_beaked_whale   \n",
       "\n",
       "      individual_id predicted_species predicted_id_1  predicted_prob_1  \\\n",
       "6      afb9b3978217            beluga   6f47542558a1         55.070007   \n",
       "8      df94b15285b9            beluga   df94b15285b9         91.257328   \n",
       "13     0ad50d0d9b06            beluga   d155445f3213         34.409979   \n",
       "25     3cbfd98eea8f            beluga   84502c5db6bc         27.763629   \n",
       "34     a03830613b45            beluga   d9517eb16bd3         15.714386   \n",
       "...             ...               ...            ...               ...   \n",
       "50894  031816fd9d9d            beluga   84a261c0e5cf         23.520933   \n",
       "50948  2e4e27f72c73            beluga   5185e90ddcb1         61.026078   \n",
       "50966  416c48277ab4            beluga   5fc809d9e819         32.759878   \n",
       "51022  ada9e2afe2bd            beluga   3a055fad1478         83.204055   \n",
       "51029  1184686361b3            beluga   59abcc1b41ec         14.978009   \n",
       "\n",
       "      predicted_id_2  predicted_prob_2 predicted_id_3  predicted_prob_3  \\\n",
       "6       afb9b3978217         37.499511   d155445f3213          3.615727   \n",
       "8       191e293af2b5          8.136679   aeae6f5bf5cd          0.344812   \n",
       "13      985e7d6a8052         16.406746   aeae6f5bf5cd          6.650720   \n",
       "25      ace276611cba         13.899772   5cdd8c0d46d9         11.623245   \n",
       "34      9a149b8ff660         14.098999   84502c5db6bc         11.948583   \n",
       "...              ...               ...            ...               ...   \n",
       "50894   247e4c6de07e         20.279676   cf0fd38d30ae         10.385996   \n",
       "50948   8ca74f512aa5         26.382202   0ad50d0d9b06          6.376754   \n",
       "50966   cf0fd38d30ae         20.333934   d3f7b6ee4291         13.025984   \n",
       "51022   212a788c210d          9.935261   0a67aa3bfe4e          0.952378   \n",
       "51029   7845337998d6         12.259626   2e268c8dbd31          9.343797   \n",
       "\n",
       "      predicted_id_4  predicted_prob_4 predicted_id_5  predicted_prob_5  \n",
       "6       cf0fd38d30ae          1.127177   2e268c8dbd31          1.052630  \n",
       "8       29623de1f9a5          0.099005   5fc809d9e819          0.035668  \n",
       "13      5ac053677ed1          6.385757   3d5a4dd24d21          6.084830  \n",
       "25      9336b7a2ae28          7.346926   06ef73efe924          7.319721  \n",
       "34      262f464ee602          9.034760   a03830613b45          8.565432  \n",
       "...              ...               ...            ...               ...  \n",
       "50894   edf59f267081          9.496196   d155445f3213          7.901943  \n",
       "50948   8274ddd12a43          2.435383   cd720f8127f5          0.784566  \n",
       "50966   191e293af2b5          7.076839   91970ecd7d55          5.711379  \n",
       "51022   44bd3fec6ad6          0.922049   863b52580868          0.729540  \n",
       "51029   edf59f267081          9.283505   262f464ee602          6.446706  \n",
       "\n",
       "[7852 rows x 16 columns]"
      ]
     },
     "execution_count": 11,
     "metadata": {},
     "output_type": "execute_result"
    }
   ],
   "source": [
    "r"
   ]
  },
  {
   "cell_type": "code",
   "execution_count": null,
   "id": "a4603039",
   "metadata": {
    "papermill": {
     "duration": 0.019287,
     "end_time": "2022-04-15T19:05:16.222857",
     "exception": false,
     "start_time": "2022-04-15T19:05:16.203570",
     "status": "completed"
    },
    "tags": []
   },
   "outputs": [],
   "source": []
  }
 ],
 "metadata": {
  "kernelspec": {
   "display_name": "Python 3",
   "language": "python",
   "name": "python3"
  },
  "language_info": {
   "codemirror_mode": {
    "name": "ipython",
    "version": 3
   },
   "file_extension": ".py",
   "mimetype": "text/x-python",
   "name": "python",
   "nbconvert_exporter": "python",
   "pygments_lexer": "ipython3",
   "version": "3.7.12"
  },
  "papermill": {
   "default_parameters": {},
   "duration": 2107.998261,
   "end_time": "2022-04-15T19:05:19.757580",
   "environment_variables": {},
   "exception": null,
   "input_path": "__notebook__.ipynb",
   "output_path": "__notebook__.ipynb",
   "parameters": {},
   "start_time": "2022-04-15T18:30:11.759319",
   "version": "2.3.3"
  }
 },
 "nbformat": 4,
 "nbformat_minor": 5
}
